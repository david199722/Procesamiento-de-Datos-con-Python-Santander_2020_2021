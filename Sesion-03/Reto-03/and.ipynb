{
  "nbformat": 4,
  "nbformat_minor": 0,
  "metadata": {
    "kernelspec": {
      "display_name": "Python 3",
      "language": "python",
      "name": "python3"
    },
    "language_info": {
      "codemirror_mode": {
        "name": "ipython",
        "version": 3
      },
      "file_extension": ".py",
      "mimetype": "text/x-python",
      "name": "python",
      "nbconvert_exporter": "python",
      "pygments_lexer": "ipython3",
      "version": "3.8.3"
    },
    "colab": {
      "name": "and.ipynb",
      "provenance": []
    }
  },
  "cells": [
    {
      "cell_type": "markdown",
      "metadata": {
        "id": "05IfF42ABt57"
      },
      "source": [
        "## Reto 3: And\n",
        "\n",
        "### 1. Objetivos:\n",
        "    - Practicar el operador `and` y usarlo para realizar filtros más complejos\n",
        " \n",
        "---\n",
        "    \n",
        "### 2. Desarrollo:"
      ]
    },
    {
      "cell_type": "markdown",
      "metadata": {
        "id": "B1yFxg37Bt6D"
      },
      "source": [
        "#### a) Filtrando valores atípicos en ambos extremos.\n",
        "\n",
        "Regresemos a nuestro ejemplo de EyePoker Inc. Esta vez tenemos un nuevo conjunto de datos con más empleados (la industria de picadores de ojos va en aumento vertiginoso). Además incluye los sueldos de algunos internos. Estos sueldos son muy bajos (simbólicos, podríamos llamarlos), como puedes ver:"
      ]
    },
    {
      "cell_type": "code",
      "metadata": {
        "id": "kUYJVMbFBt6I"
      },
      "source": [
        "sueldos = [26, 32, 26, 1.5, 30, 30, 1, 2, 32, 28, 30, 28, 30, 28, 27, 30, 110, 1.5, 2, 34, 30, 28, 26, 28, 2, 30, 28, 85, 25, 1.5,\n",
        "           1.5, 30, 34, 34, 30, 30, 120, 28, 2, 2, 1.5, 28, 120, 1, 1.5, 125, 2, 1.5, 28, 29, 30, 34, 33, 28, 2, 1, 1.5, 26, 28,\n",
        "          26, 26, 30, 30, 28, 2, 2, 1.5, 2, 1.5, 28, 27, 130, 1.5, 2, 26, 26, 28, 30, 30, 30, 28, 28, 1, 1, 135, 1, 1, 1.5, 2,\n",
        "          2, 2, 1.5, 2]"
      ],
      "execution_count": 1,
      "outputs": []
    },
    {
      "cell_type": "markdown",
      "metadata": {
        "id": "MhSJIyqGBt6Z"
      },
      "source": [
        "En realidad a nosotros sólo nos interesa analizar los sueldos de los empleados que tiene la empresa a largo plazo. Como tenemos bastantes internos, es muy probable que la inclusión de estos sueldos vaya a distorsionar nuestro cálculo del sueldo `típico` en la empresa:"
      ]
    },
    {
      "cell_type": "code",
      "metadata": {
        "id": "ZDMa1-LpBt6n",
        "outputId": "04b3d14a-e249-4797-f5dc-581ab73db128",
        "colab": {
          "base_uri": "https://localhost:8080/"
        }
      },
      "source": [
        "print(f'El sueldo \"típico\" en EyePoker Inc. es de {sum(sueldos) / len(sueldos)}')"
      ],
      "execution_count": 2,
      "outputs": [
        {
          "output_type": "stream",
          "text": [
            "El sueldo \"típico\" en EyePoker Inc. es de 25.36021505376344\n"
          ],
          "name": "stdout"
        }
      ]
    },
    {
      "cell_type": "markdown",
      "metadata": {
        "id": "hsJCQ02ABt6q"
      },
      "source": [
        "Para evitar esta distorsión y calcular solamente el sueldo `típico` de los empleados que están contratados a largo plazo, vamos a filtrar nuestra lista.\n",
        "\n",
        "Lo que tienes que hacer es lo siguiente:\n",
        "\n",
        "1. Define una función que regrese `True` cuando el argumento sea mayor que 20.\n",
        "2. Define una función que regrese `True` cuando el argumento sea menor que 40.\n",
        "3. Define una tercera función que una las dos primeras funciones usando un operador `and`.\n",
        "4. Filtrar la lista y asignarla a `sueldos_filtrados`."
      ]
    },
    {
      "cell_type": "code",
      "metadata": {
        "id": "i32R4m_wBt6t"
      },
      "source": [
        "# Aquí va tu primera función\n",
        "def funcion_sueldos_1(sueldo):\n",
        "  if sueldo > 20:\n",
        "    return True"
      ],
      "execution_count": 3,
      "outputs": []
    },
    {
      "cell_type": "code",
      "metadata": {
        "id": "ljfXHYx1Bt6x"
      },
      "source": [
        "# Aquí va tu segunda función\n",
        "def funcion_sueldos_2(sueldo):\n",
        "  if sueldo < 40:\n",
        "    return True"
      ],
      "execution_count": 4,
      "outputs": []
    },
    {
      "cell_type": "code",
      "metadata": {
        "id": "AxeKNk9aBt60"
      },
      "source": [
        "# Aquí va tu tercera función\n",
        "def funcion_sueldos_3(sueldo):\n",
        "  return funcion_sueldos_1(sueldo) and funcion_sueldos_2(sueldo)"
      ],
      "execution_count": 13,
      "outputs": []
    },
    {
      "cell_type": "code",
      "metadata": {
        "id": "Usmd5eXuBt63",
        "outputId": "4cc70cb7-abf9-48ab-ed5b-262284580702",
        "colab": {
          "base_uri": "https://localhost:8080/"
        }
      },
      "source": [
        "sueldos_filtrados = list(filter(funcion_sueldos_3,sueldos))\n",
        "sueldos_filtrados"
      ],
      "execution_count": 14,
      "outputs": [
        {
          "output_type": "execute_result",
          "data": {
            "text/plain": [
              "[26,\n",
              " 32,\n",
              " 26,\n",
              " 30,\n",
              " 30,\n",
              " 32,\n",
              " 28,\n",
              " 30,\n",
              " 28,\n",
              " 30,\n",
              " 28,\n",
              " 27,\n",
              " 30,\n",
              " 34,\n",
              " 30,\n",
              " 28,\n",
              " 26,\n",
              " 28,\n",
              " 30,\n",
              " 28,\n",
              " 25,\n",
              " 30,\n",
              " 34,\n",
              " 34,\n",
              " 30,\n",
              " 30,\n",
              " 28,\n",
              " 28,\n",
              " 28,\n",
              " 29,\n",
              " 30,\n",
              " 34,\n",
              " 33,\n",
              " 28,\n",
              " 26,\n",
              " 28,\n",
              " 26,\n",
              " 26,\n",
              " 30,\n",
              " 30,\n",
              " 28,\n",
              " 28,\n",
              " 27,\n",
              " 26,\n",
              " 26,\n",
              " 28,\n",
              " 30,\n",
              " 30,\n",
              " 30,\n",
              " 28,\n",
              " 28]"
            ]
          },
          "metadata": {
            "tags": []
          },
          "execution_count": 14
        }
      ]
    },
    {
      "cell_type": "code",
      "metadata": {
        "id": "Ly-35L6ZBt69",
        "outputId": "0f95eb2a-01df-47e8-e5c1-476fd99a87b7",
        "colab": {
          "base_uri": "https://localhost:8080/"
        }
      },
      "source": [
        "print(f'El sueldo \"típico\" en EyePoker Inc. es de {sum(sueldos_filtrados) / len(sueldos_filtrados)}')"
      ],
      "execution_count": 15,
      "outputs": [
        {
          "output_type": "stream",
          "text": [
            "El sueldo \"típico\" en EyePoker Inc. es de 28.96078431372549\n"
          ],
          "name": "stdout"
        }
      ]
    },
    {
      "cell_type": "code",
      "metadata": {
        "id": "frMY45M6Bt6-"
      },
      "source": [
        ""
      ],
      "execution_count": null,
      "outputs": []
    }
  ]
}