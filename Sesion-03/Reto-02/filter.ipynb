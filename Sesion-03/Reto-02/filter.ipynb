{
  "nbformat": 4,
  "nbformat_minor": 0,
  "metadata": {
    "kernelspec": {
      "display_name": "Python 3",
      "language": "python",
      "name": "python3"
    },
    "language_info": {
      "codemirror_mode": {
        "name": "ipython",
        "version": 3
      },
      "file_extension": ".py",
      "mimetype": "text/x-python",
      "name": "python",
      "nbconvert_exporter": "python",
      "pygments_lexer": "ipython3",
      "version": "3.8.3"
    },
    "colab": {
      "name": "filter.ipynb",
      "provenance": []
    }
  },
  "cells": [
    {
      "cell_type": "markdown",
      "metadata": {
        "id": "YAVJiLxw6UCP"
      },
      "source": [
        "## Reto 2: Filter\n",
        "\n",
        "### 1. Objetivos:\n",
        "    - Practicar el uso de `filter` para filtrar los datos en una `lista`\n",
        " \n",
        "---\n",
        "    \n",
        "### 2. Desarrollo:"
      ]
    },
    {
      "cell_type": "markdown",
      "metadata": {
        "id": "9WF_SbXS6UCd"
      },
      "source": [
        "#### a) Limpiando datos nulos\n",
        "\n",
        "Debajo tenemos una `lista` que incluye datos acerca de las edades de las personas que han atendido a un curso de Cocina Medieval (ya sabes: puerco al horno, manzanas asadas, aguardiente, sangre fresca de tus enemigos). Algunas de las personas que atendieron no quisieron dar su edad. Es por eso que algunos de los elementos son `None`:"
      ]
    },
    {
      "cell_type": "code",
      "metadata": {
        "id": "ZA23bhlg6UCg"
      },
      "source": [
        "edades = [12, 16, 19, None, 21, 25, 24, None, None, 16, 17, 25, 23, 28, None, 23, 35, 59, 67, None, 34, 21, 23, 15, 14, None, 18, 24, 23, 17]"
      ],
      "execution_count": 1,
      "outputs": []
    },
    {
      "cell_type": "markdown",
      "metadata": {
        "id": "pW7goiek6UCp"
      },
      "source": [
        "Queremos realizar una pequeña visualización (un histograma, que ya aprenderás a hacer más tarde) con nuestros datos. Pero no nos interesan los datos que vienen como `None`. Escribe una función llamada `valor_no_es_none` que reciba un valor, cheque si el valor es `None`, regrese `False` si el valor es `None` o regrese `True` si el valor **no** es `None`. Después úsala para filtrar tus datos:"
      ]
    },
    {
      "cell_type": "code",
      "metadata": {
        "id": "20J3SIso6UCs"
      },
      "source": [
        "def valor_no_es_none(edad):\n",
        "  if edad != None:\n",
        "    return edad"
      ],
      "execution_count": 2,
      "outputs": []
    },
    {
      "cell_type": "code",
      "metadata": {
        "id": "GKk_fKcd6UCx",
        "outputId": "9b45ac38-a54e-4e79-e770-284a573898b2",
        "colab": {
          "base_uri": "https://localhost:8080/"
        }
      },
      "source": [
        "edades_filtradas = list(filter(valor_no_es_none,edades))\n",
        "edades_filtradas"
      ],
      "execution_count": 4,
      "outputs": [
        {
          "output_type": "execute_result",
          "data": {
            "text/plain": [
              "[12,\n",
              " 16,\n",
              " 19,\n",
              " 21,\n",
              " 25,\n",
              " 24,\n",
              " 16,\n",
              " 17,\n",
              " 25,\n",
              " 23,\n",
              " 28,\n",
              " 23,\n",
              " 35,\n",
              " 59,\n",
              " 67,\n",
              " 34,\n",
              " 21,\n",
              " 23,\n",
              " 15,\n",
              " 14,\n",
              " 18,\n",
              " 24,\n",
              " 23,\n",
              " 17]"
            ]
          },
          "metadata": {
            "tags": []
          },
          "execution_count": 4
        }
      ]
    },
    {
      "cell_type": "markdown",
      "metadata": {
        "id": "BIze_ANq6UCz"
      },
      "source": [
        "Pídele a tu experta la función de verificación `crear_histograma_con` (encontrada en el archivo `helpers.py` de la carpeta donde se encuentra este Reto), pégala debajo y corre la celda para verificar tu resultado:"
      ]
    },
    {
      "cell_type": "code",
      "metadata": {
        "id": "7iSWXl5f6UC9",
        "outputId": "f3b5676e-26b6-4d14-b749-462e608ef4f4",
        "colab": {
          "base_uri": "https://localhost:8080/",
          "height": 322
        }
      },
      "source": [
        "# Pega aquí la función de verificación\n",
        "def crear_histograma_con(datos):\n",
        "    import seaborn as sns\n",
        "    import numpy as np\n",
        "    \n",
        "    sns.distplot(datos, kde=False, bins=len(np.unique(datos)))\n",
        "\n",
        "crear_histograma_con(edades_filtradas)"
      ],
      "execution_count": 5,
      "outputs": [
        {
          "output_type": "stream",
          "text": [
            "/usr/local/lib/python3.7/dist-packages/seaborn/distributions.py:2557: FutureWarning: `distplot` is a deprecated function and will be removed in a future version. Please adapt your code to use either `displot` (a figure-level function with similar flexibility) or `histplot` (an axes-level function for histograms).\n",
            "  warnings.warn(msg, FutureWarning)\n"
          ],
          "name": "stderr"
        },
        {
          "output_type": "display_data",
          "data": {
            "image/png": "[encoded data removed]",
            "text/plain": [
              "<Figure size 432x288 with 1 Axes>"
            ]
          },
          "metadata": {
            "tags": [],
            "needs_background": "light"
          }
        }
      ]
    },
    {
      "cell_type": "markdown",
      "metadata": {
        "id": "G8lpRBSd6UDA"
      },
      "source": [
        "#### b) Filtrando datos atípicos\n",
        "\n",
        "Aquí tenemos una `lista` que contiene datos acerca de los sueldos (cada número representa \"miles de pesos\") de los empleados de EyePoker Inc. (la empresa donde se producen los mejores picadores de ojos en todo el Hemisferio Occidental):"
      ]
    },
    {
      "cell_type": "code",
      "metadata": {
        "id": "s4W4AQoJ6UDQ"
      },
      "source": [
        "sueldos = [26, 32, 26, 30, 30, 32, 28, 30, 28, 110, 34, 30, 28, 26, 28, 30, 28, 85, 25, 30, 34, 34, 30, 30, 120, 28, 28, 120, 125]"
      ],
      "execution_count": 6,
      "outputs": []
    },
    {
      "cell_type": "markdown",
      "metadata": {
        "id": "xAa5R2V86UDT"
      },
      "source": [
        "En general todos los sueldos se encuentran en un rango bastante restringido, pero tenemos algunos datos sobre sueldos \"anormalmente\" grandes. Los sueldos tan grandes son los de los ejecutivos, que claramente no tienen ninguna noción de \"justicia\" (eso pasa cuando tus picadores de ojos son los mejores de todo el Hemisferio Occidental). Nosotros queremos usar el promedio para tener una idea de cuál es el sueldo `típico` en esta empresa. Nuestros valores `atípicos` (los sueldos anormalmente grandes) van a arruinar nuestro cálculo.\n",
        "\n",
        "Mira cuál es el sueldo `típico` si no filtramos nuestros valores anormalmente grandes:"
      ]
    },
    {
      "cell_type": "code",
      "metadata": {
        "id": "hLA-U6BO6UDa",
        "outputId": "1efe6f94-98b2-49cd-e83e-c1f006e695dd",
        "colab": {
          "base_uri": "https://localhost:8080/"
        }
      },
      "source": [
        "print(f'El sueldo \"típico\" en EyePoker Inc. es de {sum(sueldos) / len(sueldos)}')"
      ],
      "execution_count": 7,
      "outputs": [
        {
          "output_type": "stream",
          "text": [
            "El sueldo \"típico\" en EyePoker Inc. es de 43.62068965517241\n"
          ],
          "name": "stdout"
        }
      ]
    },
    {
      "cell_type": "markdown",
      "metadata": {
        "id": "y_68oWgL6UDd"
      },
      "source": [
        "Para corregir esto haz una función llamada `numero_es_menor_que_40` que descarte los números mayores de 40, y úsala para filtrar la lista `sueldos`, para tener un cálculo más apropiado del sueldo `típico` en esta empresa."
      ]
    },
    {
      "cell_type": "code",
      "metadata": {
        "id": "aWJ43jfC6UDf"
      },
      "source": [
        "## Tu función va aquí\n",
        "def numero_es_menor_que_40 (sueldo):\n",
        "  return sueldo < 40"
      ],
      "execution_count": 8,
      "outputs": []
    },
    {
      "cell_type": "code",
      "metadata": {
        "id": "mG2um60w6UDh",
        "outputId": "8f7224b7-941c-431e-9009-e62f2b6c3418",
        "colab": {
          "base_uri": "https://localhost:8080/"
        }
      },
      "source": [
        "sueldos_filtrados = list(filter(numero_es_menor_que_40,sueldos))\n",
        "sueldos_filtrados"
      ],
      "execution_count": 10,
      "outputs": [
        {
          "output_type": "execute_result",
          "data": {
            "text/plain": [
              "[26,\n",
              " 32,\n",
              " 26,\n",
              " 30,\n",
              " 30,\n",
              " 32,\n",
              " 28,\n",
              " 30,\n",
              " 28,\n",
              " 34,\n",
              " 30,\n",
              " 28,\n",
              " 26,\n",
              " 28,\n",
              " 30,\n",
              " 28,\n",
              " 25,\n",
              " 30,\n",
              " 34,\n",
              " 34,\n",
              " 30,\n",
              " 30,\n",
              " 28,\n",
              " 28]"
            ]
          },
          "metadata": {
            "tags": []
          },
          "execution_count": 10
        }
      ]
    },
    {
      "cell_type": "code",
      "metadata": {
        "id": "aE5w5cHJ6UDi",
        "outputId": "7825151d-0498-4234-8351-560404b007cf",
        "colab": {
          "base_uri": "https://localhost:8080/"
        }
      },
      "source": [
        "print(f'El sueldo \"típico\" en EyePoker Inc. es de {sum(sueldos_filtrados) / len(sueldos_filtrados)}')"
      ],
      "execution_count": 11,
      "outputs": [
        {
          "output_type": "stream",
          "text": [
            "El sueldo \"típico\" en EyePoker Inc. es de 29.375\n"
          ],
          "name": "stdout"
        }
      ]
    },
    {
      "cell_type": "code",
      "metadata": {
        "id": "56atzDEO6UDk"
      },
      "source": [
        ""
      ],
      "execution_count": null,
      "outputs": []
    }
  ]
}