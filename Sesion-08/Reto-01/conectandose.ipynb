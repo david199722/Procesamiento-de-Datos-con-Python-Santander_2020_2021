{
  "nbformat": 4,
  "nbformat_minor": 0,
  "metadata": {
    "kernelspec": {
      "display_name": "Python 3",
      "language": "python",
      "name": "python3"
    },
    "language_info": {
      "codemirror_mode": {
        "name": "ipython",
        "version": 3
      },
      "file_extension": ".py",
      "mimetype": "text/x-python",
      "name": "python",
      "nbconvert_exporter": "python",
      "pygments_lexer": "ipython3",
      "version": "3.8.3"
    },
    "colab": {
      "name": "conectandose.ipynb",
      "provenance": []
    }
  },
  "cells": [
    {
      "cell_type": "markdown",
      "metadata": {
        "id": "2mcshZDZnhss"
      },
      "source": [
        "## Reto 1: Conectándose a una base de datos\n",
        "\n",
        "### 1. Objetivos:\n",
        "    - Practicar conectarse a una base de datos y revisar la conexión.\n",
        "    \n",
        "---\n",
        "    \n",
        "### 2. Desarrollo:"
      ]
    },
    {
      "cell_type": "markdown",
      "metadata": {
        "id": "RNsk0Ku7nhs8"
      },
      "source": [
        "#### a) Conectándose a MySQL\n",
        "\n",
        "Este primer Reto es muy sencillo: \n",
        "\n",
        "1. Pídele a tu experta los datos de conexión que necesitas para conectarte al SGBD que ha sido levantado para esta sesión.\n",
        "2. Si no lo has hecho ya, instala la librería `mysql-connector`.\n",
        "3. Conéctate a la base de datos usando `mysql-connector`.\n",
        "4. Revisa que estás conectado a la base de datos pidiendo los nombres de todas las tablas en la base de datos."
      ]
    },
    {
      "cell_type": "code",
      "metadata": {
        "id": "WOcMjtBJn17L",
        "outputId": "cfaf4f51-9541-4c16-b155-883fbfa2f411",
        "colab": {
          "base_uri": "https://localhost:8080/"
        }
      },
      "source": [
        "!pip install mysql-connector-python"
      ],
      "execution_count": 2,
      "outputs": [
        {
          "output_type": "stream",
          "text": [
            "Collecting mysql-connector-python\n",
            "  Downloading mysql_connector_python-8.0.26-cp37-cp37m-manylinux1_x86_64.whl (30.9 MB)\n",
            "\u001b[K     |████████████████████████████████| 30.9 MB 76 kB/s \n",
            "\u001b[?25hRequirement already satisfied: protobuf>=3.0.0 in /usr/local/lib/python3.7/dist-packages (from mysql-connector-python) (3.17.3)\n",
            "Requirement already satisfied: six>=1.9 in /usr/local/lib/python3.7/dist-packages (from protobuf>=3.0.0->mysql-connector-python) (1.15.0)\n",
            "Installing collected packages: mysql-connector-python\n",
            "Successfully installed mysql-connector-python-8.0.26\n"
          ],
          "name": "stdout"
        }
      ]
    },
    {
      "cell_type": "code",
      "metadata": {
        "id": "Y863qxz9nhtL"
      },
      "source": [
        "# Tu código va aquí\n",
        "import mysql.connector\n",
        "\n",
        "cnx = mysql.connector.connect(\n",
        "    host = \"ec2-34-222-235-52.us-west-2.compute.amazonaws.com\",\n",
        "    port = 3306,\n",
        "    user = \"data\",\n",
        "    password = \"khQ9--mp6LWq97iA\",\n",
        "    database = \"movielens\"\n",
        ")"
      ],
      "execution_count": 3,
      "outputs": []
    },
    {
      "cell_type": "markdown",
      "metadata": {
        "id": "v9neahVVnhtV"
      },
      "source": [
        "Asegúrate de que tu conexión esté funcionando. Cualquier duda que tengas, la puedes expresar a tu experta. Es muy importante que te conectes exitosamente para poder realizar todos los Retos siguientes."
      ]
    },
    {
      "cell_type": "code",
      "metadata": {
        "id": "C5Qqthiinhtj",
        "outputId": "89bd2750-da3c-4fb8-d3d1-af71270c7b80",
        "colab": {
          "base_uri": "https://localhost:8080/"
        }
      },
      "source": [
        "cursor = cnx.cursor()\n",
        "\n",
        "cursor.execute(\"SHOW TABLES\")\n",
        "\n",
        "result = cursor.fetchall()\n",
        "result\n",
        "\n"
      ],
      "execution_count": 4,
      "outputs": [
        {
          "output_type": "execute_result",
          "data": {
            "text/plain": [
              "[('age_ranges',), ('movies',), ('occupations',), ('ratings',), ('users',)]"
            ]
          },
          "metadata": {
            "tags": []
          },
          "execution_count": 4
        }
      ]
    },
    {
      "cell_type": "code",
      "metadata": {
        "id": "zxsAEX0VogFG",
        "outputId": "d2993987-d10d-484f-e23a-3a606b22d95d",
        "colab": {
          "base_uri": "https://localhost:8080/"
        }
      },
      "source": [
        "cursor.close()"
      ],
      "execution_count": 5,
      "outputs": [
        {
          "output_type": "execute_result",
          "data": {
            "text/plain": [
              "True"
            ]
          },
          "metadata": {
            "tags": []
          },
          "execution_count": 5
        }
      ]
    }
  ]
}