{
  "nbformat": 4,
  "nbformat_minor": 0,
  "metadata": {
    "kernelspec": {
      "display_name": "Python 3",
      "language": "python",
      "name": "python3"
    },
    "language_info": {
      "codemirror_mode": {
        "name": "ipython",
        "version": 3
      },
      "file_extension": ".py",
      "mimetype": "text/x-python",
      "name": "python",
      "nbconvert_exporter": "python",
      "pygments_lexer": "ipython3",
      "version": "3.8.3"
    },
    "colab": {
      "name": "manipulacion_de_strings.ipynb",
      "provenance": []
    }
  },
  "cells": [
    {
      "cell_type": "markdown",
      "metadata": {
        "id": "7IztwDny-J28"
      },
      "source": [
        "## Reto 2: Manipulación de Strings\n",
        "\n",
        "### 1. Objetivos:\n",
        "    - Practicar manipular `strings` usando métodos como `split`, `title`, `strip, etc.\n",
        " \n",
        "---\n",
        "    \n",
        "### 2. Desarrollo:"
      ]
    },
    {
      "cell_type": "markdown",
      "metadata": {
        "id": "xY5AN5TZ-J3U"
      },
      "source": [
        "#### Limpiando strings usando la propiedad `str`\n",
        "\n",
        "Vamos a trabajar en la versión del dataset que guardaste en el reto pasado. Las acciones que tienes que tomar en este Reto son las siguientes:\n",
        "\n",
        "1. Reemplaza los guiones en las `strings` de la columna `orbit_class_description` por espacios.\n",
        "2. Elimina los espacios vacíos al principio y final de las `strings` de la misma columna.\n",
        "3. Hay una columna llamada `id_name` que contiene el 'id' y el nombre de cada objeto separados por un guión. Separa estos datos en dos columnas llamadas `id` y `name`.\n",
        "4. Haz que las `strings` de la columna `orbiting_body` empiecen con mayúscula.\n",
        "5. Asigna el `DataFrame` resultante a la variable `df_reto_2`.\n",
        "6. Guarda tu resultado en un archivo .csv."
      ]
    },
    {
      "cell_type": "code",
      "metadata": {
        "id": "UB6n4ng2BhoE",
        "outputId": "a616587e-87c4-4aaa-daae-da43057089e5",
        "colab": {
          "base_uri": "https://localhost:8080/"
        }
      },
      "source": [
        "from google.colab import drive\n",
        "drive.mount('/content/drive')"
      ],
      "execution_count": 1,
      "outputs": [
        {
          "output_type": "stream",
          "text": [
            "Mounted at /content/drive\n"
          ],
          "name": "stdout"
        }
      ]
    },
    {
      "cell_type": "code",
      "metadata": {
        "id": "YJ4BCeoSBuWn"
      },
      "source": [
        "import pandas as pd"
      ],
      "execution_count": 2,
      "outputs": []
    },
    {
      "cell_type": "code",
      "metadata": {
        "id": "ODKaeu0j-J3Y",
        "outputId": "708d4bed-6a16-489f-afca-d1c59ca5e4b6",
        "colab": {
          "base_uri": "https://localhost:8080/",
          "height": 330
        }
      },
      "source": [
        "df_reto_2 = pd.read_csv('/content/drive/MyDrive/reto1.csv')\n",
        "\n",
        "df_reto_2.head()"
      ],
      "execution_count": 10,
      "outputs": [
        {
          "output_type": "execute_result",
          "data": {
            "text/html": [
              "<div>\n",
              "<style scoped>\n",
              "    .dataframe tbody tr th:only-of-type {\n",
              "        vertical-align: middle;\n",
              "    }\n",
              "\n",
              "    .dataframe tbody tr th {\n",
              "        vertical-align: top;\n",
              "    }\n",
              "\n",
              "    .dataframe thead th {\n",
              "        text-align: right;\n",
              "    }\n",
              "</style>\n",
              "<table border=\"1\" class=\"dataframe\">\n",
              "  <thead>\n",
              "    <tr style=\"text-align: right;\">\n",
              "      <th></th>\n",
              "      <th>Unnamed: 0</th>\n",
              "      <th>Unnamed: 0.1</th>\n",
              "      <th>id_name</th>\n",
              "      <th>is_potentially_hazardous_asteroid</th>\n",
              "      <th>estimated_diameter.meters.estimated_diameter_min</th>\n",
              "      <th>estimated_diameter.meters.estimated_diameter_max</th>\n",
              "      <th>close_approach_date</th>\n",
              "      <th>epoch_date_close_approach</th>\n",
              "      <th>orbiting_body</th>\n",
              "      <th>relative_velocity.kilometers_per_second</th>\n",
              "      <th>relative_velocity.kilometers_per_hour</th>\n",
              "      <th>orbit_class_description</th>\n",
              "    </tr>\n",
              "  </thead>\n",
              "  <tbody>\n",
              "    <tr>\n",
              "      <th>0</th>\n",
              "      <td>0</td>\n",
              "      <td>0</td>\n",
              "      <td>2154652-154652 (2004 EP20)</td>\n",
              "      <td>False</td>\n",
              "      <td>483.676488</td>\n",
              "      <td>1081.533507</td>\n",
              "      <td>1995-01-07</td>\n",
              "      <td>1995-01-07 08:33:00</td>\n",
              "      <td>earth</td>\n",
              "      <td>16.142864</td>\n",
              "      <td>58114.308667</td>\n",
              "      <td>Near-Earth-asteroid-orbits-similar-to-that-o...</td>\n",
              "    </tr>\n",
              "    <tr>\n",
              "      <th>1</th>\n",
              "      <td>1</td>\n",
              "      <td>1</td>\n",
              "      <td>3153509-(2003 HM)</td>\n",
              "      <td>True</td>\n",
              "      <td>96.506147</td>\n",
              "      <td>215.794305</td>\n",
              "      <td>1995-01-07</td>\n",
              "      <td>1995-01-07 15:09:00</td>\n",
              "      <td>earth</td>\n",
              "      <td>12.351044</td>\n",
              "      <td>44463.757734</td>\n",
              "      <td>Near-Earth-asteroid-orbits-which-cross-the-E...</td>\n",
              "    </tr>\n",
              "    <tr>\n",
              "      <th>2</th>\n",
              "      <td>3</td>\n",
              "      <td>3</td>\n",
              "      <td>3837644-(2019 AY3)</td>\n",
              "      <td>False</td>\n",
              "      <td>46.190746</td>\n",
              "      <td>103.285648</td>\n",
              "      <td>1995-01-07</td>\n",
              "      <td>1995-01-07 21:25:00</td>\n",
              "      <td>earth</td>\n",
              "      <td>22.478615</td>\n",
              "      <td>80923.015021</td>\n",
              "      <td>Near-Earth-asteroid-orbits-similar-to-that-o...</td>\n",
              "    </tr>\n",
              "    <tr>\n",
              "      <th>3</th>\n",
              "      <td>4</td>\n",
              "      <td>4</td>\n",
              "      <td>3843493-(2019 PY)</td>\n",
              "      <td>False</td>\n",
              "      <td>22.108281</td>\n",
              "      <td>49.435619</td>\n",
              "      <td>1995-01-07</td>\n",
              "      <td>1995-01-07 02:45:00</td>\n",
              "      <td>earth</td>\n",
              "      <td>4.998691</td>\n",
              "      <td>17995.288355</td>\n",
              "      <td>Near-Earth-asteroid-orbits-similar-to-that-of...</td>\n",
              "    </tr>\n",
              "    <tr>\n",
              "      <th>4</th>\n",
              "      <td>5</td>\n",
              "      <td>5</td>\n",
              "      <td>3765015-(2016 WR48)</td>\n",
              "      <td>False</td>\n",
              "      <td>160.160338</td>\n",
              "      <td>358.129403</td>\n",
              "      <td>1995-01-08</td>\n",
              "      <td>1995-01-08 12:46:00</td>\n",
              "      <td>earth</td>\n",
              "      <td>7.465089</td>\n",
              "      <td>26874.321682</td>\n",
              "      <td>An-asteroid-orbit-contained-entirely-within-t...</td>\n",
              "    </tr>\n",
              "  </tbody>\n",
              "</table>\n",
              "</div>"
            ],
            "text/plain": [
              "   Unnamed: 0  ...                            orbit_class_description\n",
              "0           0  ...    Near-Earth-asteroid-orbits-similar-to-that-o...\n",
              "1           1  ...    Near-Earth-asteroid-orbits-which-cross-the-E...\n",
              "2           3  ...    Near-Earth-asteroid-orbits-similar-to-that-o...\n",
              "3           4  ...   Near-Earth-asteroid-orbits-similar-to-that-of...\n",
              "4           5  ...   An-asteroid-orbit-contained-entirely-within-t...\n",
              "\n",
              "[5 rows x 12 columns]"
            ]
          },
          "metadata": {
            "tags": []
          },
          "execution_count": 10
        }
      ]
    },
    {
      "cell_type": "code",
      "metadata": {
        "id": "OUKEuRqSDF_4",
        "outputId": "dfa8f787-cd9b-4483-c35c-6d3b7c4752c4",
        "colab": {
          "base_uri": "https://localhost:8080/"
        }
      },
      "source": [
        "df_reto_2['orbit_class_description'] = df_reto_2['orbit_class_description'].str.replace('-', ' ')\n",
        "\n",
        "df_reto_2['orbit_class_description']"
      ],
      "execution_count": 11,
      "outputs": [
        {
          "output_type": "execute_result",
          "data": {
            "text/plain": [
              "0        Near Earth asteroid orbits similar to that o...\n",
              "1        Near Earth asteroid orbits which cross the E...\n",
              "2        Near Earth asteroid orbits similar to that o...\n",
              "3       Near Earth asteroid orbits similar to that of...\n",
              "4       An asteroid orbit contained entirely within t...\n",
              "                             ...                        \n",
              "296     Near Earth asteroid orbits similar to that of...\n",
              "297      Near Earth asteroid orbits similar to that o...\n",
              "298      Near Earth asteroid orbits which cross the E...\n",
              "299     An asteroid orbit contained entirely within t...\n",
              "300      Near Earth asteroid orbits similar to that o...\n",
              "Name: orbit_class_description, Length: 301, dtype: object"
            ]
          },
          "metadata": {
            "tags": []
          },
          "execution_count": 11
        }
      ]
    },
    {
      "cell_type": "code",
      "metadata": {
        "id": "ZJl20yG7DODj",
        "outputId": "95045ecd-aef0-40b9-8c6d-c25a1d759112",
        "colab": {
          "base_uri": "https://localhost:8080/",
          "height": 36
        }
      },
      "source": [
        "df_reto_2['orbit_class_description'] = df_reto_2['orbit_class_description'].str.strip()\n",
        "\n",
        "df_reto_2.loc[0, 'orbit_class_description']"
      ],
      "execution_count": 13,
      "outputs": [
        {
          "output_type": "execute_result",
          "data": {
            "application/vnd.google.colaboratory.intrinsic+json": {
              "type": "string"
            },
            "text/plain": [
              "'Near Earth asteroid orbits similar to that of 2062 Aten'"
            ]
          },
          "metadata": {
            "tags": []
          },
          "execution_count": 13
        }
      ]
    },
    {
      "cell_type": "code",
      "metadata": {
        "id": "gn54PUNoDozE",
        "outputId": "6cef48c9-123f-4d1a-82b6-de652899630c",
        "colab": {
          "base_uri": "https://localhost:8080/",
          "height": 348
        }
      },
      "source": [
        "df_reto_2[['id', 'name']] = df_reto_2['id_name'].str.split('-', expand=True)\n",
        "\n",
        "df_reto_2.head()"
      ],
      "execution_count": 14,
      "outputs": [
        {
          "output_type": "execute_result",
          "data": {
            "text/html": [
              "<div>\n",
              "<style scoped>\n",
              "    .dataframe tbody tr th:only-of-type {\n",
              "        vertical-align: middle;\n",
              "    }\n",
              "\n",
              "    .dataframe tbody tr th {\n",
              "        vertical-align: top;\n",
              "    }\n",
              "\n",
              "    .dataframe thead th {\n",
              "        text-align: right;\n",
              "    }\n",
              "</style>\n",
              "<table border=\"1\" class=\"dataframe\">\n",
              "  <thead>\n",
              "    <tr style=\"text-align: right;\">\n",
              "      <th></th>\n",
              "      <th>Unnamed: 0</th>\n",
              "      <th>Unnamed: 0.1</th>\n",
              "      <th>id_name</th>\n",
              "      <th>is_potentially_hazardous_asteroid</th>\n",
              "      <th>estimated_diameter.meters.estimated_diameter_min</th>\n",
              "      <th>estimated_diameter.meters.estimated_diameter_max</th>\n",
              "      <th>close_approach_date</th>\n",
              "      <th>epoch_date_close_approach</th>\n",
              "      <th>orbiting_body</th>\n",
              "      <th>relative_velocity.kilometers_per_second</th>\n",
              "      <th>relative_velocity.kilometers_per_hour</th>\n",
              "      <th>orbit_class_description</th>\n",
              "      <th>id</th>\n",
              "      <th>name</th>\n",
              "    </tr>\n",
              "  </thead>\n",
              "  <tbody>\n",
              "    <tr>\n",
              "      <th>0</th>\n",
              "      <td>0</td>\n",
              "      <td>0</td>\n",
              "      <td>2154652-154652 (2004 EP20)</td>\n",
              "      <td>False</td>\n",
              "      <td>483.676488</td>\n",
              "      <td>1081.533507</td>\n",
              "      <td>1995-01-07</td>\n",
              "      <td>1995-01-07 08:33:00</td>\n",
              "      <td>earth</td>\n",
              "      <td>16.142864</td>\n",
              "      <td>58114.308667</td>\n",
              "      <td>Near Earth asteroid orbits similar to that of ...</td>\n",
              "      <td>2154652</td>\n",
              "      <td>154652 (2004 EP20)</td>\n",
              "    </tr>\n",
              "    <tr>\n",
              "      <th>1</th>\n",
              "      <td>1</td>\n",
              "      <td>1</td>\n",
              "      <td>3153509-(2003 HM)</td>\n",
              "      <td>True</td>\n",
              "      <td>96.506147</td>\n",
              "      <td>215.794305</td>\n",
              "      <td>1995-01-07</td>\n",
              "      <td>1995-01-07 15:09:00</td>\n",
              "      <td>earth</td>\n",
              "      <td>12.351044</td>\n",
              "      <td>44463.757734</td>\n",
              "      <td>Near Earth asteroid orbits which cross the Ear...</td>\n",
              "      <td>3153509</td>\n",
              "      <td>(2003 HM)</td>\n",
              "    </tr>\n",
              "    <tr>\n",
              "      <th>2</th>\n",
              "      <td>3</td>\n",
              "      <td>3</td>\n",
              "      <td>3837644-(2019 AY3)</td>\n",
              "      <td>False</td>\n",
              "      <td>46.190746</td>\n",
              "      <td>103.285648</td>\n",
              "      <td>1995-01-07</td>\n",
              "      <td>1995-01-07 21:25:00</td>\n",
              "      <td>earth</td>\n",
              "      <td>22.478615</td>\n",
              "      <td>80923.015021</td>\n",
              "      <td>Near Earth asteroid orbits similar to that of ...</td>\n",
              "      <td>3837644</td>\n",
              "      <td>(2019 AY3)</td>\n",
              "    </tr>\n",
              "    <tr>\n",
              "      <th>3</th>\n",
              "      <td>4</td>\n",
              "      <td>4</td>\n",
              "      <td>3843493-(2019 PY)</td>\n",
              "      <td>False</td>\n",
              "      <td>22.108281</td>\n",
              "      <td>49.435619</td>\n",
              "      <td>1995-01-07</td>\n",
              "      <td>1995-01-07 02:45:00</td>\n",
              "      <td>earth</td>\n",
              "      <td>4.998691</td>\n",
              "      <td>17995.288355</td>\n",
              "      <td>Near Earth asteroid orbits similar to that of ...</td>\n",
              "      <td>3843493</td>\n",
              "      <td>(2019 PY)</td>\n",
              "    </tr>\n",
              "    <tr>\n",
              "      <th>4</th>\n",
              "      <td>5</td>\n",
              "      <td>5</td>\n",
              "      <td>3765015-(2016 WR48)</td>\n",
              "      <td>False</td>\n",
              "      <td>160.160338</td>\n",
              "      <td>358.129403</td>\n",
              "      <td>1995-01-08</td>\n",
              "      <td>1995-01-08 12:46:00</td>\n",
              "      <td>earth</td>\n",
              "      <td>7.465089</td>\n",
              "      <td>26874.321682</td>\n",
              "      <td>An asteroid orbit contained entirely within th...</td>\n",
              "      <td>3765015</td>\n",
              "      <td>(2016 WR48)</td>\n",
              "    </tr>\n",
              "  </tbody>\n",
              "</table>\n",
              "</div>"
            ],
            "text/plain": [
              "   Unnamed: 0  Unnamed: 0.1  ...       id                name\n",
              "0           0             0  ...  2154652  154652 (2004 EP20)\n",
              "1           1             1  ...  3153509           (2003 HM)\n",
              "2           3             3  ...  3837644          (2019 AY3)\n",
              "3           4             4  ...  3843493           (2019 PY)\n",
              "4           5             5  ...  3765015         (2016 WR48)\n",
              "\n",
              "[5 rows x 14 columns]"
            ]
          },
          "metadata": {
            "tags": []
          },
          "execution_count": 14
        }
      ]
    },
    {
      "cell_type": "code",
      "metadata": {
        "id": "J8bmBxi0EB5K",
        "outputId": "e815c63e-51ba-4f86-d851-cf230d67298f",
        "colab": {
          "base_uri": "https://localhost:8080/"
        }
      },
      "source": [
        "df_reto_2['orbiting_body'] = df_reto_2['orbiting_body'].str.title()\n",
        "\n",
        "df_reto_2['orbiting_body']"
      ],
      "execution_count": 17,
      "outputs": [
        {
          "output_type": "execute_result",
          "data": {
            "text/plain": [
              "0      Earth\n",
              "1      Earth\n",
              "2      Earth\n",
              "3      Earth\n",
              "4      Earth\n",
              "       ...  \n",
              "296    Earth\n",
              "297    Earth\n",
              "298    Earth\n",
              "299    Earth\n",
              "300    Earth\n",
              "Name: orbiting_body, Length: 301, dtype: object"
            ]
          },
          "metadata": {
            "tags": []
          },
          "execution_count": 17
        }
      ]
    },
    {
      "cell_type": "code",
      "metadata": {
        "id": "rX3f2A4uEWGG"
      },
      "source": [
        "df_reto_2.to_csv('/content/drive/MyDrive/reto2.csv')"
      ],
      "execution_count": 18,
      "outputs": []
    },
    {
      "cell_type": "markdown",
      "metadata": {
        "id": "dyD_FDwS-J3c"
      },
      "source": [
        "¡Compara con tus compañeros y con la experta tu solución para asegurarte de que realizaste los procesos adecuadamente!"
      ]
    }
  ]
}