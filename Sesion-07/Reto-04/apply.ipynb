{
  "nbformat": 4,
  "nbformat_minor": 0,
  "metadata": {
    "kernelspec": {
      "display_name": "Python 3",
      "language": "python",
      "name": "python3"
    },
    "language_info": {
      "codemirror_mode": {
        "name": "ipython",
        "version": 3
      },
      "file_extension": ".py",
      "mimetype": "text/x-python",
      "name": "python",
      "nbconvert_exporter": "python",
      "pygments_lexer": "ipython3",
      "version": "3.8.3"
    },
    "colab": {
      "name": "apply.ipynb",
      "provenance": []
    }
  },
  "cells": [
    {
      "cell_type": "markdown",
      "metadata": {
        "id": "4YdCLl6bO8Xy"
      },
      "source": [
        "## Reto 4: Apply\n",
        "\n",
        "### 1. Objetivos:\n",
        "    - Practicar el uso del método `apply` para obtener columnas nuevas a partir de columnas existentes\n",
        "    \n",
        "---\n",
        "    \n",
        "### 2. Desarrollo:"
      ]
    },
    {
      "cell_type": "markdown",
      "metadata": {
        "id": "CIh0C-bCO8X2"
      },
      "source": [
        "#### a) Obteniendo columnas nuevas a partir de existentes\n",
        "\n",
        "Vamos a trabajar con el dataset que guardaste de tu Reto anterior. Esta vez tu Reto es el siguiente:\n",
        "\n",
        "1. Crea una función que reciba un valor (en este caso el diámetro en metros de un objeto espacial) y regrese la proporción de ese valor en comparación con el diámetro de la Tierra. El diámetro de la Tierra es de 12,742 km. Así que el diámetro de un objeto que mida 10000 metros corresponde a un valor de 0.00078 en proporción al diámetro de la Tierra.\n",
        "2. Usa la columna 'estimated_diameter.meters.estimated_diameter_max', aplícale la función usando `apply` y crea una nueva columna llamada `proportion_of_max_diameter_to_earth`.\n",
        "3. Asigna el resultado a la variable `df_reto_4`.\n",
        "4. Guarda tu conjunto de datos en un archivo .csv."
      ]
    },
    {
      "cell_type": "code",
      "metadata": {
        "id": "Xel_d9EbPAqT",
        "outputId": "b5eca5fb-add0-49c4-e726-4931f24827c7",
        "colab": {
          "base_uri": "https://localhost:8080/"
        }
      },
      "source": [
        "from google.colab import drive\n",
        "drive.mount('/content/drive')"
      ],
      "execution_count": 1,
      "outputs": [
        {
          "output_type": "stream",
          "text": [
            "Mounted at /content/drive\n"
          ],
          "name": "stdout"
        }
      ]
    },
    {
      "cell_type": "code",
      "metadata": {
        "id": "uYc0uvkoPJKz"
      },
      "source": [
        "import pandas as pd"
      ],
      "execution_count": 2,
      "outputs": []
    },
    {
      "cell_type": "code",
      "metadata": {
        "id": "JamEjHmCO8X8"
      },
      "source": [
        "df_reto_4 = pd.read_csv('/content/drive/MyDrive/reto3.csv')"
      ],
      "execution_count": 3,
      "outputs": []
    },
    {
      "cell_type": "code",
      "metadata": {
        "id": "OgSABJRuPVxq"
      },
      "source": [
        "def proporcion_tierra(value):\n",
        "\n",
        "    return value/12742000"
      ],
      "execution_count": 4,
      "outputs": []
    },
    {
      "cell_type": "code",
      "metadata": {
        "id": "cz3a-cKcPwj1",
        "outputId": "5b079856-48c8-4600-a326-e3fc61aca28b",
        "colab": {
          "base_uri": "https://localhost:8080/"
        }
      },
      "source": [
        "df_reto_4['proportion_of_max_diameter_to_earth']= df_reto_4['estimated_diameter.meters.estimated_diameter_max'].apply(proporcion_tierra)\n",
        "\n",
        "df_reto_4['proportion_of_max_diameter_to_earth']"
      ],
      "execution_count": 6,
      "outputs": [
        {
          "output_type": "execute_result",
          "data": {
            "text/plain": [
              "0      0.000085\n",
              "1      0.000017\n",
              "2      0.000008\n",
              "3      0.000004\n",
              "4      0.000028\n",
              "         ...   \n",
              "296    0.000085\n",
              "297    0.000077\n",
              "298    0.000077\n",
              "299    0.000028\n",
              "300    0.000074\n",
              "Name: proportion_of_max_diameter_to_earth, Length: 301, dtype: float64"
            ]
          },
          "metadata": {
            "tags": []
          },
          "execution_count": 6
        }
      ]
    },
    {
      "cell_type": "markdown",
      "metadata": {
        "id": "DcAiFgwdO8YA"
      },
      "source": [
        "Pídele a tu experta la función de verificación `revisar_aplicacion` (encontrada en el archivo `helpers.py` de la carpeta donde se encuentra este Reto), pégala debajo y corre la celda para verificar tu resultado:"
      ]
    },
    {
      "cell_type": "code",
      "metadata": {
        "id": "bD4-cSobO8YB",
        "outputId": "ca7c1e7c-027c-484a-9ea2-75df9f264dd9",
        "colab": {
          "base_uri": "https://localhost:8080/"
        }
      },
      "source": [
        "# Pega aquí la función de verificación\n",
        "def revisar_aplicacion(df_reto_4):\n",
        "    \n",
        "    assert 'proportion_of_max_diameter_to_earth' in df_reto_4, 'No existe una columna llamada \"proportion_of_max_diameter_to_earth\" en el DataFrame'\n",
        "    assert df_reto_4['proportion_of_max_diameter_to_earth'].equals(df_reto_4['estimated_diameter.meters.estimated_diameter_max'] / 12742000), 'La transformacion no fue realizada adecuadamente'\n",
        "    \n",
        "    print(f'La transformación y creación de una nueva columna fue realizada exitosamente!')\n",
        "    \n",
        "revisar_aplicacion(df_reto_4)"
      ],
      "execution_count": 7,
      "outputs": [
        {
          "output_type": "stream",
          "text": [
            "La transformación y creación de una nueva columna fue realizada exitosamente!\n"
          ],
          "name": "stdout"
        }
      ]
    }
  ]
}