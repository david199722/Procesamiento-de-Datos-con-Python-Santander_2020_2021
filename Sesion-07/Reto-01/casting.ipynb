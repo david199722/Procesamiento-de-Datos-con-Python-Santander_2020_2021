{
  "nbformat": 4,
  "nbformat_minor": 0,
  "metadata": {
    "kernelspec": {
      "display_name": "Python 3",
      "language": "python",
      "name": "python3"
    },
    "language_info": {
      "codemirror_mode": {
        "name": "ipython",
        "version": 3
      },
      "file_extension": ".py",
      "mimetype": "text/x-python",
      "name": "python",
      "nbconvert_exporter": "python",
      "pygments_lexer": "ipython3",
      "version": "3.8.3"
    },
    "colab": {
      "name": "casting.ipynb",
      "provenance": []
    }
  },
  "cells": [
    {
      "cell_type": "markdown",
      "metadata": {
        "id": "sdo1IQD14p1v"
      },
      "source": [
        "## Reto 1: Casting\n",
        "\n",
        "### 1. Objetivos:\n",
        "    - Aplicar diversas técnicas de casting a un dataset nuevo\n",
        " \n",
        "---\n",
        "    \n",
        "### 2. Desarrollo:"
      ]
    },
    {
      "cell_type": "markdown",
      "metadata": {
        "id": "36jHIekz4p12"
      },
      "source": [
        "#### a) Transformando tipos de datos\n",
        "\n",
        "Vamos a trabajar con una versión un poco modificada del dataset que creaste en la sesión pasada. Si bien recuerdas, al final de la sesión pasada automatizamos un programa de Python para obtener un `DataFrame` con todos los objetos que orbitaron cerca de la Tierra en Enero y Febrero de 1995. Para construir este dataset, usamos el API gratuito que ofrece la [NASA](https://api.nasa.gov/).\n",
        "\n",
        "Me tomé la libertad de modificar un poco dicho dataset para que pudiera ser utilizado más efectivamente para los fines de esta sesión. Encontrarás la versión modificada en la ruta '../../Datasets/near_earth_objects-jan_feb_1995-dirty.csv'. Todos los Retos de esta sesión los harás con ese conjunto de datos.\n",
        "\n",
        "Te recomiendo que al finalizar cada reto guardes la nueva versión modificada de tu dataset bajo un nombre que indique el reto realizado (por ejemplo, 'near_earth_objects-jan_feb_1995-reto_1.csv'), para que puedas ir trabajando incrementalmente a través de los retos y no tengas que repetir procesos. Puedes guardar conjuntos de datos en formato `csv` usando el método `DataFrame.to_csv('ruta')`."
      ]
    },
    {
      "cell_type": "markdown",
      "metadata": {
        "id": "c2l0yI0V4p17"
      },
      "source": [
        "Tu primer Reto consistirá en seguir los siguientes pasos:\n",
        "\n",
        "1. Lee el dataset y crea un `DataFrame` con él.\n",
        "2. Realiza una pequeña exploración para familiarizarte con él.\n",
        "3. Convierte la columna `relative_velocity.kilometers_per_hour` de `object` a `float64`.\n",
        "4. Convierte la columna `close_approach_date` a tipo de dato `datetime64[ms]` usando el método `astype` y un diccionario de conversión.\n",
        "5. Convierte la columna `epoch_date_close_approach` a tipo de dato `datetime64[ms]` usando el método `to_datetime`.\n",
        "6. Asigna el `DataFrame` resultante a la variable `df_reto_1`.\n",
        "7. Guarda tu resultado en un archivo .csv."
      ]
    },
    {
      "cell_type": "code",
      "metadata": {
        "id": "CtMdJQBi4wlJ",
        "colab": {
          "base_uri": "https://localhost:8080/"
        },
        "outputId": "bdb25c1f-3c1d-498b-b6d1-229e50887679"
      },
      "source": [
        "from google.colab import drive\n",
        "drive.mount('/content/drive')"
      ],
      "execution_count": null,
      "outputs": [
        {
          "output_type": "stream",
          "text": [
            "Mounted at /content/drive\n"
          ],
          "name": "stdout"
        }
      ]
    },
    {
      "cell_type": "code",
      "metadata": {
        "id": "76fALgYb5C9e"
      },
      "source": [
        "import pandas as pd"
      ],
      "execution_count": null,
      "outputs": []
    },
    {
      "cell_type": "code",
      "metadata": {
        "id": "4dOpggNV4p2C",
        "colab": {
          "base_uri": "https://localhost:8080/",
          "height": 330
        },
        "outputId": "e3bf6119-04be-4795-a725-d27ff2ebd847"
      },
      "source": [
        "df_reto_1 = pd.read_csv('/content/drive/MyDrive/Datasets/near_earth_objects-jan_feb_1995-dirty.csv')\n",
        "\n",
        "df_reto_1.head()"
      ],
      "execution_count": null,
      "outputs": [
        {
          "output_type": "execute_result",
          "data": {
            "text/html": [
              "<div>\n",
              "<style scoped>\n",
              "    .dataframe tbody tr th:only-of-type {\n",
              "        vertical-align: middle;\n",
              "    }\n",
              "\n",
              "    .dataframe tbody tr th {\n",
              "        vertical-align: top;\n",
              "    }\n",
              "\n",
              "    .dataframe thead th {\n",
              "        text-align: right;\n",
              "    }\n",
              "</style>\n",
              "<table border=\"1\" class=\"dataframe\">\n",
              "  <thead>\n",
              "    <tr style=\"text-align: right;\">\n",
              "      <th></th>\n",
              "      <th>Unnamed: 0</th>\n",
              "      <th>id_name</th>\n",
              "      <th>is_potentially_hazardous_asteroid</th>\n",
              "      <th>estimated_diameter.meters.estimated_diameter_min</th>\n",
              "      <th>estimated_diameter.meters.estimated_diameter_max</th>\n",
              "      <th>close_approach_date</th>\n",
              "      <th>epoch_date_close_approach</th>\n",
              "      <th>orbiting_body</th>\n",
              "      <th>relative_velocity.kilometers_per_second</th>\n",
              "      <th>relative_velocity.kilometers_per_hour</th>\n",
              "      <th>orbit_class_description</th>\n",
              "    </tr>\n",
              "  </thead>\n",
              "  <tbody>\n",
              "    <tr>\n",
              "      <th>0</th>\n",
              "      <td>0</td>\n",
              "      <td>2154652-154652 (2004 EP20)</td>\n",
              "      <td>False</td>\n",
              "      <td>483.676488</td>\n",
              "      <td>1081.533507</td>\n",
              "      <td>1995-01-07</td>\n",
              "      <td>789467580000</td>\n",
              "      <td>earth</td>\n",
              "      <td>16.142864</td>\n",
              "      <td>58114.3086669449</td>\n",
              "      <td>Near-Earth-asteroid-orbits-similar-to-that-o...</td>\n",
              "    </tr>\n",
              "    <tr>\n",
              "      <th>1</th>\n",
              "      <td>1</td>\n",
              "      <td>3153509-(2003 HM)</td>\n",
              "      <td>True</td>\n",
              "      <td>96.506147</td>\n",
              "      <td>215.794305</td>\n",
              "      <td>1995-01-07</td>\n",
              "      <td>789491340000</td>\n",
              "      <td>earth</td>\n",
              "      <td>12.351044</td>\n",
              "      <td>44463.7577343496</td>\n",
              "      <td>Near-Earth-asteroid-orbits-which-cross-the-E...</td>\n",
              "    </tr>\n",
              "    <tr>\n",
              "      <th>2</th>\n",
              "      <td>2</td>\n",
              "      <td>3516633-(2010 HA)</td>\n",
              "      <td>False</td>\n",
              "      <td>44.111820</td>\n",
              "      <td>98.637028</td>\n",
              "      <td>1995-01-07</td>\n",
              "      <td>789446820000</td>\n",
              "      <td>earth</td>\n",
              "      <td>6.220435</td>\n",
              "      <td>Unknown</td>\n",
              "      <td>Near-Earth-asteroid-orbits-similar-to-that-o...</td>\n",
              "    </tr>\n",
              "    <tr>\n",
              "      <th>3</th>\n",
              "      <td>3</td>\n",
              "      <td>3837644-(2019 AY3)</td>\n",
              "      <td>False</td>\n",
              "      <td>46.190746</td>\n",
              "      <td>103.285648</td>\n",
              "      <td>1995-01-07</td>\n",
              "      <td>789513900000</td>\n",
              "      <td>earth</td>\n",
              "      <td>22.478615</td>\n",
              "      <td>80923.0150213416</td>\n",
              "      <td>Near-Earth-asteroid-orbits-similar-to-that-o...</td>\n",
              "    </tr>\n",
              "    <tr>\n",
              "      <th>4</th>\n",
              "      <td>4</td>\n",
              "      <td>3843493-(2019 PY)</td>\n",
              "      <td>False</td>\n",
              "      <td>22.108281</td>\n",
              "      <td>49.435619</td>\n",
              "      <td>1995-01-07</td>\n",
              "      <td>789446700000</td>\n",
              "      <td>earth</td>\n",
              "      <td>4.998691</td>\n",
              "      <td>17995.2883553078</td>\n",
              "      <td>Near-Earth-asteroid-orbits-similar-to-that-of...</td>\n",
              "    </tr>\n",
              "  </tbody>\n",
              "</table>\n",
              "</div>"
            ],
            "text/plain": [
              "   Unnamed: 0  ...                            orbit_class_description\n",
              "0           0  ...    Near-Earth-asteroid-orbits-similar-to-that-o...\n",
              "1           1  ...    Near-Earth-asteroid-orbits-which-cross-the-E...\n",
              "2           2  ...    Near-Earth-asteroid-orbits-similar-to-that-o...\n",
              "3           3  ...    Near-Earth-asteroid-orbits-similar-to-that-o...\n",
              "4           4  ...   Near-Earth-asteroid-orbits-similar-to-that-of...\n",
              "\n",
              "[5 rows x 11 columns]"
            ]
          },
          "metadata": {
            "tags": []
          },
          "execution_count": 20
        }
      ]
    },
    {
      "cell_type": "code",
      "metadata": {
        "id": "g0g6lvzo7kvX",
        "colab": {
          "base_uri": "https://localhost:8080/"
        },
        "outputId": "5096e34f-9e80-4ee7-b4db-8acd02460fd7"
      },
      "source": [
        "df_reto_1.dtypes"
      ],
      "execution_count": null,
      "outputs": [
        {
          "output_type": "execute_result",
          "data": {
            "text/plain": [
              "Unnamed: 0                                            int64\n",
              "id_name                                              object\n",
              "is_potentially_hazardous_asteroid                      bool\n",
              "estimated_diameter.meters.estimated_diameter_min    float64\n",
              "estimated_diameter.meters.estimated_diameter_max    float64\n",
              "close_approach_date                                  object\n",
              "epoch_date_close_approach                             int64\n",
              "orbiting_body                                        object\n",
              "relative_velocity.kilometers_per_second             float64\n",
              "relative_velocity.kilometers_per_hour                object\n",
              "orbit_class_description                              object\n",
              "dtype: object"
            ]
          },
          "metadata": {
            "tags": []
          },
          "execution_count": 21
        }
      ]
    },
    {
      "cell_type": "code",
      "metadata": {
        "id": "W74t03M75RMz"
      },
      "source": [
        "df_reto_1['relative_velocity.kilometers_per_hour'] = pd.to_numeric(df_reto_1['relative_velocity.kilometers_per_hour'], errors='coerce')"
      ],
      "execution_count": null,
      "outputs": []
    },
    {
      "cell_type": "code",
      "metadata": {
        "id": "WkMCPqbK5mel"
      },
      "source": [
        "df_reto_1 = df_reto_1.dropna(axis=0).copy()"
      ],
      "execution_count": null,
      "outputs": []
    },
    {
      "cell_type": "code",
      "metadata": {
        "id": "68iDKaAW7sRp",
        "colab": {
          "base_uri": "https://localhost:8080/"
        },
        "outputId": "6ead5b2f-62ae-44dc-f293-79f1acf02aff"
      },
      "source": [
        "df_reto_1.dtypes"
      ],
      "execution_count": null,
      "outputs": [
        {
          "output_type": "execute_result",
          "data": {
            "text/plain": [
              "Unnamed: 0                                            int64\n",
              "id_name                                              object\n",
              "is_potentially_hazardous_asteroid                      bool\n",
              "estimated_diameter.meters.estimated_diameter_min    float64\n",
              "estimated_diameter.meters.estimated_diameter_max    float64\n",
              "close_approach_date                                  object\n",
              "epoch_date_close_approach                             int64\n",
              "orbiting_body                                        object\n",
              "relative_velocity.kilometers_per_second             float64\n",
              "relative_velocity.kilometers_per_hour               float64\n",
              "orbit_class_description                              object\n",
              "dtype: object"
            ]
          },
          "metadata": {
            "tags": []
          },
          "execution_count": 24
        }
      ]
    },
    {
      "cell_type": "code",
      "metadata": {
        "id": "JqGUG0Eg57e6",
        "colab": {
          "base_uri": "https://localhost:8080/"
        },
        "outputId": "dc8f4f29-40a0-482b-eb0f-2ef43ed54ca0"
      },
      "source": [
        "diccionario_de_conversion = {\n",
        "    'close_approach_date': 'datetime64[ms]'\n",
        "}\n",
        "\n",
        "df_reto_1 = df_reto_1.astype(diccionario_de_conversion)\n",
        "\n",
        "\n",
        "df_reto_1.dtypes"
      ],
      "execution_count": null,
      "outputs": [
        {
          "output_type": "execute_result",
          "data": {
            "text/plain": [
              "Unnamed: 0                                                   int64\n",
              "id_name                                                     object\n",
              "is_potentially_hazardous_asteroid                             bool\n",
              "estimated_diameter.meters.estimated_diameter_min           float64\n",
              "estimated_diameter.meters.estimated_diameter_max           float64\n",
              "close_approach_date                                 datetime64[ns]\n",
              "epoch_date_close_approach                                    int64\n",
              "orbiting_body                                               object\n",
              "relative_velocity.kilometers_per_second                    float64\n",
              "relative_velocity.kilometers_per_hour                      float64\n",
              "orbit_class_description                                     object\n",
              "dtype: object"
            ]
          },
          "metadata": {
            "tags": []
          },
          "execution_count": 26
        }
      ]
    },
    {
      "cell_type": "code",
      "metadata": {
        "id": "SzvNs0yt6TBw",
        "colab": {
          "base_uri": "https://localhost:8080/"
        },
        "outputId": "f2ffc4bc-3dc5-4ac4-87b4-52f67c08724f"
      },
      "source": [
        "df_reto_1['epoch_date_close_approach'] = pd.to_datetime(df_reto_1['epoch_date_close_approach'], unit='ms')\n",
        "\n",
        "df_reto_1.dtypes"
      ],
      "execution_count": null,
      "outputs": [
        {
          "output_type": "execute_result",
          "data": {
            "text/plain": [
              "Unnamed: 0                                                   int64\n",
              "id_name                                                     object\n",
              "is_potentially_hazardous_asteroid                             bool\n",
              "estimated_diameter.meters.estimated_diameter_min           float64\n",
              "estimated_diameter.meters.estimated_diameter_max           float64\n",
              "close_approach_date                                 datetime64[ns]\n",
              "epoch_date_close_approach                           datetime64[ns]\n",
              "orbiting_body                                               object\n",
              "relative_velocity.kilometers_per_second                    float64\n",
              "relative_velocity.kilometers_per_hour                      float64\n",
              "orbit_class_description                                     object\n",
              "dtype: object"
            ]
          },
          "metadata": {
            "tags": []
          },
          "execution_count": 27
        }
      ]
    },
    {
      "cell_type": "code",
      "metadata": {
        "id": "JLLLdDAc7_3Q",
        "colab": {
          "base_uri": "https://localhost:8080/",
          "height": 635
        },
        "outputId": "3db7c5e3-1d9b-49e2-df4e-90ce83217ae6"
      },
      "source": [
        "df_reto_1"
      ],
      "execution_count": null,
      "outputs": [
        {
          "output_type": "execute_result",
          "data": {
            "text/html": [
              "<div>\n",
              "<style scoped>\n",
              "    .dataframe tbody tr th:only-of-type {\n",
              "        vertical-align: middle;\n",
              "    }\n",
              "\n",
              "    .dataframe tbody tr th {\n",
              "        vertical-align: top;\n",
              "    }\n",
              "\n",
              "    .dataframe thead th {\n",
              "        text-align: right;\n",
              "    }\n",
              "</style>\n",
              "<table border=\"1\" class=\"dataframe\">\n",
              "  <thead>\n",
              "    <tr style=\"text-align: right;\">\n",
              "      <th></th>\n",
              "      <th>Unnamed: 0</th>\n",
              "      <th>id_name</th>\n",
              "      <th>is_potentially_hazardous_asteroid</th>\n",
              "      <th>estimated_diameter.meters.estimated_diameter_min</th>\n",
              "      <th>estimated_diameter.meters.estimated_diameter_max</th>\n",
              "      <th>close_approach_date</th>\n",
              "      <th>epoch_date_close_approach</th>\n",
              "      <th>orbiting_body</th>\n",
              "      <th>relative_velocity.kilometers_per_second</th>\n",
              "      <th>relative_velocity.kilometers_per_hour</th>\n",
              "      <th>orbit_class_description</th>\n",
              "    </tr>\n",
              "  </thead>\n",
              "  <tbody>\n",
              "    <tr>\n",
              "      <th>0</th>\n",
              "      <td>0</td>\n",
              "      <td>2154652-154652 (2004 EP20)</td>\n",
              "      <td>False</td>\n",
              "      <td>483.676488</td>\n",
              "      <td>1081.533507</td>\n",
              "      <td>1995-01-07</td>\n",
              "      <td>1995-01-07 08:33:00</td>\n",
              "      <td>earth</td>\n",
              "      <td>16.142864</td>\n",
              "      <td>58114.308667</td>\n",
              "      <td>Near-Earth-asteroid-orbits-similar-to-that-o...</td>\n",
              "    </tr>\n",
              "    <tr>\n",
              "      <th>1</th>\n",
              "      <td>1</td>\n",
              "      <td>3153509-(2003 HM)</td>\n",
              "      <td>True</td>\n",
              "      <td>96.506147</td>\n",
              "      <td>215.794305</td>\n",
              "      <td>1995-01-07</td>\n",
              "      <td>1995-01-07 15:09:00</td>\n",
              "      <td>earth</td>\n",
              "      <td>12.351044</td>\n",
              "      <td>44463.757734</td>\n",
              "      <td>Near-Earth-asteroid-orbits-which-cross-the-E...</td>\n",
              "    </tr>\n",
              "    <tr>\n",
              "      <th>3</th>\n",
              "      <td>3</td>\n",
              "      <td>3837644-(2019 AY3)</td>\n",
              "      <td>False</td>\n",
              "      <td>46.190746</td>\n",
              "      <td>103.285648</td>\n",
              "      <td>1995-01-07</td>\n",
              "      <td>1995-01-07 21:25:00</td>\n",
              "      <td>earth</td>\n",
              "      <td>22.478615</td>\n",
              "      <td>80923.015021</td>\n",
              "      <td>Near-Earth-asteroid-orbits-similar-to-that-o...</td>\n",
              "    </tr>\n",
              "    <tr>\n",
              "      <th>4</th>\n",
              "      <td>4</td>\n",
              "      <td>3843493-(2019 PY)</td>\n",
              "      <td>False</td>\n",
              "      <td>22.108281</td>\n",
              "      <td>49.435619</td>\n",
              "      <td>1995-01-07</td>\n",
              "      <td>1995-01-07 02:45:00</td>\n",
              "      <td>earth</td>\n",
              "      <td>4.998691</td>\n",
              "      <td>17995.288355</td>\n",
              "      <td>Near-Earth-asteroid-orbits-similar-to-that-of...</td>\n",
              "    </tr>\n",
              "    <tr>\n",
              "      <th>5</th>\n",
              "      <td>5</td>\n",
              "      <td>3765015-(2016 WR48)</td>\n",
              "      <td>False</td>\n",
              "      <td>160.160338</td>\n",
              "      <td>358.129403</td>\n",
              "      <td>1995-01-08</td>\n",
              "      <td>1995-01-08 12:46:00</td>\n",
              "      <td>earth</td>\n",
              "      <td>7.465089</td>\n",
              "      <td>26874.321682</td>\n",
              "      <td>An-asteroid-orbit-contained-entirely-within-t...</td>\n",
              "    </tr>\n",
              "    <tr>\n",
              "      <th>...</th>\n",
              "      <td>...</td>\n",
              "      <td>...</td>\n",
              "      <td>...</td>\n",
              "      <td>...</td>\n",
              "      <td>...</td>\n",
              "      <td>...</td>\n",
              "      <td>...</td>\n",
              "      <td>...</td>\n",
              "      <td>...</td>\n",
              "      <td>...</td>\n",
              "      <td>...</td>\n",
              "    </tr>\n",
              "    <tr>\n",
              "      <th>327</th>\n",
              "      <td>327</td>\n",
              "      <td>2311554-311554 (2006 BQ147)</td>\n",
              "      <td>False</td>\n",
              "      <td>483.676488</td>\n",
              "      <td>1081.533507</td>\n",
              "      <td>1995-02-21</td>\n",
              "      <td>1995-02-21 17:29:00</td>\n",
              "      <td>earth</td>\n",
              "      <td>15.474761</td>\n",
              "      <td>55709.139812</td>\n",
              "      <td>Near-Earth-asteroid-orbits-similar-to-that-of...</td>\n",
              "    </tr>\n",
              "    <tr>\n",
              "      <th>328</th>\n",
              "      <td>328</td>\n",
              "      <td>2267136-267136 (2000 EF104)</td>\n",
              "      <td>False</td>\n",
              "      <td>441.118200</td>\n",
              "      <td>986.370281</td>\n",
              "      <td>1995-02-21</td>\n",
              "      <td>1995-02-21 04:17:00</td>\n",
              "      <td>earth</td>\n",
              "      <td>16.180392</td>\n",
              "      <td>58249.410194</td>\n",
              "      <td>Near-Earth-asteroid-orbits-similar-to-that-o...</td>\n",
              "    </tr>\n",
              "    <tr>\n",
              "      <th>329</th>\n",
              "      <td>329</td>\n",
              "      <td>3360486-(2006 WE4)</td>\n",
              "      <td>False</td>\n",
              "      <td>441.118200</td>\n",
              "      <td>986.370281</td>\n",
              "      <td>1995-02-21</td>\n",
              "      <td>1995-02-21 15:44:00</td>\n",
              "      <td>earth</td>\n",
              "      <td>15.106140</td>\n",
              "      <td>54382.104639</td>\n",
              "      <td>Near-Earth-asteroid-orbits-which-cross-the-E...</td>\n",
              "    </tr>\n",
              "    <tr>\n",
              "      <th>330</th>\n",
              "      <td>330</td>\n",
              "      <td>3656919-(2014 BG3)</td>\n",
              "      <td>False</td>\n",
              "      <td>160.160338</td>\n",
              "      <td>358.129403</td>\n",
              "      <td>1995-02-21</td>\n",
              "      <td>1995-02-21 12:08:00</td>\n",
              "      <td>earth</td>\n",
              "      <td>20.343173</td>\n",
              "      <td>73235.423517</td>\n",
              "      <td>An-asteroid-orbit-contained-entirely-within-t...</td>\n",
              "    </tr>\n",
              "    <tr>\n",
              "      <th>331</th>\n",
              "      <td>331</td>\n",
              "      <td>3803762-(2018 GY4)</td>\n",
              "      <td>False</td>\n",
              "      <td>421.264611</td>\n",
              "      <td>941.976306</td>\n",
              "      <td>1995-02-21</td>\n",
              "      <td>1995-02-21 12:54:00</td>\n",
              "      <td>earth</td>\n",
              "      <td>29.732426</td>\n",
              "      <td>107036.733058</td>\n",
              "      <td>Near-Earth-asteroid-orbits-similar-to-that-o...</td>\n",
              "    </tr>\n",
              "  </tbody>\n",
              "</table>\n",
              "<p>301 rows × 11 columns</p>\n",
              "</div>"
            ],
            "text/plain": [
              "     Unnamed: 0  ...                            orbit_class_description\n",
              "0             0  ...    Near-Earth-asteroid-orbits-similar-to-that-o...\n",
              "1             1  ...    Near-Earth-asteroid-orbits-which-cross-the-E...\n",
              "3             3  ...    Near-Earth-asteroid-orbits-similar-to-that-o...\n",
              "4             4  ...   Near-Earth-asteroid-orbits-similar-to-that-of...\n",
              "5             5  ...   An-asteroid-orbit-contained-entirely-within-t...\n",
              "..          ...  ...                                                ...\n",
              "327         327  ...   Near-Earth-asteroid-orbits-similar-to-that-of...\n",
              "328         328  ...    Near-Earth-asteroid-orbits-similar-to-that-o...\n",
              "329         329  ...    Near-Earth-asteroid-orbits-which-cross-the-E...\n",
              "330         330  ...   An-asteroid-orbit-contained-entirely-within-t...\n",
              "331         331  ...    Near-Earth-asteroid-orbits-similar-to-that-o...\n",
              "\n",
              "[301 rows x 11 columns]"
            ]
          },
          "metadata": {
            "tags": []
          },
          "execution_count": 29
        }
      ]
    },
    {
      "cell_type": "code",
      "metadata": {
        "id": "8E7rUQuo-xYr"
      },
      "source": [
        "#df_reto_1.to_csv('/content/drive/MyDrive/Datasets/near_earth_objects-jan_feb_1995.csv')"
      ],
      "execution_count": 36,
      "outputs": []
    },
    {
      "cell_type": "markdown",
      "metadata": {
        "id": "-ahkNo694p2F"
      },
      "source": [
        "Pídele a tu experta la función de verificación `checar_conversiones` (encontrada en el archivo `helpers.py` de la carpeta donde se encuentra este Reto), pégala debajo y corre la celda para verificar tu resultado:"
      ]
    },
    {
      "cell_type": "code",
      "metadata": {
        "id": "G-A6K9Si4p2J",
        "colab": {
          "base_uri": "https://localhost:8080/"
        },
        "outputId": "4d0d676e-e402-4ebb-9cd2-0c4d9d03e374"
      },
      "source": [
        "# Pega aquí la función de verificación\n",
        "def checar_conversiones(df_reto_1):\n",
        "    \n",
        "    import pandas as pd\n",
        "    import pandas.api.types as ptypes\n",
        "    \n",
        "    assert ptypes.is_float_dtype(df_reto_1['relative_velocity.kilometers_per_hour']), 'Cuidado... La columna `relative_velocity.kilometers_per_hour` no es de tipo `float64`'\n",
        "    assert ptypes.is_datetime64_any_dtype(df_reto_1['close_approach_date']), 'Cuidado... La columna `close_approach_date` no es de tipo `datetime64[ns]`'\n",
        "    assert ptypes.is_datetime64_any_dtype(df_reto_1['epoch_date_close_approach']), 'Cuidado... La columna `epoch_date_close_approach` no es de tipo `datetime64[ns]'\n",
        "    \n",
        "    print(f'¡Éxito! ¡Todas tus conversiones fueron realizadas adecuadamente!')\n",
        "    \n",
        "checar_conversiones(df_reto_1)"
      ],
      "execution_count": null,
      "outputs": [
        {
          "output_type": "stream",
          "text": [
            "¡Éxito! ¡Todas tus conversiones fueron realizadas adecuadamente!\n"
          ],
          "name": "stdout"
        }
      ]
    },
    {
      "cell_type": "code",
      "metadata": {
        "id": "FW2GA9RS4p2Q"
      },
      "source": [
        ""
      ],
      "execution_count": null,
      "outputs": []
    }
  ]
}