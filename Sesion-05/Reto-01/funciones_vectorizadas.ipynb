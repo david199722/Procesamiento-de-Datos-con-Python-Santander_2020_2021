{
  "nbformat": 4,
  "nbformat_minor": 0,
  "metadata": {
    "kernelspec": {
      "display_name": "Python 3",
      "language": "python",
      "name": "python3"
    },
    "language_info": {
      "codemirror_mode": {
        "name": "ipython",
        "version": 3
      },
      "file_extension": ".py",
      "mimetype": "text/x-python",
      "name": "python",
      "nbconvert_exporter": "python",
      "pygments_lexer": "ipython3",
      "version": "3.8.3"
    },
    "colab": {
      "name": "funciones_vectorizadas.ipynb",
      "provenance": []
    }
  },
  "cells": [
    {
      "cell_type": "markdown",
      "metadata": {
        "id": "8I9ICcwj3xHd"
      },
      "source": [
        "## Reto 1: Funciones vectorizadas\n",
        "\n",
        "### 1. Objetivos:\n",
        "    - Practicar el uso de funciones vectorizadas\n",
        " \n",
        "---\n",
        "    \n",
        "### 2. Desarrollo:"
      ]
    },
    {
      "cell_type": "markdown",
      "metadata": {
        "id": "ZrBqa3cL3xHl"
      },
      "source": [
        "#### a) Porcentaje del total\n",
        "\n",
        "Eres maestro en la H. Universidad de las Américas Unidas. Has realizado el examen final de la primera generación de estudiantes de la escuela. El conteo máximo de aciertos en el examen era de 68 (es decir, 68 aciertos equivale al 100% de las preguntas respondidas correctamente). La siguiente `Serie` reúne los aciertos obtenidos por los 25 alumnos de la generación:"
      ]
    },
    {
      "cell_type": "code",
      "metadata": {
        "id": "fPHM65s13xHt"
      },
      "source": [
        "## Realizar aquí los imports que necesites\n",
        "import pandas as pd\n",
        "import numpy as np"
      ],
      "execution_count": 1,
      "outputs": []
    },
    {
      "cell_type": "code",
      "metadata": {
        "id": "R3bFn9Z53xIB"
      },
      "source": [
        "aciertos = pd.Series([50, 55, 45, 65, 66, 46, 48, 53, 55, 56, 59, 68, 67, 60, 45, 56, 66, 64, 59, 55, 34, 45, 49, 48, 55])"
      ],
      "execution_count": 2,
      "outputs": []
    },
    {
      "cell_type": "markdown",
      "metadata": {
        "id": "5JOZZsT73xIJ"
      },
      "source": [
        "Tus calificaciones las das siempre en \"porcentaje de aciertos\". Tu reto es convertir la `Serie` `aciertos` en la `Serie` `porcentajes`, que contiene cada valor de `aciertos` como un porcentaje del número de aciertos totales (68).\n",
        "\n",
        "**SÓLO** puedes usar funciones vectorizadas de `numpy` para realizar tus cálculos. [Aquí puedes encontrar las funciones que necesitas](https://www.interactivechaos.com/manual/tutorial-de-numpy/funciones-universales-matematicas)."
      ]
    },
    {
      "cell_type": "code",
      "metadata": {
        "id": "kjoOBakv3xIN",
        "outputId": "2125700c-0c12-4689-9bb6-82051967f7b2",
        "colab": {
          "base_uri": "https://localhost:8080/"
        }
      },
      "source": [
        "## Realiza aquí tus cálculos\n",
        "porcentajes = np.divide(np.multiply(aciertos, 100), 68)\n",
        "porcentajes"
      ],
      "execution_count": 10,
      "outputs": [
        {
          "output_type": "execute_result",
          "data": {
            "text/plain": [
              "0      73.529412\n",
              "1      80.882353\n",
              "2      66.176471\n",
              "3      95.588235\n",
              "4      97.058824\n",
              "5      67.647059\n",
              "6      70.588235\n",
              "7      77.941176\n",
              "8      80.882353\n",
              "9      82.352941\n",
              "10     86.764706\n",
              "11    100.000000\n",
              "12     98.529412\n",
              "13     88.235294\n",
              "14     66.176471\n",
              "15     82.352941\n",
              "16     97.058824\n",
              "17     94.117647\n",
              "18     86.764706\n",
              "19     80.882353\n",
              "20     50.000000\n",
              "21     66.176471\n",
              "22     72.058824\n",
              "23     70.588235\n",
              "24     80.882353\n",
              "dtype: float64"
            ]
          },
          "metadata": {
            "tags": []
          },
          "execution_count": 10
        }
      ]
    },
    {
      "cell_type": "markdown",
      "metadata": {
        "id": "2FUoAtHO3xIR"
      },
      "source": [
        "Pídele a tu experta la función de verificación `obtener_calificaciones` (encontrada en el archivo `helpers.py` de la carpeta donde se encuentra este Reto), pégala debajo y corre la celda para verificar tu resultado:"
      ]
    },
    {
      "cell_type": "code",
      "metadata": {
        "id": "-DoQuHKT3xIT",
        "outputId": "2df7df11-d727-41f5-8e3a-436c83ab2721",
        "colab": {
          "base_uri": "https://localhost:8080/"
        }
      },
      "source": [
        "# Pega aquí la función de verificación\n",
        "def obtener_calificaciones(aciertos, porcentajes):\n",
        "    \n",
        "    import numpy as np\n",
        "    \n",
        "    porcentajes_correcto = np.divide(np.multiply(aciertos, 100), 68)\n",
        "    if not porcentajes_correcto.equals(porcentajes):\n",
        "        print(f'Hay algún error en tus cálculos...')\n",
        "        print(f'¡Por favor intenta de nuevo!')\n",
        "        return\n",
        "        \n",
        "    print(f'== Calificaciones finales ==\\n')\n",
        "    print(f'{(\"Id del Alumno\"):15} | {(\"Porcentaje de Aciertos\"):15}')\n",
        "    print(f'----------------------------------------')\n",
        "    for i in range(0, len(porcentajes)):\n",
        "        print(f'{i:<15} | {np.round(porcentajes[i], 2):<}%')\n",
        "        \n",
        "obtener_calificaciones(aciertos, porcentajes)"
      ],
      "execution_count": 11,
      "outputs": [
        {
          "output_type": "stream",
          "text": [
            "== Calificaciones finales ==\n",
            "\n",
            "Id del Alumno   | Porcentaje de Aciertos\n",
            "----------------------------------------\n",
            "0               | 73.53%\n",
            "1               | 80.88%\n",
            "2               | 66.18%\n",
            "3               | 95.59%\n",
            "4               | 97.06%\n",
            "5               | 67.65%\n",
            "6               | 70.59%\n",
            "7               | 77.94%\n",
            "8               | 80.88%\n",
            "9               | 82.35%\n",
            "10              | 86.76%\n",
            "11              | 100.0%\n",
            "12              | 98.53%\n",
            "13              | 88.24%\n",
            "14              | 66.18%\n",
            "15              | 82.35%\n",
            "16              | 97.06%\n",
            "17              | 94.12%\n",
            "18              | 86.76%\n",
            "19              | 80.88%\n",
            "20              | 50.0%\n",
            "21              | 66.18%\n",
            "22              | 72.06%\n",
            "23              | 70.59%\n",
            "24              | 80.88%\n"
          ],
          "name": "stdout"
        }
      ]
    },
    {
      "cell_type": "code",
      "metadata": {
        "id": "mE_E0qFs3xIY"
      },
      "source": [
        ""
      ],
      "execution_count": null,
      "outputs": []
    }
  ]
}