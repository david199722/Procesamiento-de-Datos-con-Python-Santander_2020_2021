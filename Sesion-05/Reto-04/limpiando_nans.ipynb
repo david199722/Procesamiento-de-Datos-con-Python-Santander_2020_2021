{
  "nbformat": 4,
  "nbformat_minor": 0,
  "metadata": {
    "kernelspec": {
      "display_name": "Python 3",
      "language": "python",
      "name": "python3"
    },
    "language_info": {
      "codemirror_mode": {
        "name": "ipython",
        "version": 3
      },
      "file_extension": ".py",
      "mimetype": "text/x-python",
      "name": "python",
      "nbconvert_exporter": "python",
      "pygments_lexer": "ipython3",
      "version": "3.8.3"
    },
    "colab": {
      "name": "limpiando_nans.ipynb",
      "provenance": []
    }
  },
  "cells": [
    {
      "cell_type": "markdown",
      "metadata": {
        "id": "eJF65UcCPf05"
      },
      "source": [
        "## Reto 4: Identificando y limpiando NaNs\n",
        "\n",
        "### 1. Objetivos:\n",
        "    - Practicar la identificación de NaNs\n",
        "    - Practicar eliminar NaNs de un `DataFrame` usando diferentes técnicas\n",
        " \n",
        "---\n",
        "    \n",
        "### 2. Desarrollo:"
      ]
    },
    {
      "cell_type": "markdown",
      "metadata": {
        "id": "we4fgxQ4Pf1r"
      },
      "source": [
        "#### a) Limpiando un Dataset de NaNs\n",
        "\n",
        "Eres el Data Wrangler de EyePoker Inc. Te han dado el siguiente dataset para que apliques algunas técnicas de procesamiento de datos:"
      ]
    },
    {
      "cell_type": "code",
      "metadata": {
        "id": "NBxG2806Pf1x"
      },
      "source": [
        "import pandas as pd\n",
        "import numpy as np\n",
        "\n",
        "pd.options.mode.chained_assignment = None "
      ],
      "execution_count": 1,
      "outputs": []
    },
    {
      "cell_type": "code",
      "metadata": {
        "id": "QUvvQ-2SPf10"
      },
      "source": [
        "datos = {\n",
        "    'precio': [12000, 5500, np.nan, 4800, 8900, np.nan, 1280, 1040, 23100, np.nan, 15000, 13400, np.nan],\n",
        "    'cantidad_en_stock': [34, 54, np.nan, 78, 56, np.nan, 34, 4, 0, 18, 45, 23, 5],\n",
        "    'cantidad_vendidos': [120, 34, np.nan, 9, 15, np.nan, 103, np.nan, np.nan, 23, 10, 62, 59],\n",
        "    'descuentos': [np.nan] * 13\n",
        "}\n",
        "\n",
        "df = pd.DataFrame(datos, index=[\"Pokemaster\", \"Cegatron\", \"Pikame Mucho\", \"Lazarillo de Tormes\", \"Stevie Wonder\", \"Needle\", \"El AyMeDuele\", \"El Desretinador\", \"Sacamel Ojocles\", \"Desojado\", \"Maribel Buenas Noches\", \"Cíclope\", \"El Cuatro Ojos\"])"
      ],
      "execution_count": 2,
      "outputs": []
    },
    {
      "cell_type": "code",
      "metadata": {
        "id": "xHZF5W6YPf2D",
        "outputId": "5517af95-1985-4aee-e0e1-ef7eca4d12ec",
        "colab": {
          "base_uri": "https://localhost:8080/",
          "height": 457
        }
      },
      "source": [
        "df"
      ],
      "execution_count": 3,
      "outputs": [
        {
          "output_type": "execute_result",
          "data": {
            "text/html": [
              "<div>\n",
              "<style scoped>\n",
              "    .dataframe tbody tr th:only-of-type {\n",
              "        vertical-align: middle;\n",
              "    }\n",
              "\n",
              "    .dataframe tbody tr th {\n",
              "        vertical-align: top;\n",
              "    }\n",
              "\n",
              "    .dataframe thead th {\n",
              "        text-align: right;\n",
              "    }\n",
              "</style>\n",
              "<table border=\"1\" class=\"dataframe\">\n",
              "  <thead>\n",
              "    <tr style=\"text-align: right;\">\n",
              "      <th></th>\n",
              "      <th>precio</th>\n",
              "      <th>cantidad_en_stock</th>\n",
              "      <th>cantidad_vendidos</th>\n",
              "      <th>descuentos</th>\n",
              "    </tr>\n",
              "  </thead>\n",
              "  <tbody>\n",
              "    <tr>\n",
              "      <th>Pokemaster</th>\n",
              "      <td>12000.0</td>\n",
              "      <td>34.0</td>\n",
              "      <td>120.0</td>\n",
              "      <td>NaN</td>\n",
              "    </tr>\n",
              "    <tr>\n",
              "      <th>Cegatron</th>\n",
              "      <td>5500.0</td>\n",
              "      <td>54.0</td>\n",
              "      <td>34.0</td>\n",
              "      <td>NaN</td>\n",
              "    </tr>\n",
              "    <tr>\n",
              "      <th>Pikame Mucho</th>\n",
              "      <td>NaN</td>\n",
              "      <td>NaN</td>\n",
              "      <td>NaN</td>\n",
              "      <td>NaN</td>\n",
              "    </tr>\n",
              "    <tr>\n",
              "      <th>Lazarillo de Tormes</th>\n",
              "      <td>4800.0</td>\n",
              "      <td>78.0</td>\n",
              "      <td>9.0</td>\n",
              "      <td>NaN</td>\n",
              "    </tr>\n",
              "    <tr>\n",
              "      <th>Stevie Wonder</th>\n",
              "      <td>8900.0</td>\n",
              "      <td>56.0</td>\n",
              "      <td>15.0</td>\n",
              "      <td>NaN</td>\n",
              "    </tr>\n",
              "    <tr>\n",
              "      <th>Needle</th>\n",
              "      <td>NaN</td>\n",
              "      <td>NaN</td>\n",
              "      <td>NaN</td>\n",
              "      <td>NaN</td>\n",
              "    </tr>\n",
              "    <tr>\n",
              "      <th>El AyMeDuele</th>\n",
              "      <td>1280.0</td>\n",
              "      <td>34.0</td>\n",
              "      <td>103.0</td>\n",
              "      <td>NaN</td>\n",
              "    </tr>\n",
              "    <tr>\n",
              "      <th>El Desretinador</th>\n",
              "      <td>1040.0</td>\n",
              "      <td>4.0</td>\n",
              "      <td>NaN</td>\n",
              "      <td>NaN</td>\n",
              "    </tr>\n",
              "    <tr>\n",
              "      <th>Sacamel Ojocles</th>\n",
              "      <td>23100.0</td>\n",
              "      <td>0.0</td>\n",
              "      <td>NaN</td>\n",
              "      <td>NaN</td>\n",
              "    </tr>\n",
              "    <tr>\n",
              "      <th>Desojado</th>\n",
              "      <td>NaN</td>\n",
              "      <td>18.0</td>\n",
              "      <td>23.0</td>\n",
              "      <td>NaN</td>\n",
              "    </tr>\n",
              "    <tr>\n",
              "      <th>Maribel Buenas Noches</th>\n",
              "      <td>15000.0</td>\n",
              "      <td>45.0</td>\n",
              "      <td>10.0</td>\n",
              "      <td>NaN</td>\n",
              "    </tr>\n",
              "    <tr>\n",
              "      <th>Cíclope</th>\n",
              "      <td>13400.0</td>\n",
              "      <td>23.0</td>\n",
              "      <td>62.0</td>\n",
              "      <td>NaN</td>\n",
              "    </tr>\n",
              "    <tr>\n",
              "      <th>El Cuatro Ojos</th>\n",
              "      <td>NaN</td>\n",
              "      <td>5.0</td>\n",
              "      <td>59.0</td>\n",
              "      <td>NaN</td>\n",
              "    </tr>\n",
              "  </tbody>\n",
              "</table>\n",
              "</div>"
            ],
            "text/plain": [
              "                        precio  ...  descuentos\n",
              "Pokemaster             12000.0  ...         NaN\n",
              "Cegatron                5500.0  ...         NaN\n",
              "Pikame Mucho               NaN  ...         NaN\n",
              "Lazarillo de Tormes     4800.0  ...         NaN\n",
              "Stevie Wonder           8900.0  ...         NaN\n",
              "Needle                     NaN  ...         NaN\n",
              "El AyMeDuele            1280.0  ...         NaN\n",
              "El Desretinador         1040.0  ...         NaN\n",
              "Sacamel Ojocles        23100.0  ...         NaN\n",
              "Desojado                   NaN  ...         NaN\n",
              "Maribel Buenas Noches  15000.0  ...         NaN\n",
              "Cíclope                13400.0  ...         NaN\n",
              "El Cuatro Ojos             NaN  ...         NaN\n",
              "\n",
              "[13 rows x 4 columns]"
            ]
          },
          "metadata": {
            "tags": []
          },
          "execution_count": 3
        }
      ]
    },
    {
      "cell_type": "markdown",
      "metadata": {
        "id": "z3SopgCHPf2F"
      },
      "source": [
        "Para poder realizar los análisis y visualizaciones posteriores, te han pedido que elimines los `NaNs` del dataset. Realiza los siguientes pasos para limpiar tu dataset:\n",
        "\n",
        "1. Has un conteo de cuántos `NaNs` hay en cada fila y en cada columna\n",
        "2. Elimina las filas y columnas donde **todos** los valores sean `NaN`.\n",
        "3. Dado que la columna `cantidad_vendidos` no es tan importante, cambia los `NaNs` que haya en esa columna por `0`.\n",
        "4. Dado que la columna `precio` es muy importante, elimina las filas restantes que tengan algún `NaN` en dicha columna.\n",
        "\n",
        "Realiza todas tus transformaciones usando el `DataFrame` `df_copy`."
      ]
    },
    {
      "cell_type": "code",
      "metadata": {
        "id": "N20d5CcoPf2I",
        "outputId": "80316dbd-e55c-4541-98fc-5472024833e4",
        "colab": {
          "base_uri": "https://localhost:8080/",
          "height": 688
        }
      },
      "source": [
        "df_copy = df.copy()\n",
        "\n",
        "## Realiza aquí tus transformaciones\n",
        "nans_filas = df_copy.isna().sum(axis=1)\n",
        "print(nans_filas)\n",
        "nans_columnas = df_copy.isna().sum(axis=0)\n",
        "print(nans_columnas)\n",
        "df_copy = df_copy.dropna(axis=1,how = 'all')\n",
        "df_copy = df_copy.dropna(axis=0,how = 'all')\n",
        "\n",
        "df_copy[\"cantidad_vendidos\"] = df_copy[\"cantidad_vendidos\"].fillna(0)\n",
        "df_copy = df_copy.dropna()\n",
        "df_copy"
      ],
      "execution_count": 21,
      "outputs": [
        {
          "output_type": "stream",
          "text": [
            "Pokemaster               1\n",
            "Cegatron                 1\n",
            "Pikame Mucho             4\n",
            "Lazarillo de Tormes      1\n",
            "Stevie Wonder            1\n",
            "Needle                   4\n",
            "El AyMeDuele             1\n",
            "El Desretinador          2\n",
            "Sacamel Ojocles          2\n",
            "Desojado                 2\n",
            "Maribel Buenas Noches    1\n",
            "Cíclope                  1\n",
            "El Cuatro Ojos           2\n",
            "dtype: int64\n",
            "precio                4\n",
            "cantidad_en_stock     2\n",
            "cantidad_vendidos     4\n",
            "descuentos           13\n",
            "dtype: int64\n"
          ],
          "name": "stdout"
        },
        {
          "output_type": "execute_result",
          "data": {
            "text/html": [
              "<div>\n",
              "<style scoped>\n",
              "    .dataframe tbody tr th:only-of-type {\n",
              "        vertical-align: middle;\n",
              "    }\n",
              "\n",
              "    .dataframe tbody tr th {\n",
              "        vertical-align: top;\n",
              "    }\n",
              "\n",
              "    .dataframe thead th {\n",
              "        text-align: right;\n",
              "    }\n",
              "</style>\n",
              "<table border=\"1\" class=\"dataframe\">\n",
              "  <thead>\n",
              "    <tr style=\"text-align: right;\">\n",
              "      <th></th>\n",
              "      <th>precio</th>\n",
              "      <th>cantidad_en_stock</th>\n",
              "      <th>cantidad_vendidos</th>\n",
              "    </tr>\n",
              "  </thead>\n",
              "  <tbody>\n",
              "    <tr>\n",
              "      <th>Pokemaster</th>\n",
              "      <td>12000.0</td>\n",
              "      <td>34.0</td>\n",
              "      <td>120.0</td>\n",
              "    </tr>\n",
              "    <tr>\n",
              "      <th>Cegatron</th>\n",
              "      <td>5500.0</td>\n",
              "      <td>54.0</td>\n",
              "      <td>34.0</td>\n",
              "    </tr>\n",
              "    <tr>\n",
              "      <th>Lazarillo de Tormes</th>\n",
              "      <td>4800.0</td>\n",
              "      <td>78.0</td>\n",
              "      <td>9.0</td>\n",
              "    </tr>\n",
              "    <tr>\n",
              "      <th>Stevie Wonder</th>\n",
              "      <td>8900.0</td>\n",
              "      <td>56.0</td>\n",
              "      <td>15.0</td>\n",
              "    </tr>\n",
              "    <tr>\n",
              "      <th>El AyMeDuele</th>\n",
              "      <td>1280.0</td>\n",
              "      <td>34.0</td>\n",
              "      <td>103.0</td>\n",
              "    </tr>\n",
              "    <tr>\n",
              "      <th>El Desretinador</th>\n",
              "      <td>1040.0</td>\n",
              "      <td>4.0</td>\n",
              "      <td>0.0</td>\n",
              "    </tr>\n",
              "    <tr>\n",
              "      <th>Sacamel Ojocles</th>\n",
              "      <td>23100.0</td>\n",
              "      <td>0.0</td>\n",
              "      <td>0.0</td>\n",
              "    </tr>\n",
              "    <tr>\n",
              "      <th>Maribel Buenas Noches</th>\n",
              "      <td>15000.0</td>\n",
              "      <td>45.0</td>\n",
              "      <td>10.0</td>\n",
              "    </tr>\n",
              "    <tr>\n",
              "      <th>Cíclope</th>\n",
              "      <td>13400.0</td>\n",
              "      <td>23.0</td>\n",
              "      <td>62.0</td>\n",
              "    </tr>\n",
              "  </tbody>\n",
              "</table>\n",
              "</div>"
            ],
            "text/plain": [
              "                        precio  cantidad_en_stock  cantidad_vendidos\n",
              "Pokemaster             12000.0               34.0              120.0\n",
              "Cegatron                5500.0               54.0               34.0\n",
              "Lazarillo de Tormes     4800.0               78.0                9.0\n",
              "Stevie Wonder           8900.0               56.0               15.0\n",
              "El AyMeDuele            1280.0               34.0              103.0\n",
              "El Desretinador         1040.0                4.0                0.0\n",
              "Sacamel Ojocles        23100.0                0.0                0.0\n",
              "Maribel Buenas Noches  15000.0               45.0               10.0\n",
              "Cíclope                13400.0               23.0               62.0"
            ]
          },
          "metadata": {
            "tags": []
          },
          "execution_count": 21
        }
      ]
    },
    {
      "cell_type": "markdown",
      "metadata": {
        "id": "ZQvOsvPFPf2M"
      },
      "source": [
        "Pídele a tu experta la función de verificación `revisar_limpieza` (encontrada en el archivo `helpers.py` de la carpeta donde se encuentra este Reto), pégala debajo y corre la celda para verificar tu resultado:"
      ]
    },
    {
      "cell_type": "code",
      "metadata": {
        "id": "fTUO5FTPPf2Q",
        "outputId": "856a275c-055b-47c2-a4bf-aa1514222388",
        "colab": {
          "base_uri": "https://localhost:8080/"
        }
      },
      "source": [
        "# Pega aquí la función de verificación\n",
        "def revisar_limpieza(df, df_copy):\n",
        "    df_2 = df.copy()\n",
        "    df_2 = df_2.dropna(axis=0, how='all')\n",
        "    df_2 = df_2.dropna(axis=1, how='all')\n",
        "    df_2['cantidad_vendidos'] = df_2['cantidad_vendidos'].fillna(0)\n",
        "    df_2 = df_2.dropna(axis=0)\n",
        "    \n",
        "    if not df_2.equals(df_copy):\n",
        "        print(f'La transformación no fue realizada adecuadamente... Por favor revisa tu procedimiento.\\n')\n",
        "        print(f'DataFrame esperado:\\n')\n",
        "        print(df_2)\n",
        "        \n",
        "        print(f'\\nDataframe obtenido:\\n')\n",
        "        print(df_copy)\n",
        "    else:\n",
        "        print(f'La transformación fue realizada exitosamente... Muchas gracias!')\n",
        "\n",
        "        \n",
        "revisar_limpieza(df, df_copy)"
      ],
      "execution_count": 18,
      "outputs": [
        {
          "output_type": "stream",
          "text": [
            "La transformación fue realizada exitosamente... Muchas gracias!\n"
          ],
          "name": "stdout"
        }
      ]
    },
    {
      "cell_type": "code",
      "metadata": {
        "id": "mvKv-JZdPf2S"
      },
      "source": [
        ""
      ],
      "execution_count": null,
      "outputs": []
    }
  ]
}