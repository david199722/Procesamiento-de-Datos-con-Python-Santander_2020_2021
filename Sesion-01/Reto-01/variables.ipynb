{
  "nbformat": 4,
  "nbformat_minor": 0,
  "metadata": {
    "kernelspec": {
      "display_name": "Python 3",
      "language": "python",
      "name": "python3"
    },
    "language_info": {
      "codemirror_mode": {
        "name": "ipython",
        "version": 3
      },
      "file_extension": ".py",
      "mimetype": "text/x-python",
      "name": "python",
      "nbconvert_exporter": "python",
      "pygments_lexer": "ipython3",
      "version": "3.8.3"
    },
    "colab": {
      "name": "variables.ipynb",
      "provenance": []
    }
  },
  "cells": [
    {
      "cell_type": "markdown",
      "metadata": {
        "id": "rJsSkS9tsX5O"
      },
      "source": [
        "## Reto 1: Variables\n",
        "\n",
        "### 1. Objetivos:\n",
        "    - Practicar convención de nombramiento y asignación de variables\n",
        " \n",
        "---\n",
        "    \n",
        "### 2. Desarrollo:"
      ]
    },
    {
      "cell_type": "markdown",
      "metadata": {
        "id": "J5_ek76BsX5k"
      },
      "source": [
        "Indica cuáles nombres de variables son válidos y cuáles con inválidos. Puedes hacerlo colocando un comentario al lado de cada asignación (`# esto es un comentario`). Los comentarios son texto que Python ignora a la hora de correr una celda. Nos sirven para hacer anotaciones."
      ]
    },
    {
      "cell_type": "code",
      "metadata": {
        "id": "5VuaWm8asX5u"
      },
      "source": [
        "var_1 = 5 # valido\n",
        "\n",
        "variable_nueva_2 = 10 #valido\n",
        "\n",
        "Variable_nueva_3 = 11 #invalido mayusucla\n",
        "\n",
        "var_3_1 = 14 #valida\n",
        "\n",
        "varNueva4 = 44 #mayusucla invalido\n",
        "\n",
        "var_nuevaNumero = 98 #mayuscula invalido\n",
        "\n",
        "var_num = 22 #valido\n",
        "\n",
        "VarNum = 11 #invalido\n",
        "\n",
        "soyUnaVariable = 14 #invalido"
      ],
      "execution_count": null,
      "outputs": []
    },
    {
      "cell_type": "markdown",
      "metadata": {
        "id": "vOFgYkYIsX6B"
      },
      "source": [
        "Ahora practica realizar algunas asignaciones en la celda de abajo. ¡Puedes asignarle a tus variables números enteros y también decimales!"
      ]
    },
    {
      "cell_type": "code",
      "metadata": {
        "id": "8Wa22C--sX6E"
      },
      "source": [
        "# Asigna el número 12345 a una variable llamada variable_locochona\n",
        "\n",
        "variable_locochona = 12345\n",
        "\n",
        "# Asigna el número 14.567 a una variable llamada var_decimal\n",
        "\n",
        "var_decimal = 14.567\n",
        "\n",
        "# Asigna cualquier número a una varible que tenga 5 palabras en su nombre (recuerda las convenciones)\n",
        "\n",
        "hola_estas_son_cinco_palabras = 3.14\n",
        "\n",
        "# Asigna cualquier número a una variable que incluya palabras y números en su nombre\n",
        "\n",
        "palabra_2 = 3\n",
        "\n",
        "# Asigna variables a discreción\n",
        "\n",
        "h = 1\n",
        "o = 2\n",
        "l = 3 \n",
        "a = 4"
      ],
      "execution_count": 3,
      "outputs": []
    },
    {
      "cell_type": "code",
      "metadata": {
        "id": "AcdePJgZsX6O",
        "outputId": "ac97d693-c499-4ccc-a606-0e4f2c23769a",
        "colab": {
          "base_uri": "https://localhost:8080/"
        }
      },
      "source": [
        "h+o+l+a"
      ],
      "execution_count": 4,
      "outputs": [
        {
          "output_type": "execute_result",
          "data": {
            "text/plain": [
              "10"
            ]
          },
          "metadata": {
            "tags": []
          },
          "execution_count": 4
        }
      ]
    }
  ]
}