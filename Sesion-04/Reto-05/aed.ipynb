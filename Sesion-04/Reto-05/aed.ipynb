{
  "nbformat": 4,
  "nbformat_minor": 0,
  "metadata": {
    "kernelspec": {
      "display_name": "Python 3",
      "language": "python",
      "name": "python3"
    },
    "language_info": {
      "codemirror_mode": {
        "name": "ipython",
        "version": 3
      },
      "file_extension": ".py",
      "mimetype": "text/x-python",
      "name": "python",
      "nbconvert_exporter": "python",
      "pygments_lexer": "ipython3",
      "version": "3.8.3"
    },
    "colab": {
      "name": "aed.ipynb",
      "provenance": []
    }
  },
  "cells": [
    {
      "cell_type": "markdown",
      "metadata": {
        "id": "TqW9bb4CydqO"
      },
      "source": [
        "## Reto 5: Análisis Exploratorio de Datos\n",
        "\n",
        "### 1. Objetivos:\n",
        "    - Practicar leer archivos JSON usando pandas\n",
        "    - Practicar hacerse preguntas acerca de los conjuntos de datos que tenemos\n",
        " \n",
        "---\n",
        "    \n",
        "### 2. Desarrollo:"
      ]
    },
    {
      "cell_type": "markdown",
      "metadata": {
        "id": "UPpXp6-1ydqi"
      },
      "source": [
        "Vamos a practicar explorar conjuntos de datos y hacernos preguntas acerca de ellos.\n",
        "\n",
        "Tenemos un conjunto de datos en formato JSON almacenado en '../../Datasets/new_york_times_bestsellers-clean.json' (en la carpeta /Datasets en el directorio raíz del módulo).\n",
        "\n",
        "Primero que nada, lee el archivo JSON y crea un `DataFrame` con él:"
      ]
    },
    {
      "cell_type": "code",
      "metadata": {
        "id": "c9HUPSb-yoZv",
        "outputId": "52d212f2-03e8-431f-da81-8cc4cdc7127a",
        "colab": {
          "base_uri": "https://localhost:8080/"
        }
      },
      "source": [
        "from google.colab import drive\n",
        "drive.mount('/content/drive')"
      ],
      "execution_count": 2,
      "outputs": [
        {
          "output_type": "stream",
          "text": [
            "Mounted at /content/drive\n"
          ],
          "name": "stdout"
        }
      ]
    },
    {
      "cell_type": "code",
      "metadata": {
        "id": "rD_zZ1jJydqz"
      },
      "source": [
        "## Realiza aquí los imports que necesites\n",
        "import json\n",
        "import pandas as pd\n",
        "## Lee aquí tu archivo JSON\n",
        "f = open('/content/drive/MyDrive/Datasets/new_york_times_bestsellers-clean.json', 'r')\n",
        "json_data = json.load(f)\n",
        "f.close()\n",
        "## Crea aquí tu DataFrame\n",
        "df = pd.DataFrame.from_dict(json_data)"
      ],
      "execution_count": 4,
      "outputs": []
    },
    {
      "cell_type": "markdown",
      "metadata": {
        "id": "5mty448xydq3"
      },
      "source": [
        "Ahora, usando todas las herramientas que hemos aprendido en esta sesión (indexación de filas y columnas, `shape`, `dtypes`, `head`, `tail`, `columns`, `info`, etc) explora tu dataset y debate con el experto y tus compañeros las siguientes preguntas:\n",
        "\n",
        "1. ¿Qué podemos saber de este dataset con tan sólo leer el nombre del archivo y los nombres de las columnas?\n",
        "2. ¿Cuál es el tamaño (forma) de nuestro DataFrame? ¿Podríamos considerarlo un dataset grande o pequeño?\n",
        "3. ¿Crees que los nombres de las columnas son suficientemente descriptivos? ¿Podrían ser más claros o limpios?\n",
        "4. ¿Qué tipos de datos tenemos?\n",
        "5. ¿Qué significa el formato en el que tenemos las fechas?\n",
        "6. ¿Qué tipo de preguntas podríamos responder usando los datos numéricos de este dataset?\n",
        "7. ¿Qué tipo de preguntas podríamos responder usando los datos no-numéricos? "
      ]
    },
    {
      "cell_type": "markdown",
      "metadata": {
        "id": "hy7EKeCfzisK"
      },
      "source": [
        "1. ¿Qué podemos saber de este dataset con tan sólo leer el nombre del archivo y los nombres de las columnas?"
      ]
    },
    {
      "cell_type": "code",
      "metadata": {
        "id": "r607aWmqydq7",
        "outputId": "1df56d11-fc9d-4338-9ce3-fbcafdeb9d51",
        "colab": {
          "base_uri": "https://localhost:8080/"
        }
      },
      "source": [
        "df.shape"
      ],
      "execution_count": 6,
      "outputs": [
        {
          "output_type": "execute_result",
          "data": {
            "text/plain": [
              "(3033, 12)"
            ]
          },
          "metadata": {
            "tags": []
          },
          "execution_count": 6
        }
      ]
    },
    {
      "cell_type": "code",
      "metadata": {
        "id": "a830oewqzgrZ"
      },
      "source": [
        ""
      ],
      "execution_count": null,
      "outputs": []
    }
  ]
}