{
  "nbformat": 4,
  "nbformat_minor": 0,
  "metadata": {
    "kernelspec": {
      "display_name": "Python (data_science)",
      "language": "python",
      "name": "data_science"
    },
    "language_info": {
      "codemirror_mode": {
        "name": "ipython",
        "version": 3
      },
      "file_extension": ".py",
      "mimetype": "text/x-python",
      "name": "python",
      "nbconvert_exporter": "python",
      "pygments_lexer": "ipython3",
      "version": "3.7.6"
    },
    "colab": {
      "name": "automatizando_peticiones.ipynb",
      "provenance": []
    }
  },
  "cells": [
    {
      "cell_type": "markdown",
      "metadata": {
        "id": "kKXv7bsTEA53"
      },
      "source": [
        "## Reto 5: Automatizando peticiones\n",
        "\n",
        "### 1. Objetivos:\n",
        "    - Automatizar la petición de datos a la API de la NASA por fechas.\n",
        " \n",
        "---\n",
        "    \n",
        "### 2. Desarrollo:"
      ]
    },
    {
      "cell_type": "markdown",
      "metadata": {
        "id": "rjySq3riEA6C"
      },
      "source": [
        "### a) Automatizando peticiones\n",
        "\n",
        "En el primer Reto realizaste una petición a la API de la NASA para pedir 5 datos de la hoja #100. Ahora, vamos a automatizar el proceso de realizar peticiones a la API para obtener una cantidad bastante mayor de datos.\n",
        "\n",
        "Vamos a obtener ahora los datos por fechas, así que tendrás que ir a la página de la [api de la NASA](https://api.nasa.gov/), para revisar cómo es posible realizar peticiones por fecha. Queremos obtener los **dos primeros meses (Enero y Febrero) del año 1995**. Observa que la API sólo permite peticiones por fecha en rangos de 7 días.\n",
        "\n",
        "Tu reto tiene los siguientes pasos:\n",
        "\n",
        "1. Revisa la documentación de la API de la NASA para entender cómo realizar peticiones por fecha.\n",
        "2. Realiza una primera petición de prueba para entender el formato de los datos que obtienes de regreso (cómo extraemos los datos que necesitamos y qué estructura tienen).\n",
        "2. Escribe el código necesario para automatizar las peticiones a la API y obtener los meses de Enero y Febrero del año 1995.\n",
        "3. Almacena los datos de cada petición y luego usa esos datos para crear `DataFrames`.\n",
        "4. Concatena verticalmente tus `DataFrames` para obtener un `DataFrame` final que contenga todos los datos de tus peticiones. Cada fila tiene que corresponder a un objeto espacial.\n",
        "5. Guarda tu `DataFrame` con el nombre de `near_earth_objects-january_february_1995-raw.csv`.\n",
        "\n",
        "> **Nota**: En este momento no te preocupes por explorar o limpiar tu dataset. Eso lo haremos en la siguiente sesión. Lo que sí tienes que asegurarte es de normalizar tus datos antes de convertirlos en `DataFrame`.\n",
        "\n",
        "¡Mucha suerte!"
      ]
    },
    {
      "cell_type": "markdown",
      "metadata": {
        "id": "qtOfTl-UH-xK"
      },
      "source": [
        "Importamos las librerias necesarias"
      ]
    },
    {
      "cell_type": "code",
      "metadata": {
        "id": "mrYoaHPBEA6L"
      },
      "source": [
        "import pandas as pd \n",
        "import requests\n",
        "from pprint import pprint"
      ],
      "execution_count": 97,
      "outputs": []
    },
    {
      "cell_type": "markdown",
      "metadata": {
        "id": "dyvK3DD6IM07"
      },
      "source": [
        "Definimos el endpoint e ingresamos los parametros "
      ]
    },
    {
      "cell_type": "code",
      "metadata": {
        "id": "TG9PrgoVIF7m"
      },
      "source": [
        "payload = {'api_key':'QAXLpeREJyy8YUciiVBq0v42tuc0Hjn6Izb6DiZj','start_date':'1995-01-01','end_date':'1995-01-01'}\n",
        "endpoint = \"https://api.nasa.gov/neo/rest/v1/feed\""
      ],
      "execution_count": 113,
      "outputs": []
    },
    {
      "cell_type": "markdown",
      "metadata": {
        "id": "rVQ2_yszI5HB"
      },
      "source": [
        "Realizamos una primera petición de prueba"
      ]
    },
    {
      "cell_type": "code",
      "metadata": {
        "id": "VQG4_QgbI88E",
        "outputId": "41bb5e0b-7229-4944-adef-a4bcb1884476",
        "colab": {
          "base_uri": "https://localhost:8080/"
        }
      },
      "source": [
        "r = requests.get(endpoint,payload)\n",
        "r.status_code"
      ],
      "execution_count": 114,
      "outputs": [
        {
          "output_type": "execute_result",
          "data": {
            "text/plain": [
              "200"
            ]
          },
          "metadata": {
            "tags": []
          },
          "execution_count": 114
        }
      ]
    },
    {
      "cell_type": "code",
      "metadata": {
        "id": "7VCEP1vsJqwK",
        "outputId": "6fe1565d-b13d-48af-de72-b20eaf825954",
        "colab": {
          "base_uri": "https://localhost:8080/",
          "height": 334
        }
      },
      "source": [
        "json = r.json()\n",
        "\n",
        "data = json['near_earth_objects']\n",
        "\n",
        "normalized = pd.json_normalize(data,record_path=['1995-01-01'])\n",
        "\n",
        "objetos = pd.DataFrame.from_dict(normalized)\n",
        "\n",
        "objetos.head()"
      ],
      "execution_count": 117,
      "outputs": [
        {
          "output_type": "execute_result",
          "data": {
            "text/html": [
              "<div>\n",
              "<style scoped>\n",
              "    .dataframe tbody tr th:only-of-type {\n",
              "        vertical-align: middle;\n",
              "    }\n",
              "\n",
              "    .dataframe tbody tr th {\n",
              "        vertical-align: top;\n",
              "    }\n",
              "\n",
              "    .dataframe thead th {\n",
              "        text-align: right;\n",
              "    }\n",
              "</style>\n",
              "<table border=\"1\" class=\"dataframe\">\n",
              "  <thead>\n",
              "    <tr style=\"text-align: right;\">\n",
              "      <th></th>\n",
              "      <th>id</th>\n",
              "      <th>neo_reference_id</th>\n",
              "      <th>name</th>\n",
              "      <th>nasa_jpl_url</th>\n",
              "      <th>absolute_magnitude_h</th>\n",
              "      <th>is_potentially_hazardous_asteroid</th>\n",
              "      <th>close_approach_data</th>\n",
              "      <th>is_sentry_object</th>\n",
              "      <th>links.self</th>\n",
              "      <th>estimated_diameter.kilometers.estimated_diameter_min</th>\n",
              "      <th>estimated_diameter.kilometers.estimated_diameter_max</th>\n",
              "      <th>estimated_diameter.meters.estimated_diameter_min</th>\n",
              "      <th>estimated_diameter.meters.estimated_diameter_max</th>\n",
              "      <th>estimated_diameter.miles.estimated_diameter_min</th>\n",
              "      <th>estimated_diameter.miles.estimated_diameter_max</th>\n",
              "      <th>estimated_diameter.feet.estimated_diameter_min</th>\n",
              "      <th>estimated_diameter.feet.estimated_diameter_max</th>\n",
              "    </tr>\n",
              "  </thead>\n",
              "  <tbody>\n",
              "    <tr>\n",
              "      <th>0</th>\n",
              "      <td>3703080</td>\n",
              "      <td>3703080</td>\n",
              "      <td>(2014 YW34)</td>\n",
              "      <td>http://ssd.jpl.nasa.gov/sbdb.cgi?sstr=3703080</td>\n",
              "      <td>21.70</td>\n",
              "      <td>True</td>\n",
              "      <td>[{'close_approach_date': '1995-01-01', 'close_...</td>\n",
              "      <td>False</td>\n",
              "      <td>http://www.neowsapp.com/rest/v1/neo/3703080?ap...</td>\n",
              "      <td>0.121494</td>\n",
              "      <td>0.271669</td>\n",
              "      <td>121.494041</td>\n",
              "      <td>271.668934</td>\n",
              "      <td>0.075493</td>\n",
              "      <td>0.168807</td>\n",
              "      <td>398.602509</td>\n",
              "      <td>891.302306</td>\n",
              "    </tr>\n",
              "    <tr>\n",
              "      <th>1</th>\n",
              "      <td>3723955</td>\n",
              "      <td>3723955</td>\n",
              "      <td>(2015 NK3)</td>\n",
              "      <td>http://ssd.jpl.nasa.gov/sbdb.cgi?sstr=3723955</td>\n",
              "      <td>21.30</td>\n",
              "      <td>False</td>\n",
              "      <td>[{'close_approach_date': '1995-01-01', 'close_...</td>\n",
              "      <td>False</td>\n",
              "      <td>http://www.neowsapp.com/rest/v1/neo/3723955?ap...</td>\n",
              "      <td>0.146068</td>\n",
              "      <td>0.326618</td>\n",
              "      <td>146.067964</td>\n",
              "      <td>326.617897</td>\n",
              "      <td>0.090762</td>\n",
              "      <td>0.202951</td>\n",
              "      <td>479.225620</td>\n",
              "      <td>1071.581063</td>\n",
              "    </tr>\n",
              "    <tr>\n",
              "      <th>2</th>\n",
              "      <td>3792437</td>\n",
              "      <td>3792437</td>\n",
              "      <td>(2017 XR61)</td>\n",
              "      <td>http://ssd.jpl.nasa.gov/sbdb.cgi?sstr=3792437</td>\n",
              "      <td>23.10</td>\n",
              "      <td>False</td>\n",
              "      <td>[{'close_approach_date': '1995-01-01', 'close_...</td>\n",
              "      <td>False</td>\n",
              "      <td>http://www.neowsapp.com/rest/v1/neo/3792437?ap...</td>\n",
              "      <td>0.063761</td>\n",
              "      <td>0.142574</td>\n",
              "      <td>63.760979</td>\n",
              "      <td>142.573883</td>\n",
              "      <td>0.039619</td>\n",
              "      <td>0.088591</td>\n",
              "      <td>209.189570</td>\n",
              "      <td>467.762099</td>\n",
              "    </tr>\n",
              "    <tr>\n",
              "      <th>3</th>\n",
              "      <td>54105518</td>\n",
              "      <td>54105518</td>\n",
              "      <td>(2021 AW5)</td>\n",
              "      <td>http://ssd.jpl.nasa.gov/sbdb.cgi?sstr=54105518</td>\n",
              "      <td>26.54</td>\n",
              "      <td>False</td>\n",
              "      <td>[{'close_approach_date': '1995-01-01', 'close_...</td>\n",
              "      <td>False</td>\n",
              "      <td>http://www.neowsapp.com/rest/v1/neo/54105518?a...</td>\n",
              "      <td>0.013078</td>\n",
              "      <td>0.029244</td>\n",
              "      <td>13.078411</td>\n",
              "      <td>29.244216</td>\n",
              "      <td>0.008127</td>\n",
              "      <td>0.018172</td>\n",
              "      <td>42.908173</td>\n",
              "      <td>95.945593</td>\n",
              "    </tr>\n",
              "  </tbody>\n",
              "</table>\n",
              "</div>"
            ],
            "text/plain": [
              "         id  ... estimated_diameter.feet.estimated_diameter_max\n",
              "0   3703080  ...                                     891.302306\n",
              "1   3723955  ...                                    1071.581063\n",
              "2   3792437  ...                                     467.762099\n",
              "3  54105518  ...                                      95.945593\n",
              "\n",
              "[4 rows x 17 columns]"
            ]
          },
          "metadata": {
            "tags": []
          },
          "execution_count": 117
        }
      ]
    },
    {
      "cell_type": "code",
      "metadata": {
        "id": "PoONVVBoQpFD"
      },
      "source": [
        "payload = {'api_key':'QAXLpeREJyy8YUciiVBq0v42tuc0Hjn6Izb6DiZj','start_date':'1995-01-01','end_date':'1995-01-01'}\n",
        "endpoint = \"https://api.nasa.gov/neo/rest/v1/feed\"\n",
        "\n",
        "dict_datos = {}\n",
        "for i in range(0,59):\n",
        "  try:\n",
        "    r = requests.get(endpoint, params=payload)\n",
        "\n",
        "    if r.status_code == 200:\n",
        "      json = r.json()\n",
        "\n",
        "      data = json['near_earth_objects']\n",
        "      dict_datos[i] = data\n",
        "\n",
        "      new_link = json['links']['next']\n",
        "      endpoint = new_link\n",
        "    \n",
        "  except:\n",
        "    continue"
      ],
      "execution_count": 163,
      "outputs": []
    },
    {
      "cell_type": "code",
      "metadata": {
        "id": "tT_B0DWmRIpV",
        "outputId": "821dda31-d2a0-4feb-a27d-b208f029e922",
        "colab": {
          "base_uri": "https://localhost:8080/"
        }
      },
      "source": [
        "len(dict_datos)"
      ],
      "execution_count": 164,
      "outputs": [
        {
          "output_type": "execute_result",
          "data": {
            "text/plain": [
              "59"
            ]
          },
          "metadata": {
            "tags": []
          },
          "execution_count": 164
        }
      ]
    },
    {
      "cell_type": "code",
      "metadata": {
        "id": "zD_PbofvaYZs",
        "outputId": "7b0738ba-a4bc-4c53-9fb4-862c6f369f1c",
        "colab": {
          "base_uri": "https://localhost:8080/"
        }
      },
      "source": [
        "lista_fechas = pd.date_range(start=\"1995-01-01\",end=\"1995-02-28\").strftime('%Y-%m-%d')\n",
        "\n",
        "len(lista_fechas)"
      ],
      "execution_count": 165,
      "outputs": [
        {
          "output_type": "execute_result",
          "data": {
            "text/plain": [
              "59"
            ]
          },
          "metadata": {
            "tags": []
          },
          "execution_count": 165
        }
      ]
    },
    {
      "cell_type": "code",
      "metadata": {
        "id": "hgRp-S1-SqZn"
      },
      "source": [
        "for par in dict_datos:\n",
        "  normalizados = pd.json_normalize(dict_datos[par],record_path=lista_fechas[par])\n",
        "  df = pd.DataFrame.from_dict(normalizados)\n",
        "  dict_datos[par] = df"
      ],
      "execution_count": 166,
      "outputs": []
    },
    {
      "cell_type": "code",
      "metadata": {
        "id": "bOG9rK1DSsly"
      },
      "source": [
        "lista_de_dataframes = []\n",
        "\n",
        "for key in dict_datos:\n",
        "    lista_de_dataframes.append(dict_datos[key])"
      ],
      "execution_count": 167,
      "outputs": []
    },
    {
      "cell_type": "code",
      "metadata": {
        "id": "ehFbEXgVSz0v"
      },
      "source": [
        "df_completo = pd.concat(lista_de_dataframes, axis=0).reset_index(drop=True)"
      ],
      "execution_count": 168,
      "outputs": []
    },
    {
      "cell_type": "code",
      "metadata": {
        "id": "_7KPHqTNS3f6",
        "outputId": "2ce74015-c087-4175-b348-25319bd15ed3",
        "colab": {
          "base_uri": "https://localhost:8080/",
          "height": 791
        }
      },
      "source": [
        "df_completo"
      ],
      "execution_count": 169,
      "outputs": [
        {
          "output_type": "execute_result",
          "data": {
            "text/html": [
              "<div>\n",
              "<style scoped>\n",
              "    .dataframe tbody tr th:only-of-type {\n",
              "        vertical-align: middle;\n",
              "    }\n",
              "\n",
              "    .dataframe tbody tr th {\n",
              "        vertical-align: top;\n",
              "    }\n",
              "\n",
              "    .dataframe thead th {\n",
              "        text-align: right;\n",
              "    }\n",
              "</style>\n",
              "<table border=\"1\" class=\"dataframe\">\n",
              "  <thead>\n",
              "    <tr style=\"text-align: right;\">\n",
              "      <th></th>\n",
              "      <th>id</th>\n",
              "      <th>neo_reference_id</th>\n",
              "      <th>name</th>\n",
              "      <th>nasa_jpl_url</th>\n",
              "      <th>absolute_magnitude_h</th>\n",
              "      <th>is_potentially_hazardous_asteroid</th>\n",
              "      <th>close_approach_data</th>\n",
              "      <th>is_sentry_object</th>\n",
              "      <th>links.self</th>\n",
              "      <th>estimated_diameter.kilometers.estimated_diameter_min</th>\n",
              "      <th>estimated_diameter.kilometers.estimated_diameter_max</th>\n",
              "      <th>estimated_diameter.meters.estimated_diameter_min</th>\n",
              "      <th>estimated_diameter.meters.estimated_diameter_max</th>\n",
              "      <th>estimated_diameter.miles.estimated_diameter_min</th>\n",
              "      <th>estimated_diameter.miles.estimated_diameter_max</th>\n",
              "      <th>estimated_diameter.feet.estimated_diameter_min</th>\n",
              "      <th>estimated_diameter.feet.estimated_diameter_max</th>\n",
              "    </tr>\n",
              "  </thead>\n",
              "  <tbody>\n",
              "    <tr>\n",
              "      <th>0</th>\n",
              "      <td>3703080</td>\n",
              "      <td>3703080</td>\n",
              "      <td>(2014 YW34)</td>\n",
              "      <td>http://ssd.jpl.nasa.gov/sbdb.cgi?sstr=3703080</td>\n",
              "      <td>21.70</td>\n",
              "      <td>True</td>\n",
              "      <td>[{'close_approach_date': '1995-01-01', 'close_...</td>\n",
              "      <td>False</td>\n",
              "      <td>http://www.neowsapp.com/rest/v1/neo/3703080?ap...</td>\n",
              "      <td>0.121494</td>\n",
              "      <td>0.271669</td>\n",
              "      <td>121.494041</td>\n",
              "      <td>271.668934</td>\n",
              "      <td>0.075493</td>\n",
              "      <td>0.168807</td>\n",
              "      <td>398.602509</td>\n",
              "      <td>891.302306</td>\n",
              "    </tr>\n",
              "    <tr>\n",
              "      <th>1</th>\n",
              "      <td>3723955</td>\n",
              "      <td>3723955</td>\n",
              "      <td>(2015 NK3)</td>\n",
              "      <td>http://ssd.jpl.nasa.gov/sbdb.cgi?sstr=3723955</td>\n",
              "      <td>21.30</td>\n",
              "      <td>False</td>\n",
              "      <td>[{'close_approach_date': '1995-01-01', 'close_...</td>\n",
              "      <td>False</td>\n",
              "      <td>http://www.neowsapp.com/rest/v1/neo/3723955?ap...</td>\n",
              "      <td>0.146068</td>\n",
              "      <td>0.326618</td>\n",
              "      <td>146.067964</td>\n",
              "      <td>326.617897</td>\n",
              "      <td>0.090762</td>\n",
              "      <td>0.202951</td>\n",
              "      <td>479.225620</td>\n",
              "      <td>1071.581063</td>\n",
              "    </tr>\n",
              "    <tr>\n",
              "      <th>2</th>\n",
              "      <td>3792437</td>\n",
              "      <td>3792437</td>\n",
              "      <td>(2017 XR61)</td>\n",
              "      <td>http://ssd.jpl.nasa.gov/sbdb.cgi?sstr=3792437</td>\n",
              "      <td>23.10</td>\n",
              "      <td>False</td>\n",
              "      <td>[{'close_approach_date': '1995-01-01', 'close_...</td>\n",
              "      <td>False</td>\n",
              "      <td>http://www.neowsapp.com/rest/v1/neo/3792437?ap...</td>\n",
              "      <td>0.063761</td>\n",
              "      <td>0.142574</td>\n",
              "      <td>63.760979</td>\n",
              "      <td>142.573883</td>\n",
              "      <td>0.039619</td>\n",
              "      <td>0.088591</td>\n",
              "      <td>209.189570</td>\n",
              "      <td>467.762099</td>\n",
              "    </tr>\n",
              "    <tr>\n",
              "      <th>3</th>\n",
              "      <td>54105518</td>\n",
              "      <td>54105518</td>\n",
              "      <td>(2021 AW5)</td>\n",
              "      <td>http://ssd.jpl.nasa.gov/sbdb.cgi?sstr=54105518</td>\n",
              "      <td>26.54</td>\n",
              "      <td>False</td>\n",
              "      <td>[{'close_approach_date': '1995-01-01', 'close_...</td>\n",
              "      <td>False</td>\n",
              "      <td>http://www.neowsapp.com/rest/v1/neo/54105518?a...</td>\n",
              "      <td>0.013078</td>\n",
              "      <td>0.029244</td>\n",
              "      <td>13.078411</td>\n",
              "      <td>29.244216</td>\n",
              "      <td>0.008127</td>\n",
              "      <td>0.018172</td>\n",
              "      <td>42.908173</td>\n",
              "      <td>95.945593</td>\n",
              "    </tr>\n",
              "    <tr>\n",
              "      <th>4</th>\n",
              "      <td>3553279</td>\n",
              "      <td>3553279</td>\n",
              "      <td>(2010 XB24)</td>\n",
              "      <td>http://ssd.jpl.nasa.gov/sbdb.cgi?sstr=3553279</td>\n",
              "      <td>21.80</td>\n",
              "      <td>True</td>\n",
              "      <td>[{'close_approach_date': '1995-01-02', 'close_...</td>\n",
              "      <td>False</td>\n",
              "      <td>http://www.neowsapp.com/rest/v1/neo/3553279?ap...</td>\n",
              "      <td>0.116026</td>\n",
              "      <td>0.259442</td>\n",
              "      <td>116.025908</td>\n",
              "      <td>259.441818</td>\n",
              "      <td>0.072095</td>\n",
              "      <td>0.161210</td>\n",
              "      <td>380.662441</td>\n",
              "      <td>851.187094</td>\n",
              "    </tr>\n",
              "    <tr>\n",
              "      <th>...</th>\n",
              "      <td>...</td>\n",
              "      <td>...</td>\n",
              "      <td>...</td>\n",
              "      <td>...</td>\n",
              "      <td>...</td>\n",
              "      <td>...</td>\n",
              "      <td>...</td>\n",
              "      <td>...</td>\n",
              "      <td>...</td>\n",
              "      <td>...</td>\n",
              "      <td>...</td>\n",
              "      <td>...</td>\n",
              "      <td>...</td>\n",
              "      <td>...</td>\n",
              "      <td>...</td>\n",
              "      <td>...</td>\n",
              "      <td>...</td>\n",
              "    </tr>\n",
              "    <tr>\n",
              "      <th>390</th>\n",
              "      <td>3763475</td>\n",
              "      <td>3763475</td>\n",
              "      <td>(2016 VL3)</td>\n",
              "      <td>http://ssd.jpl.nasa.gov/sbdb.cgi?sstr=3763475</td>\n",
              "      <td>24.30</td>\n",
              "      <td>False</td>\n",
              "      <td>[{'close_approach_date': '1995-02-28', 'close_...</td>\n",
              "      <td>False</td>\n",
              "      <td>http://www.neowsapp.com/rest/v1/neo/3763475?ap...</td>\n",
              "      <td>0.036691</td>\n",
              "      <td>0.082043</td>\n",
              "      <td>36.690614</td>\n",
              "      <td>82.042706</td>\n",
              "      <td>0.022798</td>\n",
              "      <td>0.050979</td>\n",
              "      <td>120.376033</td>\n",
              "      <td>269.168993</td>\n",
              "    </tr>\n",
              "    <tr>\n",
              "      <th>391</th>\n",
              "      <td>3781651</td>\n",
              "      <td>3781651</td>\n",
              "      <td>(2017 SS10)</td>\n",
              "      <td>http://ssd.jpl.nasa.gov/sbdb.cgi?sstr=3781651</td>\n",
              "      <td>25.20</td>\n",
              "      <td>False</td>\n",
              "      <td>[{'close_approach_date': '1995-02-28', 'close_...</td>\n",
              "      <td>False</td>\n",
              "      <td>http://www.neowsapp.com/rest/v1/neo/3781651?ap...</td>\n",
              "      <td>0.024241</td>\n",
              "      <td>0.054205</td>\n",
              "      <td>24.241248</td>\n",
              "      <td>54.205079</td>\n",
              "      <td>0.015063</td>\n",
              "      <td>0.033681</td>\n",
              "      <td>79.531656</td>\n",
              "      <td>177.838190</td>\n",
              "    </tr>\n",
              "    <tr>\n",
              "      <th>392</th>\n",
              "      <td>3781897</td>\n",
              "      <td>3781897</td>\n",
              "      <td>(2017 SL16)</td>\n",
              "      <td>http://ssd.jpl.nasa.gov/sbdb.cgi?sstr=3781897</td>\n",
              "      <td>25.90</td>\n",
              "      <td>False</td>\n",
              "      <td>[{'close_approach_date': '1995-02-28', 'close_...</td>\n",
              "      <td>False</td>\n",
              "      <td>http://www.neowsapp.com/rest/v1/neo/3781897?ap...</td>\n",
              "      <td>0.017561</td>\n",
              "      <td>0.039268</td>\n",
              "      <td>17.561232</td>\n",
              "      <td>39.268108</td>\n",
              "      <td>0.010912</td>\n",
              "      <td>0.024400</td>\n",
              "      <td>57.615592</td>\n",
              "      <td>128.832380</td>\n",
              "    </tr>\n",
              "    <tr>\n",
              "      <th>393</th>\n",
              "      <td>54097866</td>\n",
              "      <td>54097866</td>\n",
              "      <td>(2020 XF)</td>\n",
              "      <td>http://ssd.jpl.nasa.gov/sbdb.cgi?sstr=54097866</td>\n",
              "      <td>26.84</td>\n",
              "      <td>False</td>\n",
              "      <td>[{'close_approach_date': '1995-02-28', 'close_...</td>\n",
              "      <td>False</td>\n",
              "      <td>http://www.neowsapp.com/rest/v1/neo/54097866?a...</td>\n",
              "      <td>0.011391</td>\n",
              "      <td>0.025471</td>\n",
              "      <td>11.390820</td>\n",
              "      <td>25.470647</td>\n",
              "      <td>0.007078</td>\n",
              "      <td>0.015827</td>\n",
              "      <td>37.371457</td>\n",
              "      <td>83.565118</td>\n",
              "    </tr>\n",
              "    <tr>\n",
              "      <th>394</th>\n",
              "      <td>54121907</td>\n",
              "      <td>54121907</td>\n",
              "      <td>(2021 CZ8)</td>\n",
              "      <td>http://ssd.jpl.nasa.gov/sbdb.cgi?sstr=54121907</td>\n",
              "      <td>22.39</td>\n",
              "      <td>False</td>\n",
              "      <td>[{'close_approach_date': '1995-02-28', 'close_...</td>\n",
              "      <td>False</td>\n",
              "      <td>http://www.neowsapp.com/rest/v1/neo/54121907?a...</td>\n",
              "      <td>0.088421</td>\n",
              "      <td>0.197715</td>\n",
              "      <td>88.420909</td>\n",
              "      <td>197.715164</td>\n",
              "      <td>0.054942</td>\n",
              "      <td>0.122854</td>\n",
              "      <td>290.094856</td>\n",
              "      <td>648.671818</td>\n",
              "    </tr>\n",
              "  </tbody>\n",
              "</table>\n",
              "<p>395 rows × 17 columns</p>\n",
              "</div>"
            ],
            "text/plain": [
              "           id  ... estimated_diameter.feet.estimated_diameter_max\n",
              "0     3703080  ...                                     891.302306\n",
              "1     3723955  ...                                    1071.581063\n",
              "2     3792437  ...                                     467.762099\n",
              "3    54105518  ...                                      95.945593\n",
              "4     3553279  ...                                     851.187094\n",
              "..        ...  ...                                            ...\n",
              "390   3763475  ...                                     269.168993\n",
              "391   3781651  ...                                     177.838190\n",
              "392   3781897  ...                                     128.832380\n",
              "393  54097866  ...                                      83.565118\n",
              "394  54121907  ...                                     648.671818\n",
              "\n",
              "[395 rows x 17 columns]"
            ]
          },
          "metadata": {
            "tags": []
          },
          "execution_count": 169
        }
      ]
    },
    {
      "cell_type": "code",
      "metadata": {
        "id": "TC43UWyseYYa",
        "outputId": "d8f5f406-ada0-4055-a03b-9261cc540ac5",
        "colab": {
          "base_uri": "https://localhost:8080/"
        }
      },
      "source": [
        "from google.colab import drive\n",
        "drive.mount('/content/drive')"
      ],
      "execution_count": 170,
      "outputs": [
        {
          "output_type": "stream",
          "text": [
            "Mounted at /content/drive\n"
          ],
          "name": "stdout"
        }
      ]
    },
    {
      "cell_type": "code",
      "metadata": {
        "id": "ExcYRWu5eW-Y"
      },
      "source": [
        "#df_completo.to_csv('../../Datasets/near_earth_objects-january_february_1995-raw.csv')"
      ],
      "execution_count": 172,
      "outputs": []
    }
  ]
}