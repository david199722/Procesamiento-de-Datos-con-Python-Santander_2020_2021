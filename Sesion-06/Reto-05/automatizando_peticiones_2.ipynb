{
  "nbformat": 4,
  "nbformat_minor": 0,
  "metadata": {
    "kernelspec": {
      "display_name": "Python (data_science)",
      "language": "python",
      "name": "data_science"
    },
    "language_info": {
      "codemirror_mode": {
        "name": "ipython",
        "version": 3
      },
      "file_extension": ".py",
      "mimetype": "text/x-python",
      "name": "python",
      "nbconvert_exporter": "python",
      "pygments_lexer": "ipython3",
      "version": "3.7.6"
    },
    "colab": {
      "name": "automatizando_peticiones.ipynb",
      "provenance": []
    }
  },
  "cells": [
    {
      "cell_type": "markdown",
      "metadata": {
        "id": "kKXv7bsTEA53"
      },
      "source": [
        "## Reto 5: Automatizando peticiones\n",
        "\n",
        "### 1. Objetivos:\n",
        "    - Automatizar la petición de datos a la API de la NASA por fechas.\n",
        " \n",
        "---\n",
        "    \n",
        "### 2. Desarrollo:"
      ]
    },
    {
      "cell_type": "markdown",
      "metadata": {
        "id": "rjySq3riEA6C"
      },
      "source": [
        "### a) Automatizando peticiones\n",
        "\n",
        "En el primer Reto realizaste una petición a la API de la NASA para pedir 5 datos de la hoja #100. Ahora, vamos a automatizar el proceso de realizar peticiones a la API para obtener una cantidad bastante mayor de datos.\n",
        "\n",
        "Vamos a obtener ahora los datos por fechas, así que tendrás que ir a la página de la [api de la NASA](https://api.nasa.gov/), para revisar cómo es posible realizar peticiones por fecha. Queremos obtener los **dos primeros meses (Enero y Febrero) del año 1995**. Observa que la API sólo permite peticiones por fecha en rangos de 7 días.\n",
        "\n",
        "Tu reto tiene los siguientes pasos:\n",
        "\n",
        "1. Revisa la documentación de la API de la NASA para entender cómo realizar peticiones por fecha.\n",
        "2. Realiza una primera petición de prueba para entender el formato de los datos que obtienes de regreso (cómo extraemos los datos que necesitamos y qué estructura tienen).\n",
        "2. Escribe el código necesario para automatizar las peticiones a la API y obtener los meses de Enero y Febrero del año 1995.\n",
        "3. Almacena los datos de cada petición y luego usa esos datos para crear `DataFrames`.\n",
        "4. Concatena verticalmente tus `DataFrames` para obtener un `DataFrame` final que contenga todos los datos de tus peticiones. Cada fila tiene que corresponder a un objeto espacial.\n",
        "5. Guarda tu `DataFrame` con el nombre de `near_earth_objects-january_february_1995-raw.csv`.\n",
        "\n",
        "> **Nota**: En este momento no te preocupes por explorar o limpiar tu dataset. Eso lo haremos en la siguiente sesión. Lo que sí tienes que asegurarte es de normalizar tus datos antes de convertirlos en `DataFrame`.\n",
        "\n",
        "¡Mucha suerte!"
      ]
    },
    {
      "cell_type": "markdown",
      "metadata": {
        "id": "qtOfTl-UH-xK"
      },
      "source": [
        "Importamos las librerias necesarias"
      ]
    },
    {
      "cell_type": "code",
      "metadata": {
        "id": "mrYoaHPBEA6L"
      },
      "source": [
        "import pandas as pd \n",
        "import requests\n",
        "from pprint import pprint"
      ],
      "execution_count": null,
      "outputs": []
    },
    {
      "cell_type": "markdown",
      "metadata": {
        "id": "dyvK3DD6IM07"
      },
      "source": [
        "Definimos el endpoint e ingresamos los parametros "
      ]
    },
    {
      "cell_type": "code",
      "metadata": {
        "id": "TG9PrgoVIF7m"
      },
      "source": [
        "payload = {'api_key':'QAXLpeREJyy8YUciiVBq0v42tuc0Hjn6Izb6DiZj','start_date':'1995-01-01','end_date':'1995-01-01'}\n",
        "endpoint = \"https://api.nasa.gov/neo/rest/v1/feed\""
      ],
      "execution_count": null,
      "outputs": []
    },
    {
      "cell_type": "markdown",
      "metadata": {
        "id": "rVQ2_yszI5HB"
      },
      "source": [
        "Realizamos una primera petición de prueba"
      ]
    },
    {
      "cell_type": "code",
      "metadata": {
        "colab": {
          "base_uri": "https://localhost:8080/"
        },
        "id": "VQG4_QgbI88E",
        "outputId": "f70e2cce-05e2-42db-db7e-2dac1a3f091d"
      },
      "source": [
        "r = requests.get(endpoint,payload)\n",
        "r.status_code"
      ],
      "execution_count": null,
      "outputs": [
        {
          "output_type": "execute_result",
          "data": {
            "text/plain": [
              "200"
            ]
          },
          "metadata": {
            "tags": []
          },
          "execution_count": 207
        }
      ]
    },
    {
      "cell_type": "code",
      "metadata": {
        "colab": {
          "base_uri": "https://localhost:8080/",
          "height": 334
        },
        "id": "7VCEP1vsJqwK",
        "outputId": "f667620f-a11d-4b64-8835-2095166fb0d7"
      },
      "source": [
        "json = r.json()\n",
        "\n",
        "data = json['near_earth_objects']\n",
        "\n",
        "normalized = pd.json_normalize(data,record_path=['1995-01-01'])\n",
        "close_approach_data = pd.json_normalize(data,record_path=['1995-01-01','close_approach_data'],record_prefix='close_approach_data.')\n",
        "\n",
        "objetos1 = pd.DataFrame.from_dict(normalized)\n",
        "objetos2 = pd.DataFrame.from_dict(close_approach_data)\n",
        "\n",
        "objetos1.head()"
      ],
      "execution_count": null,
      "outputs": [
        {
          "output_type": "execute_result",
          "data": {
            "text/html": [
              "<div>\n",
              "<style scoped>\n",
              "    .dataframe tbody tr th:only-of-type {\n",
              "        vertical-align: middle;\n",
              "    }\n",
              "\n",
              "    .dataframe tbody tr th {\n",
              "        vertical-align: top;\n",
              "    }\n",
              "\n",
              "    .dataframe thead th {\n",
              "        text-align: right;\n",
              "    }\n",
              "</style>\n",
              "<table border=\"1\" class=\"dataframe\">\n",
              "  <thead>\n",
              "    <tr style=\"text-align: right;\">\n",
              "      <th></th>\n",
              "      <th>id</th>\n",
              "      <th>neo_reference_id</th>\n",
              "      <th>name</th>\n",
              "      <th>nasa_jpl_url</th>\n",
              "      <th>absolute_magnitude_h</th>\n",
              "      <th>is_potentially_hazardous_asteroid</th>\n",
              "      <th>close_approach_data</th>\n",
              "      <th>is_sentry_object</th>\n",
              "      <th>links.self</th>\n",
              "      <th>estimated_diameter.kilometers.estimated_diameter_min</th>\n",
              "      <th>estimated_diameter.kilometers.estimated_diameter_max</th>\n",
              "      <th>estimated_diameter.meters.estimated_diameter_min</th>\n",
              "      <th>estimated_diameter.meters.estimated_diameter_max</th>\n",
              "      <th>estimated_diameter.miles.estimated_diameter_min</th>\n",
              "      <th>estimated_diameter.miles.estimated_diameter_max</th>\n",
              "      <th>estimated_diameter.feet.estimated_diameter_min</th>\n",
              "      <th>estimated_diameter.feet.estimated_diameter_max</th>\n",
              "    </tr>\n",
              "  </thead>\n",
              "  <tbody>\n",
              "    <tr>\n",
              "      <th>0</th>\n",
              "      <td>3703080</td>\n",
              "      <td>3703080</td>\n",
              "      <td>(2014 YW34)</td>\n",
              "      <td>http://ssd.jpl.nasa.gov/sbdb.cgi?sstr=3703080</td>\n",
              "      <td>21.70</td>\n",
              "      <td>True</td>\n",
              "      <td>[{'close_approach_date': '1995-01-01', 'close_...</td>\n",
              "      <td>False</td>\n",
              "      <td>http://www.neowsapp.com/rest/v1/neo/3703080?ap...</td>\n",
              "      <td>0.121494</td>\n",
              "      <td>0.271669</td>\n",
              "      <td>121.494041</td>\n",
              "      <td>271.668934</td>\n",
              "      <td>0.075493</td>\n",
              "      <td>0.168807</td>\n",
              "      <td>398.602509</td>\n",
              "      <td>891.302306</td>\n",
              "    </tr>\n",
              "    <tr>\n",
              "      <th>1</th>\n",
              "      <td>3723955</td>\n",
              "      <td>3723955</td>\n",
              "      <td>(2015 NK3)</td>\n",
              "      <td>http://ssd.jpl.nasa.gov/sbdb.cgi?sstr=3723955</td>\n",
              "      <td>21.30</td>\n",
              "      <td>False</td>\n",
              "      <td>[{'close_approach_date': '1995-01-01', 'close_...</td>\n",
              "      <td>False</td>\n",
              "      <td>http://www.neowsapp.com/rest/v1/neo/3723955?ap...</td>\n",
              "      <td>0.146068</td>\n",
              "      <td>0.326618</td>\n",
              "      <td>146.067964</td>\n",
              "      <td>326.617897</td>\n",
              "      <td>0.090762</td>\n",
              "      <td>0.202951</td>\n",
              "      <td>479.225620</td>\n",
              "      <td>1071.581063</td>\n",
              "    </tr>\n",
              "    <tr>\n",
              "      <th>2</th>\n",
              "      <td>3792437</td>\n",
              "      <td>3792437</td>\n",
              "      <td>(2017 XR61)</td>\n",
              "      <td>http://ssd.jpl.nasa.gov/sbdb.cgi?sstr=3792437</td>\n",
              "      <td>23.10</td>\n",
              "      <td>False</td>\n",
              "      <td>[{'close_approach_date': '1995-01-01', 'close_...</td>\n",
              "      <td>False</td>\n",
              "      <td>http://www.neowsapp.com/rest/v1/neo/3792437?ap...</td>\n",
              "      <td>0.063761</td>\n",
              "      <td>0.142574</td>\n",
              "      <td>63.760979</td>\n",
              "      <td>142.573883</td>\n",
              "      <td>0.039619</td>\n",
              "      <td>0.088591</td>\n",
              "      <td>209.189570</td>\n",
              "      <td>467.762099</td>\n",
              "    </tr>\n",
              "    <tr>\n",
              "      <th>3</th>\n",
              "      <td>54105518</td>\n",
              "      <td>54105518</td>\n",
              "      <td>(2021 AW5)</td>\n",
              "      <td>http://ssd.jpl.nasa.gov/sbdb.cgi?sstr=54105518</td>\n",
              "      <td>26.54</td>\n",
              "      <td>False</td>\n",
              "      <td>[{'close_approach_date': '1995-01-01', 'close_...</td>\n",
              "      <td>False</td>\n",
              "      <td>http://www.neowsapp.com/rest/v1/neo/54105518?a...</td>\n",
              "      <td>0.013078</td>\n",
              "      <td>0.029244</td>\n",
              "      <td>13.078411</td>\n",
              "      <td>29.244216</td>\n",
              "      <td>0.008127</td>\n",
              "      <td>0.018172</td>\n",
              "      <td>42.908173</td>\n",
              "      <td>95.945593</td>\n",
              "    </tr>\n",
              "  </tbody>\n",
              "</table>\n",
              "</div>"
            ],
            "text/plain": [
              "         id  ... estimated_diameter.feet.estimated_diameter_max\n",
              "0   3703080  ...                                     891.302306\n",
              "1   3723955  ...                                    1071.581063\n",
              "2   3792437  ...                                     467.762099\n",
              "3  54105518  ...                                      95.945593\n",
              "\n",
              "[4 rows x 17 columns]"
            ]
          },
          "metadata": {
            "tags": []
          },
          "execution_count": 238
        }
      ]
    },
    {
      "cell_type": "code",
      "metadata": {
        "colab": {
          "base_uri": "https://localhost:8080/",
          "height": 195
        },
        "id": "d7I5Y6t0rEGr",
        "outputId": "1e2729d1-6b53-4f20-d7d3-4bf2016f5b10"
      },
      "source": [
        "objetos2.head()"
      ],
      "execution_count": null,
      "outputs": [
        {
          "output_type": "execute_result",
          "data": {
            "text/html": [
              "<div>\n",
              "<style scoped>\n",
              "    .dataframe tbody tr th:only-of-type {\n",
              "        vertical-align: middle;\n",
              "    }\n",
              "\n",
              "    .dataframe tbody tr th {\n",
              "        vertical-align: top;\n",
              "    }\n",
              "\n",
              "    .dataframe thead th {\n",
              "        text-align: right;\n",
              "    }\n",
              "</style>\n",
              "<table border=\"1\" class=\"dataframe\">\n",
              "  <thead>\n",
              "    <tr style=\"text-align: right;\">\n",
              "      <th></th>\n",
              "      <th>close_approach_data.close_approach_date</th>\n",
              "      <th>close_approach_data.close_approach_date_full</th>\n",
              "      <th>close_approach_data.epoch_date_close_approach</th>\n",
              "      <th>close_approach_data.orbiting_body</th>\n",
              "      <th>close_approach_data.relative_velocity.kilometers_per_second</th>\n",
              "      <th>close_approach_data.relative_velocity.kilometers_per_hour</th>\n",
              "      <th>close_approach_data.relative_velocity.miles_per_hour</th>\n",
              "      <th>close_approach_data.miss_distance.astronomical</th>\n",
              "      <th>close_approach_data.miss_distance.lunar</th>\n",
              "      <th>close_approach_data.miss_distance.kilometers</th>\n",
              "      <th>close_approach_data.miss_distance.miles</th>\n",
              "    </tr>\n",
              "  </thead>\n",
              "  <tbody>\n",
              "    <tr>\n",
              "      <th>0</th>\n",
              "      <td>1995-01-01</td>\n",
              "      <td>1995-Jan-01 10:08</td>\n",
              "      <td>788954880000</td>\n",
              "      <td>Earth</td>\n",
              "      <td>6.1687775767</td>\n",
              "      <td>22207.5992761981</td>\n",
              "      <td>13798.9385613687</td>\n",
              "      <td>0.4212616856</td>\n",
              "      <td>163.8707956984</td>\n",
              "      <td>63019850.878369672</td>\n",
              "      <td>39158719.5218665936</td>\n",
              "    </tr>\n",
              "    <tr>\n",
              "      <th>1</th>\n",
              "      <td>1995-01-01</td>\n",
              "      <td>1995-Jan-01 03:35</td>\n",
              "      <td>788931300000</td>\n",
              "      <td>Earth</td>\n",
              "      <td>18.1141417391</td>\n",
              "      <td>65210.9102609105</td>\n",
              "      <td>40519.5236562863</td>\n",
              "      <td>0.3829859177</td>\n",
              "      <td>148.9815219853</td>\n",
              "      <td>57293877.527915299</td>\n",
              "      <td>35600764.6664531662</td>\n",
              "    </tr>\n",
              "    <tr>\n",
              "      <th>2</th>\n",
              "      <td>1995-01-01</td>\n",
              "      <td>1995-Jan-01 14:07</td>\n",
              "      <td>788969220000</td>\n",
              "      <td>Earth</td>\n",
              "      <td>16.5197198656</td>\n",
              "      <td>59470.9915161269</td>\n",
              "      <td>36952.9613673401</td>\n",
              "      <td>0.2635480219</td>\n",
              "      <td>102.5201805191</td>\n",
              "      <td>39426222.718953353</td>\n",
              "      <td>24498318.7954201514</td>\n",
              "    </tr>\n",
              "    <tr>\n",
              "      <th>3</th>\n",
              "      <td>1995-01-01</td>\n",
              "      <td>1995-Jan-01 11:19</td>\n",
              "      <td>788959140000</td>\n",
              "      <td>Earth</td>\n",
              "      <td>19.3765128633</td>\n",
              "      <td>69755.4463077572</td>\n",
              "      <td>43343.3216238395</td>\n",
              "      <td>0.4132372129</td>\n",
              "      <td>160.7492758181</td>\n",
              "      <td>61819406.854576523</td>\n",
              "      <td>38412798.1943130974</td>\n",
              "    </tr>\n",
              "  </tbody>\n",
              "</table>\n",
              "</div>"
            ],
            "text/plain": [
              "  close_approach_data.close_approach_date  ... close_approach_data.miss_distance.miles\n",
              "0                              1995-01-01  ...                     39158719.5218665936\n",
              "1                              1995-01-01  ...                     35600764.6664531662\n",
              "2                              1995-01-01  ...                     24498318.7954201514\n",
              "3                              1995-01-01  ...                     38412798.1943130974\n",
              "\n",
              "[4 rows x 11 columns]"
            ]
          },
          "metadata": {
            "tags": []
          },
          "execution_count": 239
        }
      ]
    },
    {
      "cell_type": "code",
      "metadata": {
        "colab": {
          "base_uri": "https://localhost:8080/",
          "height": 334
        },
        "id": "Y2xJhCzTrGub",
        "outputId": "c319d7cb-918e-478a-c47b-7855fa100cce"
      },
      "source": [
        "df_completo = pd.concat([objetos1,objetos2],axis=1)\n",
        "df_completo = df_completo.drop(columns=['close_approach_data'])\n",
        "df_completo"
      ],
      "execution_count": null,
      "outputs": [
        {
          "output_type": "execute_result",
          "data": {
            "text/html": [
              "<div>\n",
              "<style scoped>\n",
              "    .dataframe tbody tr th:only-of-type {\n",
              "        vertical-align: middle;\n",
              "    }\n",
              "\n",
              "    .dataframe tbody tr th {\n",
              "        vertical-align: top;\n",
              "    }\n",
              "\n",
              "    .dataframe thead th {\n",
              "        text-align: right;\n",
              "    }\n",
              "</style>\n",
              "<table border=\"1\" class=\"dataframe\">\n",
              "  <thead>\n",
              "    <tr style=\"text-align: right;\">\n",
              "      <th></th>\n",
              "      <th>id</th>\n",
              "      <th>neo_reference_id</th>\n",
              "      <th>name</th>\n",
              "      <th>nasa_jpl_url</th>\n",
              "      <th>absolute_magnitude_h</th>\n",
              "      <th>is_potentially_hazardous_asteroid</th>\n",
              "      <th>is_sentry_object</th>\n",
              "      <th>links.self</th>\n",
              "      <th>estimated_diameter.kilometers.estimated_diameter_min</th>\n",
              "      <th>estimated_diameter.kilometers.estimated_diameter_max</th>\n",
              "      <th>estimated_diameter.meters.estimated_diameter_min</th>\n",
              "      <th>estimated_diameter.meters.estimated_diameter_max</th>\n",
              "      <th>estimated_diameter.miles.estimated_diameter_min</th>\n",
              "      <th>estimated_diameter.miles.estimated_diameter_max</th>\n",
              "      <th>estimated_diameter.feet.estimated_diameter_min</th>\n",
              "      <th>estimated_diameter.feet.estimated_diameter_max</th>\n",
              "      <th>close_approach_data.close_approach_date</th>\n",
              "      <th>close_approach_data.close_approach_date_full</th>\n",
              "      <th>close_approach_data.epoch_date_close_approach</th>\n",
              "      <th>close_approach_data.orbiting_body</th>\n",
              "      <th>close_approach_data.relative_velocity.kilometers_per_second</th>\n",
              "      <th>close_approach_data.relative_velocity.kilometers_per_hour</th>\n",
              "      <th>close_approach_data.relative_velocity.miles_per_hour</th>\n",
              "      <th>close_approach_data.miss_distance.astronomical</th>\n",
              "      <th>close_approach_data.miss_distance.lunar</th>\n",
              "      <th>close_approach_data.miss_distance.kilometers</th>\n",
              "      <th>close_approach_data.miss_distance.miles</th>\n",
              "    </tr>\n",
              "  </thead>\n",
              "  <tbody>\n",
              "    <tr>\n",
              "      <th>0</th>\n",
              "      <td>3703080</td>\n",
              "      <td>3703080</td>\n",
              "      <td>(2014 YW34)</td>\n",
              "      <td>http://ssd.jpl.nasa.gov/sbdb.cgi?sstr=3703080</td>\n",
              "      <td>21.70</td>\n",
              "      <td>True</td>\n",
              "      <td>False</td>\n",
              "      <td>http://www.neowsapp.com/rest/v1/neo/3703080?ap...</td>\n",
              "      <td>0.121494</td>\n",
              "      <td>0.271669</td>\n",
              "      <td>121.494041</td>\n",
              "      <td>271.668934</td>\n",
              "      <td>0.075493</td>\n",
              "      <td>0.168807</td>\n",
              "      <td>398.602509</td>\n",
              "      <td>891.302306</td>\n",
              "      <td>1995-01-01</td>\n",
              "      <td>1995-Jan-01 10:08</td>\n",
              "      <td>788954880000</td>\n",
              "      <td>Earth</td>\n",
              "      <td>6.1687775767</td>\n",
              "      <td>22207.5992761981</td>\n",
              "      <td>13798.9385613687</td>\n",
              "      <td>0.4212616856</td>\n",
              "      <td>163.8707956984</td>\n",
              "      <td>63019850.878369672</td>\n",
              "      <td>39158719.5218665936</td>\n",
              "    </tr>\n",
              "    <tr>\n",
              "      <th>1</th>\n",
              "      <td>3723955</td>\n",
              "      <td>3723955</td>\n",
              "      <td>(2015 NK3)</td>\n",
              "      <td>http://ssd.jpl.nasa.gov/sbdb.cgi?sstr=3723955</td>\n",
              "      <td>21.30</td>\n",
              "      <td>False</td>\n",
              "      <td>False</td>\n",
              "      <td>http://www.neowsapp.com/rest/v1/neo/3723955?ap...</td>\n",
              "      <td>0.146068</td>\n",
              "      <td>0.326618</td>\n",
              "      <td>146.067964</td>\n",
              "      <td>326.617897</td>\n",
              "      <td>0.090762</td>\n",
              "      <td>0.202951</td>\n",
              "      <td>479.225620</td>\n",
              "      <td>1071.581063</td>\n",
              "      <td>1995-01-01</td>\n",
              "      <td>1995-Jan-01 03:35</td>\n",
              "      <td>788931300000</td>\n",
              "      <td>Earth</td>\n",
              "      <td>18.1141417391</td>\n",
              "      <td>65210.9102609105</td>\n",
              "      <td>40519.5236562863</td>\n",
              "      <td>0.3829859177</td>\n",
              "      <td>148.9815219853</td>\n",
              "      <td>57293877.527915299</td>\n",
              "      <td>35600764.6664531662</td>\n",
              "    </tr>\n",
              "    <tr>\n",
              "      <th>2</th>\n",
              "      <td>3792437</td>\n",
              "      <td>3792437</td>\n",
              "      <td>(2017 XR61)</td>\n",
              "      <td>http://ssd.jpl.nasa.gov/sbdb.cgi?sstr=3792437</td>\n",
              "      <td>23.10</td>\n",
              "      <td>False</td>\n",
              "      <td>False</td>\n",
              "      <td>http://www.neowsapp.com/rest/v1/neo/3792437?ap...</td>\n",
              "      <td>0.063761</td>\n",
              "      <td>0.142574</td>\n",
              "      <td>63.760979</td>\n",
              "      <td>142.573883</td>\n",
              "      <td>0.039619</td>\n",
              "      <td>0.088591</td>\n",
              "      <td>209.189570</td>\n",
              "      <td>467.762099</td>\n",
              "      <td>1995-01-01</td>\n",
              "      <td>1995-Jan-01 14:07</td>\n",
              "      <td>788969220000</td>\n",
              "      <td>Earth</td>\n",
              "      <td>16.5197198656</td>\n",
              "      <td>59470.9915161269</td>\n",
              "      <td>36952.9613673401</td>\n",
              "      <td>0.2635480219</td>\n",
              "      <td>102.5201805191</td>\n",
              "      <td>39426222.718953353</td>\n",
              "      <td>24498318.7954201514</td>\n",
              "    </tr>\n",
              "    <tr>\n",
              "      <th>3</th>\n",
              "      <td>54105518</td>\n",
              "      <td>54105518</td>\n",
              "      <td>(2021 AW5)</td>\n",
              "      <td>http://ssd.jpl.nasa.gov/sbdb.cgi?sstr=54105518</td>\n",
              "      <td>26.54</td>\n",
              "      <td>False</td>\n",
              "      <td>False</td>\n",
              "      <td>http://www.neowsapp.com/rest/v1/neo/54105518?a...</td>\n",
              "      <td>0.013078</td>\n",
              "      <td>0.029244</td>\n",
              "      <td>13.078411</td>\n",
              "      <td>29.244216</td>\n",
              "      <td>0.008127</td>\n",
              "      <td>0.018172</td>\n",
              "      <td>42.908173</td>\n",
              "      <td>95.945593</td>\n",
              "      <td>1995-01-01</td>\n",
              "      <td>1995-Jan-01 11:19</td>\n",
              "      <td>788959140000</td>\n",
              "      <td>Earth</td>\n",
              "      <td>19.3765128633</td>\n",
              "      <td>69755.4463077572</td>\n",
              "      <td>43343.3216238395</td>\n",
              "      <td>0.4132372129</td>\n",
              "      <td>160.7492758181</td>\n",
              "      <td>61819406.854576523</td>\n",
              "      <td>38412798.1943130974</td>\n",
              "    </tr>\n",
              "  </tbody>\n",
              "</table>\n",
              "</div>"
            ],
            "text/plain": [
              "         id  ... close_approach_data.miss_distance.miles\n",
              "0   3703080  ...                     39158719.5218665936\n",
              "1   3723955  ...                     35600764.6664531662\n",
              "2   3792437  ...                     24498318.7954201514\n",
              "3  54105518  ...                     38412798.1943130974\n",
              "\n",
              "[4 rows x 27 columns]"
            ]
          },
          "metadata": {
            "tags": []
          },
          "execution_count": 240
        }
      ]
    },
    {
      "cell_type": "code",
      "metadata": {
        "id": "PoONVVBoQpFD"
      },
      "source": [
        "payload = {'api_key':'QAXLpeREJyy8YUciiVBq0v42tuc0Hjn6Izb6DiZj','start_date':'1995-01-01','end_date':'1995-01-01'}\n",
        "endpoint = \"https://api.nasa.gov/neo/rest/v1/feed\"\n",
        "\n",
        "dict_datos = {}\n",
        "for i in range(0,59):\n",
        "  try:\n",
        "    r = requests.get(endpoint, params=payload)\n",
        "\n",
        "    if r.status_code == 200:\n",
        "      json = r.json()\n",
        "\n",
        "      data = json['near_earth_objects']\n",
        "      dict_datos[i] = data\n",
        "\n",
        "      new_link = json['links']['next']\n",
        "      endpoint = new_link\n",
        "    \n",
        "  except:\n",
        "    continue"
      ],
      "execution_count": null,
      "outputs": []
    },
    {
      "cell_type": "code",
      "metadata": {
        "colab": {
          "base_uri": "https://localhost:8080/"
        },
        "id": "tT_B0DWmRIpV",
        "outputId": "7cd9bdc1-e610-41ea-bdc1-79d41fff246f"
      },
      "source": [
        "len(dict_datos)"
      ],
      "execution_count": null,
      "outputs": [
        {
          "output_type": "execute_result",
          "data": {
            "text/plain": [
              "59"
            ]
          },
          "metadata": {
            "tags": []
          },
          "execution_count": 196
        }
      ]
    },
    {
      "cell_type": "code",
      "metadata": {
        "colab": {
          "base_uri": "https://localhost:8080/"
        },
        "id": "zD_PbofvaYZs",
        "outputId": "bc93fdc3-3d1a-4865-bcb3-4d7024303832"
      },
      "source": [
        "lista_fechas = pd.date_range(start=\"1995-01-01\",end=\"1995-02-28\").strftime('%Y-%m-%d')\n",
        "\n",
        "len(lista_fechas)"
      ],
      "execution_count": null,
      "outputs": [
        {
          "output_type": "execute_result",
          "data": {
            "text/plain": [
              "59"
            ]
          },
          "metadata": {
            "tags": []
          },
          "execution_count": 197
        }
      ]
    },
    {
      "cell_type": "code",
      "metadata": {
        "colab": {
          "base_uri": "https://localhost:8080/",
          "height": 36
        },
        "id": "zJqyQNbvkuVR",
        "outputId": "1687cacf-48ce-4480-ae22-58e686e27288"
      },
      "source": [
        "lista_fechas[0]"
      ],
      "execution_count": null,
      "outputs": [
        {
          "output_type": "execute_result",
          "data": {
            "application/vnd.google.colaboratory.intrinsic+json": {
              "type": "string"
            },
            "text/plain": [
              "'1995-01-01'"
            ]
          },
          "metadata": {
            "tags": []
          },
          "execution_count": 198
        }
      ]
    },
    {
      "cell_type": "code",
      "metadata": {
        "id": "hgRp-S1-SqZn"
      },
      "source": [
        "for par in dict_datos:\n",
        "  normalizados = pd.json_normalize(dict_datos[par],record_path=[lista_fechas[par])\n",
        "  df = pd.DataFrame.from_dict(normalizados)\n",
        "  dict_datos[par] = df"
      ],
      "execution_count": null,
      "outputs": []
    },
    {
      "cell_type": "code",
      "metadata": {
        "id": "bOG9rK1DSsly"
      },
      "source": [
        "lista_de_dataframes = []\n",
        "\n",
        "for key in dict_datos:\n",
        "    lista_de_dataframes.append(dict_datos[key])"
      ],
      "execution_count": null,
      "outputs": []
    },
    {
      "cell_type": "code",
      "metadata": {
        "id": "ehFbEXgVSz0v"
      },
      "source": [
        "df_completo = pd.concat(lista_de_dataframes, axis=0).reset_index(drop=True)"
      ],
      "execution_count": null,
      "outputs": []
    },
    {
      "cell_type": "code",
      "metadata": {
        "colab": {
          "base_uri": "https://localhost:8080/",
          "height": 444
        },
        "id": "_7KPHqTNS3f6",
        "outputId": "ed4368fa-c395-4f61-e0a2-cf5675226e41"
      },
      "source": [
        "df_completo"
      ],
      "execution_count": null,
      "outputs": [
        {
          "output_type": "execute_result",
          "data": {
            "text/html": [
              "<div>\n",
              "<style scoped>\n",
              "    .dataframe tbody tr th:only-of-type {\n",
              "        vertical-align: middle;\n",
              "    }\n",
              "\n",
              "    .dataframe tbody tr th {\n",
              "        vertical-align: top;\n",
              "    }\n",
              "\n",
              "    .dataframe thead th {\n",
              "        text-align: right;\n",
              "    }\n",
              "</style>\n",
              "<table border=\"1\" class=\"dataframe\">\n",
              "  <thead>\n",
              "    <tr style=\"text-align: right;\">\n",
              "      <th></th>\n",
              "      <th>close_approach_date</th>\n",
              "      <th>close_approach_date_full</th>\n",
              "      <th>epoch_date_close_approach</th>\n",
              "      <th>orbiting_body</th>\n",
              "      <th>relative_velocity.kilometers_per_second</th>\n",
              "      <th>relative_velocity.kilometers_per_hour</th>\n",
              "      <th>relative_velocity.miles_per_hour</th>\n",
              "      <th>miss_distance.astronomical</th>\n",
              "      <th>miss_distance.lunar</th>\n",
              "      <th>miss_distance.kilometers</th>\n",
              "      <th>miss_distance.miles</th>\n",
              "    </tr>\n",
              "  </thead>\n",
              "  <tbody>\n",
              "    <tr>\n",
              "      <th>0</th>\n",
              "      <td>1995-01-01</td>\n",
              "      <td>1995-Jan-01 10:08</td>\n",
              "      <td>788954880000</td>\n",
              "      <td>Earth</td>\n",
              "      <td>6.1687775767</td>\n",
              "      <td>22207.5992761981</td>\n",
              "      <td>13798.9385613687</td>\n",
              "      <td>0.4212616856</td>\n",
              "      <td>163.8707956984</td>\n",
              "      <td>63019850.878369672</td>\n",
              "      <td>39158719.5218665936</td>\n",
              "    </tr>\n",
              "    <tr>\n",
              "      <th>1</th>\n",
              "      <td>1995-01-01</td>\n",
              "      <td>1995-Jan-01 03:35</td>\n",
              "      <td>788931300000</td>\n",
              "      <td>Earth</td>\n",
              "      <td>18.1141417391</td>\n",
              "      <td>65210.9102609105</td>\n",
              "      <td>40519.5236562863</td>\n",
              "      <td>0.3829859177</td>\n",
              "      <td>148.9815219853</td>\n",
              "      <td>57293877.527915299</td>\n",
              "      <td>35600764.6664531662</td>\n",
              "    </tr>\n",
              "    <tr>\n",
              "      <th>2</th>\n",
              "      <td>1995-01-01</td>\n",
              "      <td>1995-Jan-01 14:07</td>\n",
              "      <td>788969220000</td>\n",
              "      <td>Earth</td>\n",
              "      <td>16.5197198656</td>\n",
              "      <td>59470.9915161269</td>\n",
              "      <td>36952.9613673401</td>\n",
              "      <td>0.2635480219</td>\n",
              "      <td>102.5201805191</td>\n",
              "      <td>39426222.718953353</td>\n",
              "      <td>24498318.7954201514</td>\n",
              "    </tr>\n",
              "    <tr>\n",
              "      <th>3</th>\n",
              "      <td>1995-01-01</td>\n",
              "      <td>1995-Jan-01 11:19</td>\n",
              "      <td>788959140000</td>\n",
              "      <td>Earth</td>\n",
              "      <td>19.3765128633</td>\n",
              "      <td>69755.4463077572</td>\n",
              "      <td>43343.3216238395</td>\n",
              "      <td>0.4132372129</td>\n",
              "      <td>160.7492758181</td>\n",
              "      <td>61819406.854576523</td>\n",
              "      <td>38412798.1943130974</td>\n",
              "    </tr>\n",
              "    <tr>\n",
              "      <th>4</th>\n",
              "      <td>1995-01-02</td>\n",
              "      <td>1995-Jan-02 15:31</td>\n",
              "      <td>789060660000</td>\n",
              "      <td>Earth</td>\n",
              "      <td>14.9704950984</td>\n",
              "      <td>53893.7823541644</td>\n",
              "      <td>33487.500485564</td>\n",
              "      <td>0.0732050147</td>\n",
              "      <td>28.4767507183</td>\n",
              "      <td>10951314.272438689</td>\n",
              "      <td>6804831.1446803482</td>\n",
              "    </tr>\n",
              "    <tr>\n",
              "      <th>...</th>\n",
              "      <td>...</td>\n",
              "      <td>...</td>\n",
              "      <td>...</td>\n",
              "      <td>...</td>\n",
              "      <td>...</td>\n",
              "      <td>...</td>\n",
              "      <td>...</td>\n",
              "      <td>...</td>\n",
              "      <td>...</td>\n",
              "      <td>...</td>\n",
              "      <td>...</td>\n",
              "    </tr>\n",
              "    <tr>\n",
              "      <th>390</th>\n",
              "      <td>1995-02-28</td>\n",
              "      <td>1995-Feb-28 23:19</td>\n",
              "      <td>794013540000</td>\n",
              "      <td>Earth</td>\n",
              "      <td>3.4537107738</td>\n",
              "      <td>12433.3587857208</td>\n",
              "      <td>7725.6056299385</td>\n",
              "      <td>0.284938158</td>\n",
              "      <td>110.840943462</td>\n",
              "      <td>42626141.51852346</td>\n",
              "      <td>26486656.137045348</td>\n",
              "    </tr>\n",
              "    <tr>\n",
              "      <th>391</th>\n",
              "      <td>1995-02-28</td>\n",
              "      <td>1995-Feb-28 05:02</td>\n",
              "      <td>793947720000</td>\n",
              "      <td>Earth</td>\n",
              "      <td>18.3574799623</td>\n",
              "      <td>66086.9278641936</td>\n",
              "      <td>41063.8469276152</td>\n",
              "      <td>0.4218178172</td>\n",
              "      <td>164.0871308908</td>\n",
              "      <td>63103046.981169364</td>\n",
              "      <td>39210415.1829866632</td>\n",
              "    </tr>\n",
              "    <tr>\n",
              "      <th>392</th>\n",
              "      <td>1995-02-28</td>\n",
              "      <td>1995-Feb-28 17:27</td>\n",
              "      <td>793992420000</td>\n",
              "      <td>Earth</td>\n",
              "      <td>11.6584316545</td>\n",
              "      <td>41970.3539560484</td>\n",
              "      <td>26078.7457678569</td>\n",
              "      <td>0.1940774472</td>\n",
              "      <td>75.4961269608</td>\n",
              "      <td>29033572.716157464</td>\n",
              "      <td>18040625.5308984432</td>\n",
              "    </tr>\n",
              "    <tr>\n",
              "      <th>393</th>\n",
              "      <td>1995-02-28</td>\n",
              "      <td>1995-Feb-28 10:36</td>\n",
              "      <td>793967760000</td>\n",
              "      <td>Earth</td>\n",
              "      <td>5.3934832875</td>\n",
              "      <td>19416.5398351639</td>\n",
              "      <td>12064.6827659106</td>\n",
              "      <td>0.0691001415</td>\n",
              "      <td>26.8799550435</td>\n",
              "      <td>10337233.985098605</td>\n",
              "      <td>6423259.347846549</td>\n",
              "    </tr>\n",
              "    <tr>\n",
              "      <th>394</th>\n",
              "      <td>1995-02-28</td>\n",
              "      <td>1995-Feb-28 18:41</td>\n",
              "      <td>793996860000</td>\n",
              "      <td>Earth</td>\n",
              "      <td>10.9023424954</td>\n",
              "      <td>39248.4329835034</td>\n",
              "      <td>24387.4499279996</td>\n",
              "      <td>0.2649713193</td>\n",
              "      <td>103.0738432077</td>\n",
              "      <td>39639144.978369891</td>\n",
              "      <td>24630622.5524148558</td>\n",
              "    </tr>\n",
              "  </tbody>\n",
              "</table>\n",
              "<p>395 rows × 11 columns</p>\n",
              "</div>"
            ],
            "text/plain": [
              "    close_approach_date  ...  miss_distance.miles\n",
              "0            1995-01-01  ...  39158719.5218665936\n",
              "1            1995-01-01  ...  35600764.6664531662\n",
              "2            1995-01-01  ...  24498318.7954201514\n",
              "3            1995-01-01  ...  38412798.1943130974\n",
              "4            1995-01-02  ...   6804831.1446803482\n",
              "..                  ...  ...                  ...\n",
              "390          1995-02-28  ...   26486656.137045348\n",
              "391          1995-02-28  ...  39210415.1829866632\n",
              "392          1995-02-28  ...  18040625.5308984432\n",
              "393          1995-02-28  ...    6423259.347846549\n",
              "394          1995-02-28  ...  24630622.5524148558\n",
              "\n",
              "[395 rows x 11 columns]"
            ]
          },
          "metadata": {
            "tags": []
          },
          "execution_count": 203
        }
      ]
    },
    {
      "cell_type": "code",
      "metadata": {
        "colab": {
          "base_uri": "https://localhost:8080/"
        },
        "id": "TC43UWyseYYa",
        "outputId": "d8f5f406-ada0-4055-a03b-9261cc540ac5"
      },
      "source": [
        "from google.colab import drive\n",
        "drive.mount('/content/drive')"
      ],
      "execution_count": null,
      "outputs": [
        {
          "output_type": "stream",
          "text": [
            "Mounted at /content/drive\n"
          ],
          "name": "stdout"
        }
      ]
    },
    {
      "cell_type": "code",
      "metadata": {
        "id": "ExcYRWu5eW-Y"
      },
      "source": [
        "#df_completo.to_csv('../../Datasets/near_earth_objects-january_february_1995-raw.csv')"
      ],
      "execution_count": null,
      "outputs": []
    }
  ]
}