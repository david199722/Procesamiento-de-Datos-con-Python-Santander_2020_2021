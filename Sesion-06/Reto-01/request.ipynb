{
  "nbformat": 4,
  "nbformat_minor": 0,
  "metadata": {
    "kernelspec": {
      "display_name": "Python 3",
      "language": "python",
      "name": "python3"
    },
    "language_info": {
      "codemirror_mode": {
        "name": "ipython",
        "version": 3
      },
      "file_extension": ".py",
      "mimetype": "text/x-python",
      "name": "python",
      "nbconvert_exporter": "python",
      "pygments_lexer": "ipython3",
      "version": "3.8.3"
    },
    "colab": {
      "name": "request.ipynb",
      "provenance": []
    }
  },
  "cells": [
    {
      "cell_type": "markdown",
      "metadata": {
        "id": "kRzMIr0qsPYT"
      },
      "source": [
        "## Reto 1: Peticiones a una API usando requests\n",
        "\n",
        "### 1. Objetivos:\n",
        "    - Usar la librería Requests para hacer una petición HTTP a una API\n",
        " \n",
        "---\n",
        "    \n",
        "### 2. Desarrollo:"
      ]
    },
    {
      "cell_type": "markdown",
      "metadata": {
        "id": "zAOuiZtKsPYl"
      },
      "source": [
        "### a) Petición HTTP a API de NASA\n",
        "\n",
        "Vamos a implementar un programa que realice una llamada HTTP a la API de NASA.\n",
        "\n",
        "Puedes leer la documentación de la API [aquí](https://api.nasa.gov/), bajo el título de \"Asteroids NeoWs\"."
      ]
    },
    {
      "cell_type": "code",
      "metadata": {
        "id": "ZkbFx3yOsPYt"
      },
      "source": [
        "## Realiza aquí los imports necesarios\n",
        "import pandas as pd \n",
        "import requests"
      ],
      "execution_count": 1,
      "outputs": []
    },
    {
      "cell_type": "markdown",
      "metadata": {
        "id": "SuhJgrSYsPYy"
      },
      "source": [
        "Tu reto consiste en los siguientes pasos:\n",
        "\n",
        "1. Crea una cuenta en el API de NASA para obtener tu propia API Key. Copia la API Key en la celda debajo para que no la pierdas:"
      ]
    },
    {
      "cell_type": "code",
      "metadata": {
        "id": "FMK0eEPpsPYz"
      },
      "source": [
        "api_key = 'QAXLpeREJyy8YUciiVBq0v42tuc0Hjn6Izb6DiZj'"
      ],
      "execution_count": 27,
      "outputs": []
    },
    {
      "cell_type": "markdown",
      "metadata": {
        "id": "2OJUkJsusPY1"
      },
      "source": [
        "2. Asigna la variable `endpoint` -donde tendrás el URL base de la API de NASA- y la variable `payload` -donde tendrás el diccionario que usarás para pasar parámetros a tu petición.\n",
        "\n",
        "3. Usa tu diccionario `payload` para agregar los parámetros necesarios para pedir la hoja número 100 de la API. Durante el ejemplo, pedimos simplemente la primera hoja. En esta ocasión, debes de descubrir que parámetros requieres pasarle para obtener la hoja #100. Además queremos que el número de resultados que nos regresen sea menor al default. El default es 20, pero tú tienes que mandar los parámetros adecuados para que te regresen solamente 5 resultados"
      ]
    },
    {
      "cell_type": "code",
      "metadata": {
        "id": "W7oonE75sPY3"
      },
      "source": [
        "endpoint = \"https://api.nasa.gov/neo/rest/v1/neo/browse/\"\n",
        "payload = {'api_key':'QAXLpeREJyy8YUciiVBq0v42tuc0Hjn6Izb6DiZj','size':5, 'page':100}"
      ],
      "execution_count": 38,
      "outputs": []
    },
    {
      "cell_type": "markdown",
      "metadata": {
        "id": "9D_GvoVRsPY6"
      },
      "source": [
        "4. Realiza tu petición HTTP aquí debajo y checa tu código de respuesta para asegurarte de que la petición se haya hecho exitosamente:"
      ]
    },
    {
      "cell_type": "code",
      "metadata": {
        "id": "Hnqom9mjsPY8",
        "outputId": "7cfb213d-5f1e-44b2-c037-abffdc482639",
        "colab": {
          "base_uri": "https://localhost:8080/"
        }
      },
      "source": [
        "r = requests.get(endpoint, params=payload)\n",
        "r.status_code"
      ],
      "execution_count": 39,
      "outputs": [
        {
          "output_type": "execute_result",
          "data": {
            "text/plain": [
              "200"
            ]
          },
          "metadata": {
            "tags": []
          },
          "execution_count": 39
        }
      ]
    },
    {
      "cell_type": "code",
      "metadata": {
        "id": "JgLN6h8Ouflz"
      },
      "source": [
        "json = r.json()\n",
        "data = json['near_earth_objects']"
      ],
      "execution_count": 40,
      "outputs": []
    },
    {
      "cell_type": "markdown",
      "metadata": {
        "id": "1ryBnEcGsPY_"
      },
      "source": [
        "5. Si todo ha salido bien, extrae tus datos, normalízalos, crea un `DataFrame` con ellos y asígnalo a `objetos`. Revisa que solamente tengas 5 filas, para saber que tu petición se realizó exitosamente:"
      ]
    },
    {
      "cell_type": "code",
      "metadata": {
        "id": "zxtjshsosPZA",
        "outputId": "4df9d501-0ba7-43ba-a241-37bda567d6fd",
        "colab": {
          "base_uri": "https://localhost:8080/",
          "height": 400
        }
      },
      "source": [
        "normalized = pd.json_normalize(data)\n",
        "\n",
        "objetos = pd.DataFrame.from_dict(normalized)\n",
        "\n",
        "objetos.head()"
      ],
      "execution_count": 41,
      "outputs": [
        {
          "output_type": "execute_result",
          "data": {
            "text/html": [
              "<div>\n",
              "<style scoped>\n",
              "    .dataframe tbody tr th:only-of-type {\n",
              "        vertical-align: middle;\n",
              "    }\n",
              "\n",
              "    .dataframe tbody tr th {\n",
              "        vertical-align: top;\n",
              "    }\n",
              "\n",
              "    .dataframe thead th {\n",
              "        text-align: right;\n",
              "    }\n",
              "</style>\n",
              "<table border=\"1\" class=\"dataframe\">\n",
              "  <thead>\n",
              "    <tr style=\"text-align: right;\">\n",
              "      <th></th>\n",
              "      <th>id</th>\n",
              "      <th>neo_reference_id</th>\n",
              "      <th>name</th>\n",
              "      <th>designation</th>\n",
              "      <th>nasa_jpl_url</th>\n",
              "      <th>absolute_magnitude_h</th>\n",
              "      <th>is_potentially_hazardous_asteroid</th>\n",
              "      <th>close_approach_data</th>\n",
              "      <th>is_sentry_object</th>\n",
              "      <th>links.self</th>\n",
              "      <th>estimated_diameter.kilometers.estimated_diameter_min</th>\n",
              "      <th>estimated_diameter.kilometers.estimated_diameter_max</th>\n",
              "      <th>estimated_diameter.meters.estimated_diameter_min</th>\n",
              "      <th>estimated_diameter.meters.estimated_diameter_max</th>\n",
              "      <th>estimated_diameter.miles.estimated_diameter_min</th>\n",
              "      <th>estimated_diameter.miles.estimated_diameter_max</th>\n",
              "      <th>estimated_diameter.feet.estimated_diameter_min</th>\n",
              "      <th>estimated_diameter.feet.estimated_diameter_max</th>\n",
              "      <th>orbital_data.orbit_id</th>\n",
              "      <th>orbital_data.orbit_determination_date</th>\n",
              "      <th>orbital_data.first_observation_date</th>\n",
              "      <th>orbital_data.last_observation_date</th>\n",
              "      <th>orbital_data.data_arc_in_days</th>\n",
              "      <th>orbital_data.observations_used</th>\n",
              "      <th>orbital_data.orbit_uncertainty</th>\n",
              "      <th>orbital_data.minimum_orbit_intersection</th>\n",
              "      <th>orbital_data.jupiter_tisserand_invariant</th>\n",
              "      <th>orbital_data.epoch_osculation</th>\n",
              "      <th>orbital_data.eccentricity</th>\n",
              "      <th>orbital_data.semi_major_axis</th>\n",
              "      <th>orbital_data.inclination</th>\n",
              "      <th>orbital_data.ascending_node_longitude</th>\n",
              "      <th>orbital_data.orbital_period</th>\n",
              "      <th>orbital_data.perihelion_distance</th>\n",
              "      <th>orbital_data.perihelion_argument</th>\n",
              "      <th>orbital_data.aphelion_distance</th>\n",
              "      <th>orbital_data.perihelion_time</th>\n",
              "      <th>orbital_data.mean_anomaly</th>\n",
              "      <th>orbital_data.mean_motion</th>\n",
              "      <th>orbital_data.equinox</th>\n",
              "      <th>orbital_data.orbit_class.orbit_class_type</th>\n",
              "      <th>orbital_data.orbit_class.orbit_class_description</th>\n",
              "      <th>orbital_data.orbit_class.orbit_class_range</th>\n",
              "    </tr>\n",
              "  </thead>\n",
              "  <tbody>\n",
              "    <tr>\n",
              "      <th>0</th>\n",
              "      <td>2140333</td>\n",
              "      <td>2140333</td>\n",
              "      <td>140333 (2001 TD2)</td>\n",
              "      <td>140333</td>\n",
              "      <td>http://ssd.jpl.nasa.gov/sbdb.cgi?sstr=2140333</td>\n",
              "      <td>19.18</td>\n",
              "      <td>False</td>\n",
              "      <td>[{'close_approach_date': '1900-09-08', 'close_...</td>\n",
              "      <td>False</td>\n",
              "      <td>http://www.neowsapp.com/rest/v1/neo/2140333?ap...</td>\n",
              "      <td>0.387753</td>\n",
              "      <td>0.867042</td>\n",
              "      <td>387.752830</td>\n",
              "      <td>867.041687</td>\n",
              "      <td>0.240938</td>\n",
              "      <td>0.538755</td>\n",
              "      <td>1272.154996</td>\n",
              "      <td>2844.625049</td>\n",
              "      <td>121</td>\n",
              "      <td>2021-05-08 05:51:01</td>\n",
              "      <td>2001-10-10</td>\n",
              "      <td>2021-01-06</td>\n",
              "      <td>7028</td>\n",
              "      <td>572</td>\n",
              "      <td>0</td>\n",
              "      <td>.184933</td>\n",
              "      <td>6.122</td>\n",
              "      <td>2459396.5</td>\n",
              "      <td>.481498626701701</td>\n",
              "      <td>.9618563697417135</td>\n",
              "      <td>19.0339433446623</td>\n",
              "      <td>12.83638397479034</td>\n",
              "      <td>344.5591321907448</td>\n",
              "      <td>.4987238486267949</td>\n",
              "      <td>199.0722393617349</td>\n",
              "      <td>1.424988890856632</td>\n",
              "      <td>2459321.642070728782</td>\n",
              "      <td>78.21256794528897</td>\n",
              "      <td>1.044813404628345</td>\n",
              "      <td>J2000</td>\n",
              "      <td>ATE</td>\n",
              "      <td>Near-Earth asteroid orbits similar to that of ...</td>\n",
              "      <td>a (semi-major axis) &lt; 1.0 AU; q (perihelion) &gt;...</td>\n",
              "    </tr>\n",
              "    <tr>\n",
              "      <th>1</th>\n",
              "      <td>2140928</td>\n",
              "      <td>2140928</td>\n",
              "      <td>140928 (2001 VG75)</td>\n",
              "      <td>140928</td>\n",
              "      <td>http://ssd.jpl.nasa.gov/sbdb.cgi?sstr=2140928</td>\n",
              "      <td>18.12</td>\n",
              "      <td>False</td>\n",
              "      <td>[{'close_approach_date': '1902-12-19', 'close_...</td>\n",
              "      <td>False</td>\n",
              "      <td>http://www.neowsapp.com/rest/v1/neo/2140928?ap...</td>\n",
              "      <td>0.631764</td>\n",
              "      <td>1.412668</td>\n",
              "      <td>631.764148</td>\n",
              "      <td>1412.667581</td>\n",
              "      <td>0.392560</td>\n",
              "      <td>0.877791</td>\n",
              "      <td>2072.717088</td>\n",
              "      <td>4634.736307</td>\n",
              "      <td>131</td>\n",
              "      <td>2021-07-29 05:49:13</td>\n",
              "      <td>1976-03-07</td>\n",
              "      <td>2021-07-29</td>\n",
              "      <td>16580</td>\n",
              "      <td>560</td>\n",
              "      <td>0</td>\n",
              "      <td>.246407</td>\n",
              "      <td>4.391</td>\n",
              "      <td>2459396.5</td>\n",
              "      <td>.2970529587825401</td>\n",
              "      <td>1.518737619105291</td>\n",
              "      <td>20.66216811262807</td>\n",
              "      <td>245.473474504493</td>\n",
              "      <td>683.6322665893848</td>\n",
              "      <td>1.067592115735714</td>\n",
              "      <td>257.2908692004984</td>\n",
              "      <td>1.969883122474868</td>\n",
              "      <td>2459216.322996030936</td>\n",
              "      <td>94.88101220333812</td>\n",
              "      <td>.5265989005990402</td>\n",
              "      <td>J2000</td>\n",
              "      <td>AMO</td>\n",
              "      <td>Near-Earth asteroid orbits similar to that of ...</td>\n",
              "      <td>1.017 AU &lt; q (perihelion) &lt; 1.3 AU</td>\n",
              "    </tr>\n",
              "    <tr>\n",
              "      <th>2</th>\n",
              "      <td>2141018</td>\n",
              "      <td>2141018</td>\n",
              "      <td>141018 (2001 WC47)</td>\n",
              "      <td>141018</td>\n",
              "      <td>http://ssd.jpl.nasa.gov/sbdb.cgi?sstr=2141018</td>\n",
              "      <td>18.90</td>\n",
              "      <td>False</td>\n",
              "      <td>[{'close_approach_date': '1915-12-22', 'close_...</td>\n",
              "      <td>False</td>\n",
              "      <td>http://www.neowsapp.com/rest/v1/neo/2141018?ap...</td>\n",
              "      <td>0.441118</td>\n",
              "      <td>0.986370</td>\n",
              "      <td>441.118200</td>\n",
              "      <td>986.370281</td>\n",
              "      <td>0.274098</td>\n",
              "      <td>0.612902</td>\n",
              "      <td>1447.238235</td>\n",
              "      <td>3236.123074</td>\n",
              "      <td>231</td>\n",
              "      <td>2021-04-18 06:26:20</td>\n",
              "      <td>1991-12-07</td>\n",
              "      <td>2019-12-10</td>\n",
              "      <td>10230</td>\n",
              "      <td>1504</td>\n",
              "      <td>0</td>\n",
              "      <td>.0784663</td>\n",
              "      <td>4.725</td>\n",
              "      <td>2459396.5</td>\n",
              "      <td>.2413687395279304</td>\n",
              "      <td>1.398680269611334</td>\n",
              "      <td>2.868985317137787</td>\n",
              "      <td>91.61835418305242</td>\n",
              "      <td>604.1935709192687</td>\n",
              "      <td>1.06108257593266</td>\n",
              "      <td>101.3881385313048</td>\n",
              "      <td>1.736277963290007</td>\n",
              "      <td>2459650.915299197532</td>\n",
              "      <td>208.4103239103323</td>\n",
              "      <td>.5958355357079802</td>\n",
              "      <td>J2000</td>\n",
              "      <td>AMO</td>\n",
              "      <td>Near-Earth asteroid orbits similar to that of ...</td>\n",
              "      <td>1.017 AU &lt; q (perihelion) &lt; 1.3 AU</td>\n",
              "    </tr>\n",
              "    <tr>\n",
              "      <th>3</th>\n",
              "      <td>2141052</td>\n",
              "      <td>2141052</td>\n",
              "      <td>141052 (2001 XR1)</td>\n",
              "      <td>141052</td>\n",
              "      <td>http://ssd.jpl.nasa.gov/sbdb.cgi?sstr=2141052</td>\n",
              "      <td>17.37</td>\n",
              "      <td>False</td>\n",
              "      <td>[{'close_approach_date': '1902-01-27', 'close_...</td>\n",
              "      <td>False</td>\n",
              "      <td>http://www.neowsapp.com/rest/v1/neo/2141052?ap...</td>\n",
              "      <td>0.892391</td>\n",
              "      <td>1.995446</td>\n",
              "      <td>892.390579</td>\n",
              "      <td>1995.445996</td>\n",
              "      <td>0.554506</td>\n",
              "      <td>1.239912</td>\n",
              "      <td>2927.790706</td>\n",
              "      <td>6546.739043</td>\n",
              "      <td>195</td>\n",
              "      <td>2021-05-09 06:09:01</td>\n",
              "      <td>1987-11-27</td>\n",
              "      <td>2020-12-17</td>\n",
              "      <td>12074</td>\n",
              "      <td>878</td>\n",
              "      <td>0</td>\n",
              "      <td>.102852</td>\n",
              "      <td>4.956</td>\n",
              "      <td>2459396.5</td>\n",
              "      <td>.5500183681919327</td>\n",
              "      <td>1.245486664240199</td>\n",
              "      <td>17.66022136591867</td>\n",
              "      <td>291.5203793190294</td>\n",
              "      <td>507.6998669069965</td>\n",
              "      <td>.5604461215699912</td>\n",
              "      <td>304.1494744605413</td>\n",
              "      <td>1.930527206910407</td>\n",
              "      <td>2459496.559884690382</td>\n",
              "      <td>289.0495018090363</td>\n",
              "      <td>.7090803513366825</td>\n",
              "      <td>J2000</td>\n",
              "      <td>APO</td>\n",
              "      <td>Near-Earth asteroid orbits which cross the Ear...</td>\n",
              "      <td>a (semi-major axis) &gt; 1.0 AU; q (perihelion) &lt;...</td>\n",
              "    </tr>\n",
              "    <tr>\n",
              "      <th>4</th>\n",
              "      <td>2141053</td>\n",
              "      <td>2141053</td>\n",
              "      <td>141053 (2001 XT1)</td>\n",
              "      <td>141053</td>\n",
              "      <td>http://ssd.jpl.nasa.gov/sbdb.cgi?sstr=2141053</td>\n",
              "      <td>18.80</td>\n",
              "      <td>True</td>\n",
              "      <td>[{'close_approach_date': '1901-07-14', 'close_...</td>\n",
              "      <td>False</td>\n",
              "      <td>http://www.neowsapp.com/rest/v1/neo/2141053?ap...</td>\n",
              "      <td>0.461907</td>\n",
              "      <td>1.032856</td>\n",
              "      <td>461.907460</td>\n",
              "      <td>1032.856481</td>\n",
              "      <td>0.287016</td>\n",
              "      <td>0.641787</td>\n",
              "      <td>1515.444472</td>\n",
              "      <td>3388.636855</td>\n",
              "      <td>83</td>\n",
              "      <td>2021-04-18 06:26:20</td>\n",
              "      <td>2001-12-09</td>\n",
              "      <td>2021-02-10</td>\n",
              "      <td>7003</td>\n",
              "      <td>438</td>\n",
              "      <td>0</td>\n",
              "      <td>.0412821</td>\n",
              "      <td>4.286</td>\n",
              "      <td>2459396.5</td>\n",
              "      <td>.579580683397446</td>\n",
              "      <td>1.52867362532933</td>\n",
              "      <td>2.731355038658135</td>\n",
              "      <td>316.2497418312036</td>\n",
              "      <td>690.3519975189483</td>\n",
              "      <td>.6426839208693059</td>\n",
              "      <td>31.329337390005</td>\n",
              "      <td>2.414663329789355</td>\n",
              "      <td>2459089.648210038455</td>\n",
              "      <td>160.0149558242197</td>\n",
              "      <td>.5214731054502656</td>\n",
              "      <td>J2000</td>\n",
              "      <td>APO</td>\n",
              "      <td>Near-Earth asteroid orbits which cross the Ear...</td>\n",
              "      <td>a (semi-major axis) &gt; 1.0 AU; q (perihelion) &lt;...</td>\n",
              "    </tr>\n",
              "  </tbody>\n",
              "</table>\n",
              "</div>"
            ],
            "text/plain": [
              "        id  ...         orbital_data.orbit_class.orbit_class_range\n",
              "0  2140333  ...  a (semi-major axis) < 1.0 AU; q (perihelion) >...\n",
              "1  2140928  ...                 1.017 AU < q (perihelion) < 1.3 AU\n",
              "2  2141018  ...                 1.017 AU < q (perihelion) < 1.3 AU\n",
              "3  2141052  ...  a (semi-major axis) > 1.0 AU; q (perihelion) <...\n",
              "4  2141053  ...  a (semi-major axis) > 1.0 AU; q (perihelion) <...\n",
              "\n",
              "[5 rows x 43 columns]"
            ]
          },
          "metadata": {
            "tags": []
          },
          "execution_count": 41
        }
      ]
    },
    {
      "cell_type": "markdown",
      "metadata": {
        "id": "0RTJrpcdsPZB"
      },
      "source": [
        "6. Pídele a tu experta la función de verificación `visualizar_diametros` (encontrada en el archivo `helpers.py` de la carpeta donde se encuentra este Reto), pégala debajo y corre la celda para verificar tu resultado:"
      ]
    },
    {
      "cell_type": "code",
      "metadata": {
        "id": "Oe3G0lU3sPZE",
        "outputId": "2544a022-3ae5-42c8-942d-19fa77e49bed",
        "colab": {
          "base_uri": "https://localhost:8080/",
          "height": 374
        }
      },
      "source": [
        "# Pega aquí la función de verificación\n",
        "def visualizar_diametros(objetos):\n",
        "    \n",
        "    import seaborn as sns\n",
        "    \n",
        "    sizes = objetos[['name', 'estimated_diameter.kilometers.estimated_diameter_max']].copy()\n",
        "    sizes.sort_values('estimated_diameter.kilometers.estimated_diameter_max', ascending=True, inplace=True)\n",
        "    sns.barplot(sizes['name'], sizes['estimated_diameter.kilometers.estimated_diameter_max'])\n",
        "    \n",
        "visualizar_diametros(objetos)"
      ],
      "execution_count": 42,
      "outputs": [
        {
          "output_type": "stream",
          "text": [
            "/usr/local/lib/python3.7/dist-packages/seaborn/_decorators.py:43: FutureWarning: Pass the following variables as keyword args: x, y. From version 0.12, the only valid positional argument will be `data`, and passing other arguments without an explicit keyword will result in an error or misinterpretation.\n",
            "  FutureWarning\n"
          ],
          "name": "stderr"
        },
        {
          "output_type": "display_data",
          "data": {
            "image/png": "[encoded data removed]",
            "text/plain": [
              "<Figure size 432x288 with 1 Axes>"
            ]
          },
          "metadata": {
            "tags": [],
            "needs_background": "light"
          }
        }
      ]
    },
    {
      "cell_type": "code",
      "metadata": {
        "id": "w8b8GesRsPZG"
      },
      "source": [
        ""
      ],
      "execution_count": null,
      "outputs": []
    }
  ]
}