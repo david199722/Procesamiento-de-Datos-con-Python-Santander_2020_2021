{
  "nbformat": 4,
  "nbformat_minor": 0,
  "metadata": {
    "kernelspec": {
      "display_name": "Python 3",
      "language": "python",
      "name": "python3"
    },
    "language_info": {
      "codemirror_mode": {
        "name": "ipython",
        "version": 3
      },
      "file_extension": ".py",
      "mimetype": "text/x-python",
      "name": "python",
      "nbconvert_exporter": "python",
      "pygments_lexer": "ipython3",
      "version": "3.8.3"
    },
    "colab": {
      "name": "modificando_diccionarios.ipynb",
      "provenance": []
    }
  },
  "cells": [
    {
      "cell_type": "markdown",
      "metadata": {
        "id": "pEvw5mAT72GY"
      },
      "source": [
        "## Reto 4: Modificando diccionarios\n",
        "\n",
        "### 1. Objetivos:\n",
        "    - Practicar agregar datos, modificar datos y eliminar datos de diccionarios\n",
        " \n",
        "---\n",
        "    \n",
        "### 2. Desarrollo:"
      ]
    },
    {
      "cell_type": "markdown",
      "metadata": {
        "id": "jMK6BUIc72Gp"
      },
      "source": [
        "Debajo tienes un diccionario que contiene algo de información sobre una persona:"
      ]
    },
    {
      "cell_type": "code",
      "metadata": {
        "id": "rtHjcL8h72HO"
      },
      "source": [
        "registro = {\n",
        "    \"id\": \"23f-58j-kju7-54re\",\n",
        "    \"nombre\": \"Alberto\",\n",
        "    \"apellido_materno\": \"Gutierrez\",\n",
        "    \"apellido_paterno\": \"Sosa\",\n",
        "    \"profesion\": \"Contador\",\n",
        "    \"ultimo_nivel_de_estudios\": \"Maestría\",\n",
        "    \"lugar_de_estudios\": \"UAM\",\n",
        "    \"numero_de_cuenta\": \"25367890\",\n",
        "    \"nip_de_cajero\": \"142\"\n",
        "}\n",
        "\n",
        "# Tu código va aquí\n",
        "registro[\"nombre\"] = \"David\"\n",
        "registro[\"apellido_materno\"]=\"Canul\"\n",
        "registro[\"apellido_paterno\"]=\"Uc\"\n",
        "registro[\"profesion\"]=\"Geofísico\"\n",
        "registro[\"ultimo_nivel_de_estudios\"]=\"Licenciatura\"\n",
        "registro[\"lugar_de_estudios\"]=\"UNAM\"\n",
        "registro[\"numero_de_cuenta\"]=\"416065189\"\n",
        "registro[\"fecha_de_nacimiento\"] = \"6-Octubre\"\n",
        "registro[\"lugar_de_nacimiento\"] = \"Tabasco\"\n",
        "\n",
        "registro.pop(\"nip_de_cajero\")"
      ],
      "execution_count": 15,
      "outputs": []
    },
    {
      "cell_type": "code",
      "metadata": {
        "id": "fjqgJhddChze",
        "outputId": "24fd0852-06b7-4e0e-9f64-6d867d856d26",
        "colab": {
          "base_uri": "https://localhost:8080/"
        }
      },
      "source": [
        "registro"
      ],
      "execution_count": 17,
      "outputs": [
        {
          "output_type": "execute_result",
          "data": {
            "text/plain": [
              "{'apellido_materno': 'Canul',\n",
              " 'apellido_paterno': 'Uc',\n",
              " 'fecha_de_nacimiento': '6-Octubre',\n",
              " 'id': '23f-58j-kju7-54re',\n",
              " 'lugar_de_estudios': 'UNAM',\n",
              " 'lugar_de_nacimiento': 'Tabasco',\n",
              " 'nombre': 'David',\n",
              " 'numero_de_cuenta': '416065189',\n",
              " 'profesion': 'Geofísico',\n",
              " 'ultimo_nivel_de_estudios': 'Licenciatura'}"
            ]
          },
          "metadata": {
            "tags": []
          },
          "execution_count": 17
        }
      ]
    },
    {
      "cell_type": "markdown",
      "metadata": {
        "id": "4pTgez0b72HR"
      },
      "source": [
        "Ahora, tenemos una serie de `prints` que imprimen esta información en forma de tabla:"
      ]
    },
    {
      "cell_type": "code",
      "metadata": {
        "id": "pSHAJTFJ72HS",
        "outputId": "5356db09-8813-49e1-96bc-6f9db024ae45",
        "colab": {
          "base_uri": "https://localhost:8080/"
        }
      },
      "source": [
        "print(f'Registro con id: {registro[\"id\"]}\\n')\n",
        "print(f'---------------------------------------\\n')\n",
        "print(f'{(\"Nombre\"):25} | {registro[\"nombre\"]:25}')\n",
        "print(f'{(\"Apellido Materno\"):25} | {registro[\"apellido_materno\"]:25}')\n",
        "print(f'{(\"Apellido Paterno\"):25} | {registro[\"apellido_paterno\"]:25}')\n",
        "print(f'{(\"Profesión\"):25} | {registro[\"profesion\"]:25}')\n",
        "print(f'{(\"Último nivel de estudios\"):25} | {registro[\"ultimo_nivel_de_estudios\"]:25}')\n",
        "print(f'{(\"Lugar de estudios\"):25} | {registro[\"lugar_de_estudios\"]:25}')\n",
        "print(f'{(\"Fecha de nacimiento\"):25} | {registro[\"fecha_de_nacimiento\"]:25}')\n",
        "print(f'{(\"Lugar de nacimiento\"):25} | {registro[\"lugar_de_nacimiento\"]:25}')"
      ],
      "execution_count": 18,
      "outputs": [
        {
          "output_type": "stream",
          "text": [
            "Registro con id: 23f-58j-kju7-54re\n",
            "\n",
            "---------------------------------------\n",
            "\n",
            "Nombre                    | David                    \n",
            "Apellido Materno          | Canul                    \n",
            "Apellido Paterno          | Uc                       \n",
            "Profesión                 | Geofísico                \n",
            "Último nivel de estudios  | Licenciatura             \n",
            "Lugar de estudios         | UNAM                     \n",
            "Fecha de nacimiento       | 6-Octubre                \n",
            "Lugar de nacimiento       | Tabasco                  \n"
          ],
          "name": "stdout"
        }
      ]
    },
    {
      "cell_type": "markdown",
      "metadata": {
        "id": "jkQr7-pY72HW"
      },
      "source": [
        "La actividad tienen 3 partes:\n",
        "\n",
        "1. Usando la técnica para modificar valores en un diccionario, cambia la información del diccionario para que sea la tuya.\n",
        "2. Usando la técnica para agregar datos al diccionario agrega las llaves que estén siendo accesadas en el `print` pero que no han sido agregadas al diccionario.\n",
        "3. Usando la técnica para eliminar datos del diccionario, elimina los datos sensibles que no quieras que estén incluidos en el diccionario.\n",
        "\n",
        "Recuerda sólo utilizar métodos y operadores para realizar el ejercicio. **No reescribas el diccionario directamente**."
      ]
    },
    {
      "cell_type": "code",
      "metadata": {
        "id": "EFHvSWhw72Hj"
      },
      "source": [
        ""
      ],
      "execution_count": null,
      "outputs": []
    }
  ]
}